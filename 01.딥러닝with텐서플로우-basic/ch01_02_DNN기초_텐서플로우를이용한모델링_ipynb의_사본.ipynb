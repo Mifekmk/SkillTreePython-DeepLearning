{
  "nbformat": 4,
  "nbformat_minor": 0,
  "metadata": {
    "colab": {
      "name": "ch01_02_DNN기초-텐서플로우를이용한모델링.ipynb의 사본",
      "provenance": [],
      "collapsed_sections": [],
      "include_colab_link": true
    },
    "kernelspec": {
      "name": "python3",
      "display_name": "Python 3"
    },
    "language_info": {
      "name": "python"
    }
  },
  "cells": [
    {
      "cell_type": "markdown",
      "metadata": {
        "id": "view-in-github",
        "colab_type": "text"
      },
      "source": [
        "<a href=\"https://colab.research.google.com/github/Mifekmk/SkillTreePython-DeepLearning/blob/main/01.%EB%94%A5%EB%9F%AC%EB%8B%9Dwith%ED%85%90%EC%84%9C%ED%94%8C%EB%A1%9C%EC%9A%B0-basic/ch01_02_DNN%EA%B8%B0%EC%B4%88_%ED%85%90%EC%84%9C%ED%94%8C%EB%A1%9C%EC%9A%B0%EB%A5%BC%EC%9D%B4%EC%9A%A9%ED%95%9C%EB%AA%A8%EB%8D%B8%EB%A7%81_ipynb%EC%9D%98_%EC%82%AC%EB%B3%B8.ipynb\" target=\"_parent\"><img src=\"https://colab.research.google.com/assets/colab-badge.svg\" alt=\"Open In Colab\"/></a>"
      ]
    },
    {
      "cell_type": "markdown",
      "source": [
        "# ch01_02_DNN기초-텐서플로우를 이용한 모델링\n",
        "\n",
        "---\n",
        "* 날짜: 2022-06-27\n",
        "* 이름: 김민규\n",
        "\n",
        "## 학습내용\n",
        "    - 텐서플로우를 이용해 모델을 구현한다.\n",
        "    - 생성한 모델을 이용해 순전파 계산을 진행한다.\n",
        "    - 텐서플로우로 모델을 구현하는 여러 방법에 대해서 배워본다. \n",
        "\n",
        "## 학습자료\n",
        "\n",
        "\n",
        "- 케라스 창시자에게 배우는 딥러닝\n",
        "- 텐서플로우 케라스 : https://www.tensorflow.org/?hl=ko\n"
      ],
      "metadata": {
        "id": "ARxSsvgZFhdx"
      }
    },
    {
      "cell_type": "code",
      "source": [
        "import numpy as np\n",
        "import tensorflow as tf\n",
        "tf.__version__"
      ],
      "metadata": {
        "id": "FH_uBeAD1qZ1",
        "colab": {
          "base_uri": "https://localhost:8080/",
          "height": 35
        },
        "outputId": "7a6e04c1-b9f9-4c5d-ce13-23dc883c598c"
      },
      "execution_count": null,
      "outputs": [
        {
          "output_type": "execute_result",
          "data": {
            "text/plain": [
              "'2.8.2'"
            ],
            "application/vnd.google.colaboratory.intrinsic+json": {
              "type": "string"
            }
          },
          "metadata": {},
          "execution_count": 1
        }
      ]
    },
    {
      "cell_type": "markdown",
      "source": [
        "## DNN 기본 이해\n",
        "---"
      ],
      "metadata": {
        "id": "MzqveLvV0dks"
      }
    },
    {
      "cell_type": "markdown",
      "source": [
        "\n",
        "### | 모델링 (1)\n",
        "\n",
        "\n",
        "<p align='center'>\n",
        "<img src=https://github.com/yebiny/SkillTreePython-DeepLearning/blob/main/imgs/ch0101-01.png?raw=true width=450>\n",
        "</p>\n"
      ],
      "metadata": {
        "id": "5f0taefIrVkW"
      }
    },
    {
      "cell_type": "markdown",
      "source": [
        "#### **모델 구현**"
      ],
      "metadata": {
        "id": "Spn6iy6TMZLE"
      }
    },
    {
      "cell_type": "code",
      "source": [
        "# 모든 레이어는 tensorflow.keras에 있다.\n",
        "from tensorflow.keras import layers, models\n",
        "\n",
        "x = layers.Input(shape=(3), name='input_layer') # X : (데이터개수,3)\n",
        "y = layers.Dense(1, name='output_layer')(x) # Linear : W, b  Dense(output_shape)\n",
        "\n",
        "model1 = models.Model(inputs=x, outputs=y, name='Model_1')"
      ],
      "metadata": {
        "id": "ol1G6zFpzzQy"
      },
      "execution_count": null,
      "outputs": []
    },
    {
      "cell_type": "markdown",
      "source": [
        "* 모델 시각화\n",
        "  * `.summary()`\n",
        "  * `tensorflow.keras.utils.plot_model()`"
      ],
      "metadata": {
        "id": "buNi5cvx6s_f"
      }
    },
    {
      "cell_type": "code",
      "source": [
        "from tensorflow.keras import  utils\n",
        "\n",
        "# Output shape : 데이터 변환 과정\n",
        "# None: 데이터 개수\n",
        "# Param # : 파라미터 개수 \n",
        "model1.summary()\n",
        "utils.plot_model(model1, show_shapes=True)\n",
        "\n",
        "# Trainable param : 학습 가능한 파라미터 (역전파 통해서 업데이트)\n",
        "# Non-trainable param : 학습 하지 않는 파라미터"
      ],
      "metadata": {
        "id": "DALpoYDrmlGi",
        "colab": {
          "base_uri": "https://localhost:8080/",
          "height": 440
        },
        "outputId": "a7ed2f75-05dd-4899-afaf-c8bbd7b63dbb"
      },
      "execution_count": null,
      "outputs": [
        {
          "output_type": "stream",
          "name": "stdout",
          "text": [
            "Model: \"Model_1\"\n",
            "_________________________________________________________________\n",
            " Layer (type)                Output Shape              Param #   \n",
            "=================================================================\n",
            " input_layer (InputLayer)    [(None, 3)]               0         \n",
            "                                                                 \n",
            " output_layer (Dense)        (None, 1)                 4         \n",
            "                                                                 \n",
            "=================================================================\n",
            "Total params: 4\n",
            "Trainable params: 4\n",
            "Non-trainable params: 0\n",
            "_________________________________________________________________\n"
          ]
        },
        {
          "output_type": "execute_result",
          "data": {
            "text/plain": [
              "<IPython.core.display.Image object>"
            ],
            "image/png": "[encoded data removed]"
          },
          "metadata": {},
          "execution_count": 3
        }
      ]
    },
    {
      "cell_type": "markdown",
      "source": [
        "#### **파라미터** \n",
        "\n",
        "<p align='center'>\n",
        "<img src=https://github.com/yebiny/SkillTreePython-DeepLearning/blob/main/imgs/ch0101-04.png?raw=true width=900>\n",
        "</p>\n"
      ],
      "metadata": {
        "id": "NYFWTExFqYH_"
      }
    },
    {
      "cell_type": "markdown",
      "source": [
        "* 데이터 플로우 : 데이터의 변환 과정을 확인하세요.\n",
        "  * `model.layer.output`\n"
      ],
      "metadata": {
        "id": "wWF_aUpbklsa"
      }
    },
    {
      "cell_type": "code",
      "source": [
        "# output : 데이터의 변환 과정\n",
        "for layer in model1.layers:\n",
        "  print(layer.name) # 각 레이어의 이름\n",
        "  print(layer.output.shape) # 각 레이어의 아웃풋의 shape"
      ],
      "metadata": {
        "id": "DlBj87Rtklsa",
        "colab": {
          "base_uri": "https://localhost:8080/"
        },
        "outputId": "af4b94d4-7b79-49a9-f647-21709b5a41e7"
      },
      "execution_count": null,
      "outputs": [
        {
          "output_type": "stream",
          "name": "stdout",
          "text": [
            "input_layer\n",
            "(None, 3)\n",
            "output_layer\n",
            "(None, 1)\n"
          ]
        }
      ]
    },
    {
      "cell_type": "markdown",
      "source": [
        "* 학습 파라미터 : 학습 파라미터의 shape를 확인하세요.\n",
        "  * `.get_weights()`"
      ],
      "metadata": {
        "id": "psYEdHG8rHT-"
      }
    },
    {
      "cell_type": "code",
      "source": [
        "'''\n",
        "W : (3, 1)\n",
        "B : (1, )\n",
        "'''\n",
        "for param in model1.get_weights():\n",
        "  print(param.shape)\n",
        "\n",
        "print(model1.get_weights())"
      ],
      "metadata": {
        "id": "LamoOVNRrLKe",
        "colab": {
          "base_uri": "https://localhost:8080/"
        },
        "outputId": "028a5338-5d49-42bb-f892-d019db657f4d"
      },
      "execution_count": null,
      "outputs": [
        {
          "output_type": "stream",
          "name": "stdout",
          "text": [
            "(3, 1)\n",
            "(1,)\n",
            "[array([[-0.55226123],\n",
            "       [ 1.0791677 ],\n",
            "       [-0.12541771]], dtype=float32), array([0.], dtype=float32)]\n"
          ]
        }
      ]
    },
    {
      "cell_type": "markdown",
      "source": [
        "#### **순전파 계산**\n",
        "\n",
        "현재 초기화되어 있는 학습파라미터를 이용해 Y를 계산해 보세요.\n",
        "X는 랜덤한 숫자로 적용하세요.\n",
        "* `np.random.normal`"
      ],
      "metadata": {
        "id": "RE9XeArWBMoh"
      }
    },
    {
      "cell_type": "code",
      "source": [
        "X = np.random.normal(size=(1,3))\n",
        "print(X) \n",
        "Y_pred = model1.predict(X)\n",
        "print(Y_pred)"
      ],
      "metadata": {
        "id": "DC0otNklBMoh",
        "colab": {
          "base_uri": "https://localhost:8080/"
        },
        "outputId": "173cc70b-c756-4675-d8cc-ec6d2dcf7038"
      },
      "execution_count": null,
      "outputs": [
        {
          "output_type": "stream",
          "name": "stdout",
          "text": [
            "[[-0.85845445  0.11312405  0.10229392]]\n",
            "[[0.5833415]]\n"
          ]
        }
      ]
    },
    {
      "cell_type": "markdown",
      "source": [
        "### | 모델링 (2)\n",
        "\n",
        "<p align='center'>\n",
        "<img src=https://github.com/yebiny/SkillTreePython-DeepLearning/blob/main/imgs/ch0101-02.png?raw=true width=450>\n",
        "</p>\n"
      ],
      "metadata": {
        "id": "CLRoUfPKvQRp"
      }
    },
    {
      "cell_type": "markdown",
      "source": [
        "#### **모델 구현**"
      ],
      "metadata": {
        "id": "-Ae5REJwMaTd"
      }
    },
    {
      "cell_type": "code",
      "source": [
        "from tensorflow.keras import layers, models\n",
        "\n",
        "x = layers.Input(shape=(3), name='input_layer') # X : (데이터개수,3)\n",
        "y = layers.Dense(2, name='output_layer')(x) # Linear : W, b  Dense(output_shape)\n",
        "\n",
        "model2 = models.Model(inputs=x, outputs=y, name='Model_2')"
      ],
      "metadata": {
        "id": "ds6Y10NIDPX4"
      },
      "execution_count": null,
      "outputs": []
    },
    {
      "cell_type": "markdown",
      "source": [
        "* 모델 시각화\n",
        "  * `.summary()`\n",
        "  * `tensorflow.keras.utils.plot_model()`"
      ],
      "metadata": {
        "id": "cqllNVUpDPX4"
      }
    },
    {
      "cell_type": "code",
      "source": [
        "from tensorflow.keras import  utils\n",
        "\n",
        "# Output shape : 데이터 변환 과정\n",
        "# None: 데이터 개수\n",
        "# Param # : 파라미터 개수 \n",
        "model2.summary()\n",
        "utils.plot_model(model2, show_shapes=True)"
      ],
      "metadata": {
        "id": "JtYmoeGqDPX4",
        "colab": {
          "base_uri": "https://localhost:8080/",
          "height": 440
        },
        "outputId": "a075445c-a015-401d-9edc-39aa2f3bfe30"
      },
      "execution_count": null,
      "outputs": [
        {
          "output_type": "stream",
          "name": "stdout",
          "text": [
            "Model: \"Model_2\"\n",
            "_________________________________________________________________\n",
            " Layer (type)                Output Shape              Param #   \n",
            "=================================================================\n",
            " input_layer (InputLayer)    [(None, 3)]               0         \n",
            "                                                                 \n",
            " output_layer (Dense)        (None, 2)                 8         \n",
            "                                                                 \n",
            "=================================================================\n",
            "Total params: 8\n",
            "Trainable params: 8\n",
            "Non-trainable params: 0\n",
            "_________________________________________________________________\n"
          ]
        },
        {
          "output_type": "execute_result",
          "data": {
            "text/plain": [
              "<IPython.core.display.Image object>"
            ],
            "image/png": "[encoded data removed]"
          },
          "metadata": {},
          "execution_count": 20
        }
      ]
    },
    {
      "cell_type": "markdown",
      "source": [
        "#### **파라미터** \n",
        "\n",
        "<p align='center'>\n",
        "<img src=https://github.com/yebiny/SkillTreePython-DeepLearning/blob/main/imgs/ch0101-05.png?raw=true width=900>\n",
        "</p>\n"
      ],
      "metadata": {
        "id": "FiQBcveRvQRq"
      }
    },
    {
      "cell_type": "markdown",
      "source": [
        "* 데이터 플로우 : 데이터의 변환 과정을 확인하세요.\n",
        "  * `layer.output`\n"
      ],
      "metadata": {
        "id": "47Bi4i9LDPX5"
      }
    },
    {
      "cell_type": "code",
      "source": [
        "# output : 데이터의 변환 과정\n",
        "for layer in model2.layers:\n",
        "  print(layer.name) # 각 레이어의 이름\n",
        "  print(layer.output.shape) # 각 레이어의 아웃풋의 shape"
      ],
      "metadata": {
        "id": "5NBk9svKDPX5",
        "colab": {
          "base_uri": "https://localhost:8080/"
        },
        "outputId": "31940e03-95b8-4f81-bb14-5c8ec7e113f0"
      },
      "execution_count": null,
      "outputs": [
        {
          "output_type": "stream",
          "name": "stdout",
          "text": [
            "input_layer\n",
            "(None, 3)\n",
            "output_layer\n",
            "(None, 2)\n"
          ]
        }
      ]
    },
    {
      "cell_type": "markdown",
      "source": [
        "* 학습 파라미터 : 학습 파라미터의 shape를 확인하세요.\n",
        "  * `.get_weights()`"
      ],
      "metadata": {
        "id": "s5XkjLJMDPX5"
      }
    },
    {
      "cell_type": "code",
      "source": [
        "for param in model2.get_weights():\n",
        "  print(param.shape)\n",
        "\n",
        "print(model2.get_weights())"
      ],
      "metadata": {
        "id": "XHMP6-qxDPX5",
        "colab": {
          "base_uri": "https://localhost:8080/"
        },
        "outputId": "73353e28-b513-4eab-8a2e-f5e0e443046d"
      },
      "execution_count": null,
      "outputs": [
        {
          "output_type": "stream",
          "name": "stdout",
          "text": [
            "(3, 2)\n",
            "(2,)\n",
            "[array([[-0.7888305 , -0.15621239],\n",
            "       [ 0.03743184, -0.1228857 ],\n",
            "       [ 0.24183321, -1.0745862 ]], dtype=float32), array([0., 0.], dtype=float32)]\n"
          ]
        }
      ]
    },
    {
      "cell_type": "markdown",
      "source": [
        "#### **순전파 계산**\n",
        "\n",
        "현재 초기화되어 있는 학습파라미터를 이용해 Y를 계산해 보세요.\n",
        "X는 랜덤한 숫자로 적용하세요.\n",
        "* `np.random.normal`"
      ],
      "metadata": {
        "id": "PXaQ_U9hBKD4"
      }
    },
    {
      "cell_type": "code",
      "source": [
        "X = np.random.normal(size=(1,3))\n",
        "print(X) \n",
        "Y_pred = model1.predict(X)\n",
        "print(Y_pred)"
      ],
      "metadata": {
        "id": "f0PpJMe-BKD4",
        "colab": {
          "base_uri": "https://localhost:8080/"
        },
        "outputId": "b7c1318b-ac40-426d-de14-0ed39fe9608d"
      },
      "execution_count": null,
      "outputs": [
        {
          "output_type": "stream",
          "name": "stdout",
          "text": [
            "[[0.91397112 0.03055434 2.63596367]]\n",
            "[[-0.8023741]]\n"
          ]
        }
      ]
    },
    {
      "cell_type": "markdown",
      "source": [
        "### | 모델링 (3)\n",
        "\n",
        "<p align='center'>\n",
        "<img src=https://github.com/yebiny/SkillTreePython-DeepLearning/blob/main/imgs/ch0101-03.png?raw=true width=550>\n",
        "</p>\n"
      ],
      "metadata": {
        "id": "pdq32nZCwMiL"
      }
    },
    {
      "cell_type": "markdown",
      "source": [
        "#### **모델 구현**"
      ],
      "metadata": {
        "id": "MMR9-36eJQbl"
      }
    },
    {
      "cell_type": "code",
      "source": [
        ""
      ],
      "metadata": {
        "id": "Z2IuUrLswMiL"
      },
      "execution_count": null,
      "outputs": []
    },
    {
      "cell_type": "markdown",
      "source": [
        "* 모델 시각화\n",
        "  * `.summary()`\n",
        "  * `tensorflow.keras.utils.plot_model()`"
      ],
      "metadata": {
        "id": "7O3UAyO1Fs9U"
      }
    },
    {
      "cell_type": "code",
      "source": [
        ""
      ],
      "metadata": {
        "id": "fM20ihdrFs9U"
      },
      "execution_count": null,
      "outputs": []
    },
    {
      "cell_type": "markdown",
      "source": [
        "#### **파라미터** \n",
        "\n",
        "<p align='center'>\n",
        "<img src=https://github.com/yebiny/SkillTreePython-DeepLearning/blob/main/imgs/ch0101-06.png?raw=true width=900>\n",
        "</p>\n"
      ],
      "metadata": {
        "id": "b6McWfzgwMiL"
      }
    },
    {
      "cell_type": "markdown",
      "source": [
        "* 데이터 플로우 : 데이터의 변환 과정을 확인하세요.\n",
        "  * `layer.output`\n",
        "\n"
      ],
      "metadata": {
        "id": "iJlWs5SPGPY1"
      }
    },
    {
      "cell_type": "code",
      "source": [
        ""
      ],
      "metadata": {
        "id": "mCGGTr0vGPY2"
      },
      "execution_count": null,
      "outputs": []
    },
    {
      "cell_type": "markdown",
      "source": [
        "* 학습 파라미터 : 학습 파라미터의 shape를 확인하세요.\n",
        "  * `.get_weights()`"
      ],
      "metadata": {
        "id": "wcXGgS5wGPY2"
      }
    },
    {
      "cell_type": "code",
      "source": [
        ""
      ],
      "metadata": {
        "id": "_dHFFVP9GPY2"
      },
      "execution_count": null,
      "outputs": []
    },
    {
      "cell_type": "markdown",
      "source": [
        "#### **순전파 계산**\n",
        "\n",
        "현재 초기화되어 있는 학습파라미터를 이용해 Y를 계산해 보세요.\n",
        "X는 랜덤한 숫자로 적용하세요.\n",
        "* `np.random.normal`"
      ],
      "metadata": {
        "id": "QXBhbZTdBF_f"
      }
    },
    {
      "cell_type": "code",
      "source": [
        ""
      ],
      "metadata": {
        "id": "mFLI_U-BBF_g"
      },
      "execution_count": null,
      "outputs": []
    },
    {
      "cell_type": "markdown",
      "source": [
        "### | 모델링 (4)\n",
        "\n",
        "<p align='center'>\n",
        "<img src=https://github.com/yebiny/SkillTreePython-DeepLearning/blob/main/imgs/ch0101-12.png?raw=true width=820>"
      ],
      "metadata": {
        "id": "iF1Pr3EaoAF7"
      }
    },
    {
      "cell_type": "markdown",
      "source": [
        "#### **모델 구현**"
      ],
      "metadata": {
        "id": "B5AjRa732e7p"
      }
    },
    {
      "cell_type": "code",
      "source": [
        "from tensorflow.keras import layers, models, utils\n",
        "\n",
        "x = layers.Input(shape=(4,))\n",
        "z1 = layers.Dense(8)(x)\n",
        "z2 = layers.Dense(8)(z1)\n",
        "y = layers.Dense(3)(z2)\n",
        "model4 = models.Model(inputs=x, outputs=y, name='Model_4')\n",
        "\n",
        "model4.summary()\n",
        "utils.plot_model(model4, show_shapes=True)"
      ],
      "metadata": {
        "id": "CgMWjNgu2e7y",
        "colab": {
          "base_uri": "https://localhost:8080/",
          "height": 734
        },
        "outputId": "eabc52ff-8071-4cf0-f7fd-241cbef8ef21"
      },
      "execution_count": null,
      "outputs": [
        {
          "output_type": "stream",
          "name": "stdout",
          "text": [
            "Model: \"Model_4\"\n",
            "_________________________________________________________________\n",
            " Layer (type)                Output Shape              Param #   \n",
            "=================================================================\n",
            " input_1 (InputLayer)        [(None, 4)]               0         \n",
            "                                                                 \n",
            " dense (Dense)               (None, 8)                 40        \n",
            "                                                                 \n",
            " dense_1 (Dense)             (None, 8)                 72        \n",
            "                                                                 \n",
            " dense_2 (Dense)             (None, 3)                 27        \n",
            "                                                                 \n",
            "=================================================================\n",
            "Total params: 139\n",
            "Trainable params: 139\n",
            "Non-trainable params: 0\n",
            "_________________________________________________________________\n"
          ]
        },
        {
          "output_type": "execute_result",
          "data": {
            "text/plain": [
              "<IPython.core.display.Image object>"
            ],
            "image/png": "[encoded data removed]"
          },
          "metadata": {},
          "execution_count": 7
        }
      ]
    },
    {
      "cell_type": "markdown",
      "source": [
        "#### **파라미터** \n",
        "\n"
      ],
      "metadata": {
        "id": "SANpL92z1-bd"
      }
    },
    {
      "cell_type": "markdown",
      "source": [
        "* 데이터 플로우 : 데이터의 변환 과정을 확인하세요.\n",
        "  * `layer.output`\n",
        "\n"
      ],
      "metadata": {
        "id": "pBcmDE8ZybwG"
      }
    },
    {
      "cell_type": "code",
      "source": [
        "'''\n",
        "X : (N,4) N은 데이터 개수\n",
        "Z1: (N,8)\n",
        "Z2: (N,8)\n",
        "Y : (N,3)\n",
        "'''\n",
        "\n",
        "for layer in model4.layers:\n",
        "  print(layer.output.shape)"
      ],
      "metadata": {
        "id": "lc2W98-amfyP",
        "colab": {
          "base_uri": "https://localhost:8080/"
        },
        "outputId": "aa3a65f3-5ee2-4dc9-b5d6-0d31e06a5ceb"
      },
      "execution_count": null,
      "outputs": [
        {
          "output_type": "stream",
          "name": "stdout",
          "text": [
            "(None, 4)\n",
            "(None, 8)\n",
            "(None, 8)\n",
            "(None, 3)\n"
          ]
        }
      ]
    },
    {
      "cell_type": "markdown",
      "source": [
        "* 학습 파라미터 : 학습 파라미터의 shape를 확인하세요.\n",
        "  * `.get_weights()`"
      ],
      "metadata": {
        "id": "1f3wtqGoyz4n"
      }
    },
    {
      "cell_type": "code",
      "source": [
        "'''\n",
        "W1 : (4, 8)\n",
        "B1 : (8,)\n",
        "W2 : (8, 8)\n",
        "B2 : (8,)\n",
        "W3 : (8,3)\n",
        "B3 : (3,)\n",
        "'''\n",
        "\n",
        "for param in model4.get_weights(): # 모델 파라미터를 확인합니다.\n",
        "    print(param.shape)\n",
        "\n",
        "print(model4.get_weights())"
      ],
      "metadata": {
        "id": "YGL2joIdyz4o",
        "colab": {
          "base_uri": "https://localhost:8080/"
        },
        "outputId": "14b7b273-d997-409c-e7fe-b35de31b60d3"
      },
      "execution_count": null,
      "outputs": [
        {
          "output_type": "stream",
          "name": "stdout",
          "text": [
            "(4, 8)\n",
            "(8,)\n",
            "(8, 8)\n",
            "(8,)\n",
            "(8, 3)\n",
            "(3,)\n",
            "[array([[-0.04558957,  0.6257096 ,  0.5923013 , -0.35006934,  0.5310454 ,\n",
            "        -0.4722288 ,  0.48459226,  0.2706728 ],\n",
            "       [-0.30286774, -0.05496389,  0.16085023, -0.6691004 , -0.25393426,\n",
            "        -0.09713179,  0.08820862,  0.65021354],\n",
            "       [ 0.56965405,  0.2028088 , -0.66715306,  0.44468075,  0.43604165,\n",
            "        -0.15721786,  0.5990991 ,  0.43090922],\n",
            "       [-0.12664199,  0.5832606 ,  0.0053857 ,  0.25680864,  0.69204587,\n",
            "        -0.63302004, -0.34269416,  0.5013425 ]], dtype=float32), array([0., 0., 0., 0., 0., 0., 0., 0.], dtype=float32), array([[-0.17869833, -0.2621335 , -0.25351712, -0.07614839, -0.51724845,\n",
            "        -0.22502795,  0.2682429 ,  0.12736553],\n",
            "       [ 0.17744172,  0.07740766,  0.28949994, -0.16430396,  0.1524396 ,\n",
            "        -0.44124854,  0.25347304,  0.10451466],\n",
            "       [ 0.18853456, -0.5076071 , -0.01862854,  0.581224  ,  0.28995854,\n",
            "         0.5637726 , -0.22401002,  0.07012546],\n",
            "       [-0.40141422,  0.25451183,  0.34013218, -0.21568534, -0.52128464,\n",
            "         0.38391322, -0.5449159 ,  0.5436371 ],\n",
            "       [ 0.36416775, -0.14614275,  0.2651537 ,  0.50040084, -0.1454199 ,\n",
            "        -0.47464347, -0.35443035,  0.26629716],\n",
            "       [ 0.60060495,  0.6072801 , -0.2925614 ,  0.19234842, -0.55759376,\n",
            "         0.0421347 ,  0.06723243,  0.13262683],\n",
            "       [ 0.42588252,  0.24817842,  0.17464024,  0.14524686,  0.31840128,\n",
            "         0.5065889 , -0.38779378, -0.28091827],\n",
            "       [ 0.29943937,  0.26594484,  0.11540717,  0.25318116, -0.55142623,\n",
            "        -0.40411872,  0.56588215,  0.18711936]], dtype=float32), array([0., 0., 0., 0., 0., 0., 0., 0.], dtype=float32), array([[-0.32008547, -0.3447564 ,  0.4826936 ],\n",
            "       [ 0.50480276,  0.05655193, -0.2769858 ],\n",
            "       [ 0.58270127, -0.38838625,  0.18452579],\n",
            "       [-0.13992268, -0.13766462,  0.2258324 ],\n",
            "       [ 0.19519079, -0.49637842,  0.50375146],\n",
            "       [ 0.2153843 , -0.44566208,  0.58650106],\n",
            "       [-0.6441328 , -0.47876003, -0.08362377],\n",
            "       [-0.09527206, -0.6575097 ,  0.0776121 ]], dtype=float32), array([0., 0., 0.], dtype=float32)]\n"
          ]
        }
      ]
    },
    {
      "cell_type": "markdown",
      "source": [
        "#### **순전파 계산**\n",
        "\n",
        "현재 초기화되어 있는 학습파라미터를 이용해 Y를 계산해 보세요.\n",
        "X는 랜덤한 숫자로 적용하세요.\n",
        "* `np.random.normal`"
      ],
      "metadata": {
        "id": "EtkJfyepMfJk"
      }
    },
    {
      "cell_type": "code",
      "source": [
        "X = np.random.normal(size=(1,4))\n",
        "Y_pred = model4.predict(X)\n",
        "print('X:',X,X.shape)\n",
        "print('Y_pred:',Y_pred, Y_pred.shape)"
      ],
      "metadata": {
        "id": "al1XlzJuMf9-",
        "colab": {
          "base_uri": "https://localhost:8080/"
        },
        "outputId": "55c1130b-031a-48fd-d05b-65e5b784ca25"
      },
      "execution_count": null,
      "outputs": [
        {
          "output_type": "stream",
          "name": "stdout",
          "text": [
            "X: [[-0.24113728 -2.2410946   0.70981099 -0.35923505]] (1, 4)\n",
            "Y_pred: [[ 1.5631431  1.0336504 -1.0540411]] (1, 3)\n"
          ]
        }
      ]
    },
    {
      "cell_type": "markdown",
      "source": [
        "### | 병렬연산\n",
        "\n",
        "\n",
        "<p align='center'>\n",
        "<img src=https://github.com/yebiny/SkillTreePython-DeepLearning/blob/main/imgs/ch0101-13.png?raw=true width=820>\n",
        "\n"
      ],
      "metadata": {
        "id": "2B95PNoM0O9a"
      }
    },
    {
      "cell_type": "markdown",
      "source": [
        "#### **순전파 계산**\n",
        "\n",
        "Model4를 이용하여 Y를 계산해 보세요.\n",
        "X는 랜덤한 숫자로 적용하세요. X의 샘플 개수는 10개 입니다.\n",
        "* `np.random.normal`"
      ],
      "metadata": {
        "id": "LZoN8fo-PboK"
      }
    },
    {
      "cell_type": "code",
      "source": [
        "# 실제 데이터 ( 1000~100000 중에 배치 단위로 계산이 진행됨 ) 배치 사이즈 : 8, 16, 32, 64, ..\n",
        "X = np.random.normal(size=(10,4)) # 배치의 개수가 10개다\n",
        "Y_pred = model4.predict(X)\n",
        "print('X:',X,X.shape)\n",
        "print('Y_pred:',Y_pred, Y_pred.shape)"
      ],
      "metadata": {
        "id": "Vv1yq_uF4Vxu",
        "colab": {
          "base_uri": "https://localhost:8080/"
        },
        "outputId": "73891986-ca6c-4831-f184-316e47c972ce"
      },
      "execution_count": null,
      "outputs": [
        {
          "output_type": "stream",
          "name": "stdout",
          "text": [
            "X: [[ 0.24986753  0.09966963  0.28577018  0.65136516]\n",
            " [ 1.31311424  0.2665573  -0.20796748 -2.00077581]\n",
            " [ 0.55300182 -0.96506831 -1.4157329  -1.48123581]\n",
            " [-1.46489839 -0.31454253  1.12944404 -0.36969532]\n",
            " [-0.22116358 -0.35111008  1.28845095 -0.11708369]\n",
            " [-0.39583829 -2.95623977 -0.23966507  0.61914894]\n",
            " [-0.62242698  0.0356556   2.63893141 -2.90841085]\n",
            " [-0.80265554 -1.00575075  1.76493615  1.19140593]\n",
            " [-0.2425773  -0.42066     2.09403209 -0.68265787]\n",
            " [ 1.09951409  0.22523651 -0.10570416 -0.48374994]] (10, 4)\n",
            "Y_pred: [[-0.0875899  -0.22878546 -0.17913711]\n",
            " [-0.22093248 -0.60841835  1.9995258 ]\n",
            " [ 0.35643077 -0.20419073  1.7205791 ]\n",
            " [ 0.6281528   1.4028432  -1.9572465 ]\n",
            " [ 0.5006363   0.6119135  -1.0965285 ]\n",
            " [ 1.761808    0.89323074 -1.0333667 ]\n",
            " [ 0.78979385  1.6400576  -1.3190584 ]\n",
            " [ 0.96798605  1.0575352  -2.502643  ]\n",
            " [ 0.74443316  0.96781576 -1.4822927 ]\n",
            " [-0.26366198 -0.7086651   1.2238154 ]] (10, 3)\n"
          ]
        }
      ]
    },
    {
      "cell_type": "markdown",
      "source": [
        "## 텐서플로우 - 모델을 만드는 세가지 방법\n",
        "---"
      ],
      "metadata": {
        "id": "cxfkYRgEl_CM"
      }
    },
    {
      "cell_type": "markdown",
      "metadata": {
        "id": "ek-Z53ZpxD7P"
      },
      "source": [
        "1. keras Sequential API\n",
        "2. Keras Functional API\n",
        "3. Model Class Subsclassing\n"
      ]
    },
    {
      "cell_type": "code",
      "source": [
        "import tensorflow as tf\n",
        "from tensorflow.keras import models, layers, utils\n",
        "import numpy as np\n",
        "tf.__version__"
      ],
      "metadata": {
        "id": "ynYVT_G104eR",
        "colab": {
          "base_uri": "https://localhost:8080/",
          "height": 35
        },
        "outputId": "1ada349e-5d64-4424-f667-d9ba738a2f86"
      },
      "execution_count": null,
      "outputs": [
        {
          "output_type": "execute_result",
          "data": {
            "text/plain": [
              "'2.8.2'"
            ],
            "application/vnd.google.colaboratory.intrinsic+json": {
              "type": "string"
            }
          },
          "metadata": {},
          "execution_count": 12
        }
      ]
    },
    {
      "cell_type": "markdown",
      "source": [
        "아래 그림과 같은 모델을 텐서플로우를 이용해서 만들어 봅시다.\n",
        "\n",
        "<p align='center'>\n",
        "<img src=https://github.com/yebiny/NCS-lecture-deeplearning/blob/main/imgs/01-testmodel1.PNG?raw=true width=600>"
      ],
      "metadata": {
        "id": "9KCc_ZoOlxBy"
      }
    },
    {
      "cell_type": "markdown",
      "metadata": {
        "id": "6fB29iRAxyP_"
      },
      "source": [
        "### | Keras Functional API"
      ]
    },
    {
      "cell_type": "markdown",
      "source": [
        "* 모델 구현"
      ],
      "metadata": {
        "id": "_nHacE06bPwT"
      }
    },
    {
      "cell_type": "code",
      "metadata": {
        "id": "nzzxJsKfxwXS"
      },
      "source": [
        "# 이 함수를 실행하면 아래와 같은 구성을 가진 모델이 반환\n",
        "def build_model1():\n",
        "  x = layers.Input(shape=(3,))\n",
        "  y = layers.Dense(6)(x)\n",
        "  y = layers.Dense(6)(y)\n",
        "  y = layers.Dense(1)(y)\n",
        "  model = models.Model(x, y)\n",
        "  return model"
      ],
      "execution_count": null,
      "outputs": []
    },
    {
      "cell_type": "markdown",
      "source": [
        "* 시각화"
      ],
      "metadata": {
        "id": "fu5N77ex1uJH"
      }
    },
    {
      "cell_type": "code",
      "metadata": {
        "id": "KMP3U9hj1uJH",
        "colab": {
          "base_uri": "https://localhost:8080/",
          "height": 734
        },
        "outputId": "ba4cd359-3038-4af8-b5e0-51cc7304bbce"
      },
      "source": [
        "m1 = build_model1()\n",
        "m1.summary()\n",
        "utils.plot_model(m1, show_shapes=True)"
      ],
      "execution_count": null,
      "outputs": [
        {
          "output_type": "stream",
          "name": "stdout",
          "text": [
            "Model: \"model_1\"\n",
            "_________________________________________________________________\n",
            " Layer (type)                Output Shape              Param #   \n",
            "=================================================================\n",
            " input_5 (InputLayer)        [(None, 3)]               0         \n",
            "                                                                 \n",
            " dense_11 (Dense)            (None, 6)                 24        \n",
            "                                                                 \n",
            " dense_12 (Dense)            (None, 6)                 42        \n",
            "                                                                 \n",
            " dense_13 (Dense)            (None, 1)                 7         \n",
            "                                                                 \n",
            "=================================================================\n",
            "Total params: 73\n",
            "Trainable params: 73\n",
            "Non-trainable params: 0\n",
            "_________________________________________________________________\n"
          ]
        },
        {
          "output_type": "execute_result",
          "data": {
            "text/plain": [
              "<IPython.core.display.Image object>"
            ],
            "image/png": "[encoded data removed]"
          },
          "metadata": {},
          "execution_count": 31
        }
      ]
    },
    {
      "cell_type": "markdown",
      "metadata": {
        "id": "8aFljiFtxGUP"
      },
      "source": [
        "### | Keras Sequential API\n",
        "\n"
      ]
    },
    {
      "cell_type": "markdown",
      "source": [
        "* 모델 구현: `Sequential()`"
      ],
      "metadata": {
        "id": "j5xvJ7e01rbx"
      }
    },
    {
      "cell_type": "code",
      "metadata": {
        "id": "8Id8VOEiw-nT"
      },
      "source": [
        "def build_model2():\n",
        "  model = tf.keras.Sequential() # 빈 껍질을 만들어 놓은것\n",
        "  model.add( layers.Input(shape=(3,)) )\n",
        "  model.add( layers.Dense(6))\n",
        "  model.add( layers.Dense(6))\n",
        "  model.add( layers.Dense(1))\n",
        "  return model"
      ],
      "execution_count": null,
      "outputs": []
    },
    {
      "cell_type": "markdown",
      "source": [
        "* 모델 시각화"
      ],
      "metadata": {
        "id": "Xzmbgxa31oew"
      }
    },
    {
      "cell_type": "code",
      "metadata": {
        "id": "fc-0GKtqxopy",
        "colab": {
          "base_uri": "https://localhost:8080/",
          "height": 697
        },
        "outputId": "d200d036-f100-4fb4-d72a-81ea1215e449"
      },
      "source": [
        "m2 = build_model2()\n",
        "m2.summary()\n",
        "utils.plot_model(m2, show_shapes=True)"
      ],
      "execution_count": null,
      "outputs": [
        {
          "output_type": "stream",
          "name": "stdout",
          "text": [
            "Model: \"sequential_1\"\n",
            "_________________________________________________________________\n",
            " Layer (type)                Output Shape              Param #   \n",
            "=================================================================\n",
            " dense_14 (Dense)            (None, 6)                 24        \n",
            "                                                                 \n",
            " dense_15 (Dense)            (None, 6)                 42        \n",
            "                                                                 \n",
            " dense_16 (Dense)            (None, 1)                 7         \n",
            "                                                                 \n",
            "=================================================================\n",
            "Total params: 73\n",
            "Trainable params: 73\n",
            "Non-trainable params: 0\n",
            "_________________________________________________________________\n"
          ]
        },
        {
          "output_type": "execute_result",
          "data": {
            "text/plain": [
              "<IPython.core.display.Image object>"
            ],
            "image/png": "[encoded data removed]"
          },
          "metadata": {},
          "execution_count": 33
        }
      ]
    },
    {
      "cell_type": "markdown",
      "metadata": {
        "id": "J3weqVyOymnn"
      },
      "source": [
        "### | Model Class Subclassing"
      ]
    },
    {
      "cell_type": "markdown",
      "source": [
        "* 모델 구현"
      ],
      "metadata": {
        "id": "k8A4RhsPbbnS"
      }
    },
    {
      "cell_type": "code",
      "metadata": {
        "id": "Y8pq4dLnykdS"
      },
      "source": [
        "class Model3(tf.keras.Model): # 이미 존재하는 클래스를 불러올때\n",
        "  def __init__(self):\n",
        "    super(Model3, self).__init__() # tf.keras.Model에 이미 정의되어 있는 (init)파라미터 불러오기\n",
        "    self._name = 'Model3'\n",
        "    self._input_shape=(3)\n",
        "    self.dense1 = layers.Dense(6, name='dense1')\n",
        "    self.dense2 = layers.Dense(6, name='dense2')\n",
        "    self.dense3 = layers.Dense(3, name='dense3')\n",
        "  \n",
        "  def call(self, x):\n",
        "    y = self.dense1(x)\n",
        "    y = self.dense2(y)\n",
        "    y = self.dense3(y)\n",
        "    return y\n",
        "\n"
      ],
      "execution_count": null,
      "outputs": []
    },
    {
      "cell_type": "markdown",
      "source": [
        "* 모델 시각화"
      ],
      "metadata": {
        "id": "zgTALE5H17_3"
      }
    },
    {
      "cell_type": "code",
      "metadata": {
        "id": "HK0_O6i117_4",
        "colab": {
          "base_uri": "https://localhost:8080/",
          "height": 352
        },
        "outputId": "2a5c4b01-f729-45a4-a135-8ee3a6e59db4"
      },
      "source": [
        "m3 = Model3()\n",
        "m3(np.array([[1,2,1]]))\n",
        "m3.summary()\n",
        "utils.plot_model(m3)"
      ],
      "execution_count": null,
      "outputs": [
        {
          "output_type": "stream",
          "name": "stdout",
          "text": [
            "Model: \"Model3\"\n",
            "_________________________________________________________________\n",
            " Layer (type)                Output Shape              Param #   \n",
            "=================================================================\n",
            " dense1 (Dense)              multiple                  24        \n",
            "                                                                 \n",
            " dense2 (Dense)              multiple                  42        \n",
            "                                                                 \n",
            " dense3 (Dense)              multiple                  21        \n",
            "                                                                 \n",
            "=================================================================\n",
            "Total params: 87\n",
            "Trainable params: 87\n",
            "Non-trainable params: 0\n",
            "_________________________________________________________________\n"
          ]
        },
        {
          "output_type": "execute_result",
          "data": {
            "text/plain": [
              "<IPython.core.display.Image object>"
            ],
            "image/png": "[encoded data removed]"
          },
          "metadata": {},
          "execution_count": 36
        }
      ]
    },
    {
      "cell_type": "markdown",
      "source": [
        "### | 예제\n",
        "\n",
        "세가지 방법을 이용해 아래 모델을 구현하세요."
      ],
      "metadata": {
        "id": "gpBnK0J7cbpK"
      }
    },
    {
      "cell_type": "markdown",
      "source": [
        "#### **예제 01**\n",
        "\n",
        "<p align='center'>\n",
        "<img src=https://github.com/yebiny/NCS-lecture-deeplearning/blob/main/imgs/01-testmodel2.PNG?raw=true width=500>\n"
      ],
      "metadata": {
        "id": "e7DmmlbplmAa"
      }
    },
    {
      "cell_type": "markdown",
      "source": [
        "* Keras Functional API\n"
      ],
      "metadata": {
        "id": "5mnW29R1qK5u"
      }
    },
    {
      "cell_type": "code",
      "source": [
        "# 이 함수를 실행하면 아래와 같은 구성을 가진 모델이 반환\n",
        "def build_model4():\n",
        "  x = layers.Input(shape=(4,))\n",
        "  y = layers.Dense(8)(x)\n",
        "  y = layers.Dense(8)(y)\n",
        "  y = layers.Dense(3)(y)\n",
        "  model = models.Model(x, y)\n",
        "  return model"
      ],
      "metadata": {
        "id": "BgLyz6HXqK5v"
      },
      "execution_count": 38,
      "outputs": []
    },
    {
      "cell_type": "code",
      "source": [
        "m4 = build_model4()\n",
        "m4.summary()\n",
        "utils.plot_model(m4, show_shapes=True)"
      ],
      "metadata": {
        "colab": {
          "base_uri": "https://localhost:8080/",
          "height": 740
        },
        "id": "nEu0sMyx7rhl",
        "outputId": "9863fac7-f126-4f2a-d1d0-8ba1ca35a1fd"
      },
      "execution_count": 39,
      "outputs": [
        {
          "output_type": "stream",
          "name": "stdout",
          "text": [
            "Model: \"model_2\"\n",
            "_________________________________________________________________\n",
            " Layer (type)                Output Shape              Param #   \n",
            "=================================================================\n",
            " input_7 (InputLayer)        [(None, 4)]               0         \n",
            "                                                                 \n",
            " dense_17 (Dense)            (None, 8)                 40        \n",
            "                                                                 \n",
            " dense_18 (Dense)            (None, 8)                 72        \n",
            "                                                                 \n",
            " dense_19 (Dense)            (None, 3)                 27        \n",
            "                                                                 \n",
            "=================================================================\n",
            "Total params: 139\n",
            "Trainable params: 139\n",
            "Non-trainable params: 0\n",
            "_________________________________________________________________\n"
          ]
        },
        {
          "output_type": "execute_result",
          "data": {
            "text/plain": [
              "<IPython.core.display.Image object>"
            ],
            "image/png": "[encoded data removed]"
          },
          "metadata": {},
          "execution_count": 39
        }
      ]
    },
    {
      "cell_type": "markdown",
      "source": [
        "* keras Sequential API\n"
      ],
      "metadata": {
        "id": "q5ygabc2qI1P"
      }
    },
    {
      "cell_type": "code",
      "source": [
        "m4 = build_model4()\n",
        "m4.summary()\n",
        "utils.plot_model(m4, show_shapes=True)"
      ],
      "metadata": {
        "id": "I6qwU4_zlnN_",
        "colab": {
          "base_uri": "https://localhost:8080/",
          "height": 740
        },
        "outputId": "108db91d-95b8-46d1-81e5-516c5754e7aa"
      },
      "execution_count": 40,
      "outputs": [
        {
          "output_type": "stream",
          "name": "stdout",
          "text": [
            "Model: \"model_3\"\n",
            "_________________________________________________________________\n",
            " Layer (type)                Output Shape              Param #   \n",
            "=================================================================\n",
            " input_8 (InputLayer)        [(None, 4)]               0         \n",
            "                                                                 \n",
            " dense_20 (Dense)            (None, 8)                 40        \n",
            "                                                                 \n",
            " dense_21 (Dense)            (None, 8)                 72        \n",
            "                                                                 \n",
            " dense_22 (Dense)            (None, 3)                 27        \n",
            "                                                                 \n",
            "=================================================================\n",
            "Total params: 139\n",
            "Trainable params: 139\n",
            "Non-trainable params: 0\n",
            "_________________________________________________________________\n"
          ]
        },
        {
          "output_type": "execute_result",
          "data": {
            "text/plain": [
              "<IPython.core.display.Image object>"
            ],
            "image/png": "[encoded data removed]"
          },
          "metadata": {},
          "execution_count": 40
        }
      ]
    },
    {
      "cell_type": "markdown",
      "source": [
        "* Model Class Subsclassing\n",
        "\n",
        "\n"
      ],
      "metadata": {
        "id": "k9crENLAqLEW"
      }
    },
    {
      "cell_type": "code",
      "source": [
        "class Model3(tf.keras.Model): # 이미 존재하는 클래스를 불러올때\n",
        "  def __init__(self):\n",
        "    super(Model3, self).__init__() # tf.keras.Model에 이미 정의되어 있는 (init)파라미터 불러오기\n",
        "    self._name = 'Model3'\n",
        "    self._input_shape=(4)\n",
        "    self.dense1 = layers.Dense(8, name='dense1')\n",
        "    self.dense2 = layers.Dense(8, name='dense2')\n",
        "    self.dense3 = layers.Dense(3, name='dense3')\n",
        "  \n",
        "  def call(self, x):\n",
        "    y = self.dense1(x)\n",
        "    y = self.dense2(y)\n",
        "    y = self.dense3(y)\n",
        "    return y"
      ],
      "metadata": {
        "id": "hP3yZKS0qLEW"
      },
      "execution_count": 41,
      "outputs": []
    },
    {
      "cell_type": "code",
      "source": [
        "m3 = Model3()\n",
        "m3(np.array([[1,2,1,5]]))\n",
        "m3.summary()\n",
        "utils.plot_model(m3)"
      ],
      "metadata": {
        "colab": {
          "base_uri": "https://localhost:8080/",
          "height": 357
        },
        "id": "uihltqVf8H_X",
        "outputId": "841c5107-7278-41d5-a9ba-ab13bdf09f7d"
      },
      "execution_count": 42,
      "outputs": [
        {
          "output_type": "stream",
          "name": "stdout",
          "text": [
            "Model: \"Model3\"\n",
            "_________________________________________________________________\n",
            " Layer (type)                Output Shape              Param #   \n",
            "=================================================================\n",
            " dense1 (Dense)              multiple                  40        \n",
            "                                                                 \n",
            " dense2 (Dense)              multiple                  72        \n",
            "                                                                 \n",
            " dense3 (Dense)              multiple                  27        \n",
            "                                                                 \n",
            "=================================================================\n",
            "Total params: 139\n",
            "Trainable params: 139\n",
            "Non-trainable params: 0\n",
            "_________________________________________________________________\n"
          ]
        },
        {
          "output_type": "execute_result",
          "data": {
            "text/plain": [
              "<IPython.core.display.Image object>"
            ],
            "image/png": "[encoded data removed]"
          },
          "metadata": {},
          "execution_count": 42
        }
      ]
    },
    {
      "cell_type": "markdown",
      "source": [
        "#### **예제 02**\n",
        "\n",
        "\n",
        "\n",
        "\n",
        "<p align='center'>\n",
        "<img src=https://github.com/yebiny/NCS-lecture-deeplearning/blob/main/imgs/01-testmodel3.PNG?raw=true width=700>\n"
      ],
      "metadata": {
        "id": "ZCd50-faAZg9"
      }
    },
    {
      "cell_type": "markdown",
      "source": [
        "* Keras Functional API\n"
      ],
      "metadata": {
        "id": "-TXHCeHZqZjF"
      }
    },
    {
      "cell_type": "code",
      "source": [
        "def build_model5():\n",
        "  x = layers.Input(shape=(3,))\n",
        "  y = layers.Dense(4)(x)\n",
        "  y = layers.Dense(8)(y)\n",
        "  y = layers.Dense(4)(y)\n",
        "  y = layers.Dense(1)(y)\n",
        "  model = models.Model(x, y)\n",
        "  return model"
      ],
      "metadata": {
        "id": "Zekozc0QqZjG"
      },
      "execution_count": 43,
      "outputs": []
    },
    {
      "cell_type": "code",
      "source": [
        "m5 = build_model5()\n",
        "m5.summary()\n",
        "utils.plot_model(m5, show_shapes=True)"
      ],
      "metadata": {
        "colab": {
          "base_uri": "https://localhost:8080/",
          "height": 888
        },
        "id": "xPEqyP_k8aPu",
        "outputId": "dc030776-98f9-41ce-a19f-2b5b336e3e8d"
      },
      "execution_count": 44,
      "outputs": [
        {
          "output_type": "stream",
          "name": "stdout",
          "text": [
            "Model: \"model_4\"\n",
            "_________________________________________________________________\n",
            " Layer (type)                Output Shape              Param #   \n",
            "=================================================================\n",
            " input_9 (InputLayer)        [(None, 3)]               0         \n",
            "                                                                 \n",
            " dense_23 (Dense)            (None, 4)                 16        \n",
            "                                                                 \n",
            " dense_24 (Dense)            (None, 8)                 40        \n",
            "                                                                 \n",
            " dense_25 (Dense)            (None, 4)                 36        \n",
            "                                                                 \n",
            " dense_26 (Dense)            (None, 1)                 5         \n",
            "                                                                 \n",
            "=================================================================\n",
            "Total params: 97\n",
            "Trainable params: 97\n",
            "Non-trainable params: 0\n",
            "_________________________________________________________________\n"
          ]
        },
        {
          "output_type": "execute_result",
          "data": {
            "text/plain": [
              "<IPython.core.display.Image object>"
            ],
            "image/png": "[encoded data removed]"
          },
          "metadata": {},
          "execution_count": 44
        }
      ]
    },
    {
      "cell_type": "markdown",
      "source": [
        "* keras Sequential API\n"
      ],
      "metadata": {
        "id": "LQPscC7sqZjA"
      }
    },
    {
      "cell_type": "code",
      "source": [
        "m5 = build_model5()\n",
        "m5.summary()\n",
        "utils.plot_model(m5, show_shapes=True)"
      ],
      "metadata": {
        "id": "IO0chB0pqZjF",
        "colab": {
          "base_uri": "https://localhost:8080/",
          "height": 888
        },
        "outputId": "2c145c5f-cf43-421e-bfd2-fa36098a0766"
      },
      "execution_count": 45,
      "outputs": [
        {
          "output_type": "stream",
          "name": "stdout",
          "text": [
            "Model: \"model_5\"\n",
            "_________________________________________________________________\n",
            " Layer (type)                Output Shape              Param #   \n",
            "=================================================================\n",
            " input_10 (InputLayer)       [(None, 3)]               0         \n",
            "                                                                 \n",
            " dense_27 (Dense)            (None, 4)                 16        \n",
            "                                                                 \n",
            " dense_28 (Dense)            (None, 8)                 40        \n",
            "                                                                 \n",
            " dense_29 (Dense)            (None, 4)                 36        \n",
            "                                                                 \n",
            " dense_30 (Dense)            (None, 1)                 5         \n",
            "                                                                 \n",
            "=================================================================\n",
            "Total params: 97\n",
            "Trainable params: 97\n",
            "Non-trainable params: 0\n",
            "_________________________________________________________________\n"
          ]
        },
        {
          "output_type": "execute_result",
          "data": {
            "text/plain": [
              "<IPython.core.display.Image object>"
            ],
            "image/png": "[encoded data removed]"
          },
          "metadata": {},
          "execution_count": 45
        }
      ]
    },
    {
      "cell_type": "markdown",
      "source": [
        "* Model Class Subsclassing\n",
        "\n"
      ],
      "metadata": {
        "id": "LKm8DvxSqZjG"
      }
    },
    {
      "cell_type": "code",
      "source": [
        "class Model6(tf.keras.Model): # 이미 존재하는 클래스를 불러올때\n",
        "  def __init__(self):\n",
        "    super(Model6, self).__init__() # tf.keras.Model에 이미 정의되어 있는 (init)파라미터 불러오기\n",
        "    self._name = 'Model6'\n",
        "    self._input_shape=(3)\n",
        "    self.dense1 = layers.Dense(4, name='dense1')\n",
        "    self.dense2 = layers.Dense(8, name='dense2')\n",
        "    self.dense3 = layers.Dense(4, name='dense3')\n",
        "    self.dense4 = layers.Dense(1, name='dense4')\n",
        "  def call(self, x):\n",
        "    y = self.dense1(x)\n",
        "    y = self.dense2(y)\n",
        "    y = self.dense3(y)\n",
        "    y = self.dense4(y)\n",
        "    return y"
      ],
      "metadata": {
        "id": "fEOkBDe2qZjG"
      },
      "execution_count": 46,
      "outputs": []
    },
    {
      "cell_type": "code",
      "source": [
        "m6 = Model6()\n",
        "m6(np.array([[2,1,5]]))\n",
        "m6.summary()\n",
        "utils.plot_model(m6)"
      ],
      "metadata": {
        "colab": {
          "base_uri": "https://localhost:8080/",
          "height": 395
        },
        "id": "HwlZj0BZ84dO",
        "outputId": "267b3729-b1f8-4fa7-c514-bd5ea137a009"
      },
      "execution_count": 47,
      "outputs": [
        {
          "output_type": "stream",
          "name": "stdout",
          "text": [
            "Model: \"Model6\"\n",
            "_________________________________________________________________\n",
            " Layer (type)                Output Shape              Param #   \n",
            "=================================================================\n",
            " dense1 (Dense)              multiple                  16        \n",
            "                                                                 \n",
            " dense2 (Dense)              multiple                  40        \n",
            "                                                                 \n",
            " dense3 (Dense)              multiple                  36        \n",
            "                                                                 \n",
            " dense4 (Dense)              multiple                  5         \n",
            "                                                                 \n",
            "=================================================================\n",
            "Total params: 97\n",
            "Trainable params: 97\n",
            "Non-trainable params: 0\n",
            "_________________________________________________________________\n"
          ]
        },
        {
          "output_type": "execute_result",
          "data": {
            "text/plain": [
              "<IPython.core.display.Image object>"
            ],
            "image/png": "[encoded data removed]"
          },
          "metadata": {},
          "execution_count": 47
        }
      ]
    }
  ]
}