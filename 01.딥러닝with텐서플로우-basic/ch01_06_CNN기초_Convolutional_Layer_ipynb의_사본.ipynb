{
  "nbformat": 4,
  "nbformat_minor": 0,
  "metadata": {
    "colab": {
      "name": "ch01_06_CNN기초-Convolutional_Layer.ipynb의 사본",
      "provenance": [],
      "collapsed_sections": [],
      "include_colab_link": true
    },
    "kernelspec": {
      "name": "python3",
      "display_name": "Python 3"
    },
    "language_info": {
      "name": "python"
    },
    "accelerator": "GPU",
    "gpuClass": "standard"
  },
  "cells": [
    {
      "cell_type": "markdown",
      "metadata": {
        "id": "view-in-github",
        "colab_type": "text"
      },
      "source": [
        "<a href=\"https://colab.research.google.com/github/Mifekmk/SkillTreePython-DeepLearning/blob/main/01.%EB%94%A5%EB%9F%AC%EB%8B%9Dwith%ED%85%90%EC%84%9C%ED%94%8C%EB%A1%9C%EC%9A%B0-basic/ch01_06_CNN%EA%B8%B0%EC%B4%88_Convolutional_Layer_ipynb%EC%9D%98_%EC%82%AC%EB%B3%B8.ipynb\" target=\"_parent\"><img src=\"https://colab.research.google.com/assets/colab-badge.svg\" alt=\"Open In Colab\"/></a>"
      ]
    },
    {
      "cell_type": "markdown",
      "source": [
        "# ch01.06 CNN기초 - Convolutional Layer\n",
        "---\n",
        "\n",
        "* 날짜: 2022-07-04\n",
        "* 이름: 김민규\n",
        "\n",
        "## 학습내용\n",
        "    - CNN의 개념을 이해한다.\n",
        "    - 텐서플로우를 이용해 CNN을 구성한다.\n",
        "    - CNN 모델을 이용해 손글씨 이미지를 분류한다.\n",
        "    - CNN의 feature map에 대해 이해한다.\n",
        "\n",
        "## 데이터셋\n",
        "\n",
        "* MNIST\n",
        "\n",
        "```\n",
        "import numpy as np\n",
        "import tensorflow as tf\n",
        "import matplotlib.pyplot as plt\n",
        "```"
      ],
      "metadata": {
        "id": "sWs2kEC1_b-P"
      }
    },
    {
      "cell_type": "code",
      "source": [
        "import numpy as np\n",
        "import tensorflow as tf\n",
        "import matplotlib.pyplot as plt"
      ],
      "metadata": {
        "id": "7vXrksNr0m1v"
      },
      "execution_count": 1,
      "outputs": []
    },
    {
      "cell_type": "markdown",
      "source": [
        "## 이미지 데이터의 특징\n",
        "---\n",
        "\n",
        "<p align='center'>\n",
        "<img src=https://wikidocs.net/images/page/64066/conv1.png width=550>\n",
        "</p>\n",
        "\n",
        "다층 퍼셉트론을 이용하기 위해서는 데이터 샘플 한개의 차원이 1차원이여야 합니다. 그러나 1차원으로 변환된 결과는 사람이 보기에도 이게 원래 어떤 이미지였는지 알아보기가 어렵습니다. \n",
        "\n",
        "위와 같은 결과는 변환 전에 가지고 있던 **공간적인 구조**(spatial structure) 정보가 유실된 상태입니다.\n",
        "\n",
        "결국 이미지의 공간적인 구조 정보를 보존하면서 학습할 수 있는 방법이 필요해졌고, 이를 위해 합성곱 신경망을 사용합니다.\n"
      ],
      "metadata": {
        "id": "FuUR8DztmbId"
      }
    },
    {
      "cell_type": "markdown",
      "source": [
        "```\n",
        "X = np.array([[1,1,1,1,1],\n",
        "              [1,0,1,0,1],\n",
        "              [1,1,0,0,1],\n",
        "              [1,1,1,0,1],\n",
        "              [1,1,1,0,1],\n",
        "              [1,1,1,1,1],])\n",
        "```"
      ],
      "metadata": {
        "id": "dy4UcDermXkx"
      }
    },
    {
      "cell_type": "code",
      "source": [
        "X = np.array([[1,1,1,1,1],\n",
        "              [1,0,1,0,1],\n",
        "              [1,1,0,0,1],\n",
        "              [1,1,1,0,1],\n",
        "              [1,1,1,0,1],\n",
        "              [1,1,1,1,1],])\n",
        "X_flatten = X.flatten().reshape(1,30)\n",
        "print(X.shape)\n",
        "print(X_flatten.shape)\n",
        "plt.imshow(X, cmap='gray')\n",
        "\n",
        "plt.subplot(211);plt.imshow(X, cmap='gray')\n",
        "plt.subplot(212);plt.imshow(X_flatten, cmap='gray') # (30, ) -> (1,30)"
      ],
      "metadata": {
        "id": "_affyE2BmWIl",
        "colab": {
          "base_uri": "https://localhost:8080/",
          "height": 277
        },
        "outputId": "8a86904e-5ee8-4d2f-e93a-27ae70c7a1d5"
      },
      "execution_count": 2,
      "outputs": [
        {
          "output_type": "stream",
          "name": "stdout",
          "text": [
            "(6, 5)\n",
            "(1, 30)\n"
          ]
        },
        {
          "output_type": "execute_result",
          "data": {
            "text/plain": [
              "<matplotlib.image.AxesImage at 0x7f90b78e5b50>"
            ]
          },
          "metadata": {},
          "execution_count": 2
        },
        {
          "output_type": "display_data",
          "data": {
            "text/plain": [
              "<Figure size 432x288 with 2 Axes>"
            ],
            "image/png": "[encoded data removed]"
          },
          "metadata": {
            "needs_background": "light"
          }
        }
      ]
    },
    {
      "cell_type": "markdown",
      "source": [
        "## 합성곱 층\n",
        "---"
      ],
      "metadata": {
        "id": "g-2VVA31UTnD"
      }
    },
    {
      "cell_type": "markdown",
      "source": [
        "### | 텐서플로우를 이용한 합성곱층 구현\n",
        "\n",
        "```\n",
        "tf.keras.layers.Conv2D(\n",
        "    filters,\n",
        "    kernel_size,\n",
        "    padding='valid',\n",
        "    strides=(1, 1),\n",
        "    activation=None,\n",
        ")\n",
        "\n",
        "```"
      ],
      "metadata": {
        "id": "QfP9HDu1g9kJ"
      }
    },
    {
      "cell_type": "code",
      "source": [
        "from tensorflow.keras.layers import Conv2D\n",
        "#from tensorflow.keras import layers"
      ],
      "metadata": {
        "id": "_tygZa2jZg3q"
      },
      "execution_count": 3,
      "outputs": []
    },
    {
      "cell_type": "markdown",
      "source": [
        "#### **filters**\n",
        "\n",
        "* filter 개수에 따라 아웃풋의 shape가 어떻게 변화하는지 살펴봅니다.\n",
        "\n",
        "<p align='center'>\n",
        "<img src=https://github.com/yebiny/SkillTreePython-DeepLearning/blob/main/imgs/ch0106-01.PNG?raw=true\n",
        " width=450>\n",
        "</p>\n"
      ],
      "metadata": {
        "id": "Ir3O8uUr7vZp"
      }
    },
    {
      "cell_type": "code",
      "source": [
        "x = np.random.normal(0,1, size=(1, 8,8, 1)) # resolution = (8,8), ch=(1)\n",
        "print(x.shape)\n",
        "for n in[1,2,3,4]:\n",
        "    y = Conv2D(filters = n, kernel_size=(2,2))(x)\n",
        "    print(f'필터 개수가 {n}일 때 아웃풋의 shape: {y.shape}')\n",
        "# 필터 개수에 따라 아웃풋의 채널 (dimension)이 변화"
      ],
      "metadata": {
        "id": "jYfxDSgCg1im",
        "colab": {
          "base_uri": "https://localhost:8080/"
        },
        "outputId": "ecaf9674-edf9-4a37-9c42-fda16e0c39f3"
      },
      "execution_count": 4,
      "outputs": [
        {
          "output_type": "stream",
          "name": "stdout",
          "text": [
            "(1, 8, 8, 1)\n",
            "필터 개수가 1일 때 아웃풋의 shape: (1, 7, 7, 1)\n",
            "필터 개수가 2일 때 아웃풋의 shape: (1, 7, 7, 2)\n",
            "필터 개수가 3일 때 아웃풋의 shape: (1, 7, 7, 3)\n",
            "필터 개수가 4일 때 아웃풋의 shape: (1, 7, 7, 4)\n"
          ]
        }
      ]
    },
    {
      "cell_type": "markdown",
      "source": [
        "#### **kernel size**\n",
        "\n",
        "* kernel size 에 따라 아웃풋의 shape가 어떻게 변화하는지 살펴봅니다.\n",
        "\n",
        "<p align='center'>\n",
        "<img src=https://github.com/yebiny/SkillTreePython-DeepLearning/blob/main/imgs/ch0106-02.PNG?raw=true\n",
        " width=450>\n",
        "</p>"
      ],
      "metadata": {
        "id": "GXwC2GIM8ekk"
      }
    },
    {
      "cell_type": "code",
      "source": [
        "x = np.random.normal(0,1, size=(1, 4,4, 1)) # resolution = (4,4), ch=(1)\n",
        "print(x.shape)\n",
        "for n in[1,2,3,4]:\n",
        "    y = Conv2D(filters = 1, kernel_size=n)(x)\n",
        "    print(f'커널 사이즈가 {n}일 때 아웃풋의 shape: {y.shape}')\n",
        "# 필터 개수에 따라 아웃풋의 채널 (dimension)이 변화\n",
        "# 커널 사이즈에 따라 아웃풋의 resolution이 변화합니다(4-n+1)."
      ],
      "metadata": {
        "id": "ASGoNrRl8ekr",
        "colab": {
          "base_uri": "https://localhost:8080/"
        },
        "outputId": "5cf6c13c-cb11-4f44-835a-9936dc3d5513"
      },
      "execution_count": 5,
      "outputs": [
        {
          "output_type": "stream",
          "name": "stdout",
          "text": [
            "(1, 4, 4, 1)\n",
            "커널 사이즈가 1일 때 아웃풋의 shape: (1, 4, 4, 1)\n",
            "커널 사이즈가 2일 때 아웃풋의 shape: (1, 3, 3, 1)\n",
            "커널 사이즈가 3일 때 아웃풋의 shape: (1, 2, 2, 1)\n",
            "커널 사이즈가 4일 때 아웃풋의 shape: (1, 1, 1, 1)\n"
          ]
        }
      ]
    },
    {
      "cell_type": "markdown",
      "source": [
        "#### **padding**\n",
        "\n",
        "* padding 옵션에 따라 아웃풋의 shape가 어떻게 변화하는지 살펴봅니다.\n",
        "  * valid\n",
        "  * same\n",
        "\n",
        "<p align='center'>\n",
        "<img src=https://github.com/yebiny/SkillTreePython-DeepLearning/blob/main/imgs/ch0106-03.PNG?raw=true\n",
        " width=550>\n",
        "</p>"
      ],
      "metadata": {
        "id": "tDjyf9xG8m-i"
      }
    },
    {
      "cell_type": "code",
      "source": [
        "x = np.random.normal(0,1, size=(1, 4,4, 1)) # resolution = (4,4), ch=(1)\n",
        "print(x.shape)\n",
        "for n in[1,2,3,4]:\n",
        "    for padding in ['valid', 'same']:\n",
        "        y = Conv2D(filters = 1, kernel_size=n, padding=padding)(x)\n",
        "        print(f'커널 사이즈가 {n}이고, 패딩이 {padding}일 때, 아웃풋의 shape: {y.shape}')\n",
        "\n",
        "# padding = same이면 커널 사이즈에 따른 아웃풋 변화가 없습니다.\n",
        "# 대게의 경우 패딩을 = 'same' -> 커널 사이즈가 아웃풋 크기 고려 안함"
      ],
      "metadata": {
        "id": "O5nMpYKr8m-j",
        "colab": {
          "base_uri": "https://localhost:8080/"
        },
        "outputId": "b12921d8-8023-48d3-bea5-5fb707badd67"
      },
      "execution_count": 6,
      "outputs": [
        {
          "output_type": "stream",
          "name": "stdout",
          "text": [
            "(1, 4, 4, 1)\n",
            "커널 사이즈가 1이고, 패딩이 valid일 때, 아웃풋의 shape: (1, 4, 4, 1)\n",
            "커널 사이즈가 1이고, 패딩이 same일 때, 아웃풋의 shape: (1, 4, 4, 1)\n",
            "커널 사이즈가 2이고, 패딩이 valid일 때, 아웃풋의 shape: (1, 3, 3, 1)\n",
            "커널 사이즈가 2이고, 패딩이 same일 때, 아웃풋의 shape: (1, 4, 4, 1)\n",
            "커널 사이즈가 3이고, 패딩이 valid일 때, 아웃풋의 shape: (1, 2, 2, 1)\n",
            "커널 사이즈가 3이고, 패딩이 same일 때, 아웃풋의 shape: (1, 4, 4, 1)\n",
            "커널 사이즈가 4이고, 패딩이 valid일 때, 아웃풋의 shape: (1, 1, 1, 1)\n",
            "커널 사이즈가 4이고, 패딩이 same일 때, 아웃풋의 shape: (1, 4, 4, 1)\n"
          ]
        }
      ]
    },
    {
      "cell_type": "markdown",
      "source": [
        "#### **strides**\n",
        "* strides 의 크기에 따라 아웃풋의 shape가 어떻게 변화하는지 살펴봅니다.\n",
        "\n",
        "<p align='center'>\n",
        "<img src=https://github.com/yebiny/SkillTreePython-DeepLearning/blob/main/imgs/ch0106-04.PNG?raw=true\n",
        " width=450>\n",
        "</p>"
      ],
      "metadata": {
        "id": "AhPvcOMS8-tT"
      }
    },
    {
      "cell_type": "code",
      "source": [
        "x = np.random.normal(0,1, size=(1, 24,24, 1)) # resolution = (24,24), ch=(1)\n",
        "print(x.shape)\n",
        "for n in[1,2,3,4,6]: # 보통 1 또는 2정도.. 크게 사용하지는 않습니다.\n",
        "    y = Conv2D(filters = 1, kernel_size=3, padding='same', strides=n)(x)\n",
        "    print(f'커널 사이즈가 {n}일 때 아웃풋의 shape: {y.shape}')\n",
        "# 스트라이드에 따라 아웃풋의 resolution이 변화 (resolution/n)"
      ],
      "metadata": {
        "id": "ejYHsGjW9Dxd",
        "colab": {
          "base_uri": "https://localhost:8080/"
        },
        "outputId": "0200e37a-21c1-4533-957f-b46cbc328e39"
      },
      "execution_count": 7,
      "outputs": [
        {
          "output_type": "stream",
          "name": "stdout",
          "text": [
            "(1, 24, 24, 1)\n",
            "커널 사이즈가 1일 때 아웃풋의 shape: (1, 24, 24, 1)\n",
            "커널 사이즈가 2일 때 아웃풋의 shape: (1, 12, 12, 1)\n",
            "커널 사이즈가 3일 때 아웃풋의 shape: (1, 8, 8, 1)\n",
            "커널 사이즈가 4일 때 아웃풋의 shape: (1, 6, 6, 1)\n",
            "커널 사이즈가 6일 때 아웃풋의 shape: (1, 4, 4, 1)\n"
          ]
        }
      ]
    },
    {
      "cell_type": "markdown",
      "source": [
        "## CNN 실습: MNIST 손글씨 이미지 분류\n",
        "---\n",
        "\n",
        "```\n",
        "mnist = tf.keras.datasets.mnist\n",
        "(x_train, y_train), (x_test, y_test) = mnist.load_data()\n",
        "```"
      ],
      "metadata": {
        "id": "xLsMxkxi6fgp"
      }
    },
    {
      "cell_type": "markdown",
      "source": [
        "### **| CNN 모델을 이용한 분류**"
      ],
      "metadata": {
        "id": "BDcHGuNeaLPf"
      }
    },
    {
      "cell_type": "markdown",
      "source": [
        "####  **데이터 준비**"
      ],
      "metadata": {
        "id": "9XFyQs_Nm6w0"
      }
    },
    {
      "cell_type": "code",
      "source": [
        "mnist = tf.keras.datasets.mnist\n",
        "(x_train, y_train), (x_test, y_test) = mnist.load_data()\n",
        "\n",
        "# 전처리-정규화\n",
        "x_train = x_train/255.0\n",
        "x_test = x_test/255.0\n",
        "# 전처리-shape 맞추기\n",
        "x_train = np.expand_dims(x_train, 3)\n",
        "x_test = np.expand_dims(x_test, 3)\n",
        "\n",
        "print(x_train.shape, x_test.shape, y_train.shape, y_test.shape)"
      ],
      "metadata": {
        "id": "eFbUg6pkhV0I",
        "colab": {
          "base_uri": "https://localhost:8080/"
        },
        "outputId": "669ad446-8f46-4b6b-91be-9dc51fa4231b"
      },
      "execution_count": 8,
      "outputs": [
        {
          "output_type": "stream",
          "name": "stdout",
          "text": [
            "(60000, 28, 28, 1) (10000, 28, 28, 1) (60000,) (10000,)\n"
          ]
        }
      ]
    },
    {
      "cell_type": "markdown",
      "source": [
        "#### **모델 구성**\n",
        "<p align='center'>\n",
        "<img src=https://github.com/yebiny/SkillTreePython-DeepLearning/blob/main/imgs/ch0106-05_2.PNG?raw=true\n",
        " width=650>\n",
        "</p>"
      ],
      "metadata": {
        "id": "Yr0WeGcxVYch"
      }
    },
    {
      "cell_type": "code",
      "source": [
        "from tensorflow.keras import models, layers, utils\n",
        "\n",
        "def build_model():\n",
        "    x = layers.Input(shape=(28,28,1))\n",
        "    #  * 모든 conv 레이어의 padding = 'same'\n",
        "    \n",
        "    # conv1\n",
        "    y = layers.Conv2D(8, kernel_size=3 ,padding='same', activation='relu')(x)\n",
        "    # conv2\n",
        "    y = layers.Conv2D(8, kernel_size=3 ,padding='same', activation='relu',\n",
        "                      strides=2)(y)\n",
        "    # conv3\n",
        "    y = layers.Conv2D(3, kernel_size=3 ,padding='same', activation='relu',\n",
        "                      strides=2)(y)\n",
        "    # flatten\n",
        "    y = layers.Flatten()(y)\n",
        "    y = layers.Dense(10, activation='softmax')(y) # softmax를 사용합니다.\n",
        "    # dense\n",
        "    model = models.Model(x,y)\n",
        "    return model"
      ],
      "metadata": {
        "id": "Luw4UdXprcOG"
      },
      "execution_count": 11,
      "outputs": []
    },
    {
      "cell_type": "markdown",
      "source": [
        "#### **학습 및 평가**"
      ],
      "metadata": {
        "id": "plLyxz6PaSMU"
      }
    },
    {
      "cell_type": "code",
      "source": [
        "model = build_model()\n",
        "model.summary()\n",
        "model.compile(loss= 'sparse_categorical_crossentropy',\n",
        "              optimizer= 'adam',\n",
        "              metrics=['accuracy'])\n",
        "model.fit(x_train, y_train, epochs=10)\n",
        "print('===테스트 스코어')\n",
        "model.evaluate(x_test,y_test)\n",
        "# 시각화\n",
        "utils.plot_model(model, show_shapes=True)"
      ],
      "metadata": {
        "id": "XJP8wbQVspks",
        "colab": {
          "base_uri": "https://localhost:8080/",
          "height": 1000
        },
        "outputId": "c28e09db-ae15-41f0-8fbc-849938ce3b12"
      },
      "execution_count": 14,
      "outputs": [
        {
          "output_type": "stream",
          "name": "stdout",
          "text": [
            "Model: \"model_2\"\n",
            "_________________________________________________________________\n",
            " Layer (type)                Output Shape              Param #   \n",
            "=================================================================\n",
            " input_4 (InputLayer)        [(None, 28, 28, 1)]       0         \n",
            "                                                                 \n",
            " conv2d_27 (Conv2D)          (None, 28, 28, 8)         80        \n",
            "                                                                 \n",
            " conv2d_28 (Conv2D)          (None, 14, 14, 8)         584       \n",
            "                                                                 \n",
            " conv2d_29 (Conv2D)          (None, 7, 7, 3)           219       \n",
            "                                                                 \n",
            " flatten_2 (Flatten)         (None, 147)               0         \n",
            "                                                                 \n",
            " dense_3 (Dense)             (None, 10)                1480      \n",
            "                                                                 \n",
            "=================================================================\n",
            "Total params: 2,363\n",
            "Trainable params: 2,363\n",
            "Non-trainable params: 0\n",
            "_________________________________________________________________\n",
            "Epoch 1/10\n",
            "1875/1875 [==============================] - 7s 3ms/step - loss: 0.4109 - accuracy: 0.8709\n",
            "Epoch 2/10\n",
            "1875/1875 [==============================] - 5s 3ms/step - loss: 0.1507 - accuracy: 0.9546\n",
            "Epoch 3/10\n",
            "1875/1875 [==============================] - 5s 3ms/step - loss: 0.1213 - accuracy: 0.9635\n",
            "Epoch 4/10\n",
            "1875/1875 [==============================] - 5s 3ms/step - loss: 0.1078 - accuracy: 0.9672\n",
            "Epoch 5/10\n",
            "1875/1875 [==============================] - 6s 3ms/step - loss: 0.0973 - accuracy: 0.9707\n",
            "Epoch 6/10\n",
            "1875/1875 [==============================] - 5s 3ms/step - loss: 0.0918 - accuracy: 0.9723\n",
            "Epoch 7/10\n",
            "1875/1875 [==============================] - 5s 3ms/step - loss: 0.0854 - accuracy: 0.9742\n",
            "Epoch 8/10\n",
            "1875/1875 [==============================] - 5s 3ms/step - loss: 0.0827 - accuracy: 0.9746\n",
            "Epoch 9/10\n",
            "1875/1875 [==============================] - 5s 3ms/step - loss: 0.0788 - accuracy: 0.9764\n",
            "Epoch 10/10\n",
            "1875/1875 [==============================] - 5s 3ms/step - loss: 0.0755 - accuracy: 0.9765\n",
            "===테스트 스코어\n",
            "313/313 [==============================] - 1s 3ms/step - loss: 0.0719 - accuracy: 0.9780\n"
          ]
        },
        {
          "output_type": "execute_result",
          "data": {
            "text/plain": [
              "<IPython.core.display.Image object>"
            ],
            "image/png": "[encoded data removed]"
          },
          "metadata": {},
          "execution_count": 14
        }
      ]
    },
    {
      "cell_type": "markdown",
      "source": [
        "### **| Feature map**"
      ],
      "metadata": {
        "id": "MDlSRAle6SKL"
      }
    },
    {
      "cell_type": "markdown",
      "source": [
        "#### **feature map 얻기**"
      ],
      "metadata": {
        "id": "Idw3nITWaaGb"
      }
    },
    {
      "cell_type": "code",
      "source": [
        "# for layer in model.layers:\n",
        "#     print(layer, layer.output)\n",
        "layer_outputs = [layer.output for layer in model.layers] # 레이어의 아웃풋 = 데이터 변환과정\n",
        "model_output_by_layer = models.Model(inputs=model.input, outputs=layer_outputs) # 모든 레이어의 아웃풋 획득 가능\n",
        "print(len(layer_outputs))\n",
        "x_pred_maps = model_output_by_layer(x_test)\n",
        "for x_pred_map in x_pred_maps:\n",
        "    print(x_pred_map.shape)\n",
        "cnn_layers = [1,2,3]\n",
        "dnn_layers = [4,5]"
      ],
      "metadata": {
        "id": "sEFcCb5Btua2",
        "colab": {
          "base_uri": "https://localhost:8080/"
        },
        "outputId": "f554508f-9e73-461f-a13b-87b1d9d0cba3"
      },
      "execution_count": 21,
      "outputs": [
        {
          "output_type": "stream",
          "name": "stdout",
          "text": [
            "6\n",
            "(10000, 28, 28, 1)\n",
            "(10000, 28, 28, 8)\n",
            "(10000, 14, 14, 8)\n",
            "(10000, 7, 7, 3)\n",
            "(10000, 147)\n",
            "(10000, 10)\n"
          ]
        }
      ]
    },
    {
      "cell_type": "markdown",
      "source": [
        "#### **시각화**\n",
        "\n",
        "<p align='center'>\n",
        "<img src=https://github.com/yebiny/SkillTreePython-DeepLearning/blob/main/imgs/ch0106-05_2.PNG?raw=true\n",
        " width=650>\n",
        "</p>\n",
        "\n",
        "[시각화 함수 스크립트](https://github.com/yebiny/SkillTreePython-DeepLearning/blob/main/01.%EB%94%A5%EB%9F%AC%EB%8B%9Dwith%ED%85%90%EC%84%9C%ED%94%8C%EB%A1%9C%EC%9A%B0-basic/scripts/featuremap_dict.py)"
      ],
      "metadata": {
        "id": "KS8K45aqWbYb"
      }
    },
    {
      "cell_type": "code",
      "source": [
        "sample_idx = 33\n",
        "show_featuremap(sample_idx, x_pred_maps, cnn_layers, dnn_layers)"
      ],
      "metadata": {
        "colab": {
          "base_uri": "https://localhost:8080/",
          "height": 392
        },
        "id": "7mqMDktZOrFY",
        "outputId": "20daebbf-b4e9-4387-abc4-704a76bcb866"
      },
      "execution_count": 28,
      "outputs": [
        {
          "output_type": "stream",
          "name": "stdout",
          "text": [
            "1 번째 Convolutional 레이어 (28, 28, 8)\n"
          ]
        },
        {
          "output_type": "display_data",
          "data": {
            "text/plain": [
              "<Figure size 432x288 with 8 Axes>"
            ],
            "image/png": "[encoded data removed]"
          },
          "metadata": {}
        },
        {
          "output_type": "stream",
          "name": "stdout",
          "text": [
            "2 번째 Convolutional 레이어 (14, 14, 8)\n"
          ]
        },
        {
          "output_type": "display_data",
          "data": {
            "text/plain": [
              "<Figure size 432x288 with 8 Axes>"
            ],
            "image/png": "[encoded data removed]"
          },
          "metadata": {}
        },
        {
          "output_type": "stream",
          "name": "stdout",
          "text": [
            "3 번째 Convolutional 레이어 (7, 7, 3)\n"
          ]
        },
        {
          "output_type": "display_data",
          "data": {
            "text/plain": [
              "<Figure size 432x288 with 3 Axes>"
            ],
            "image/png": "[encoded data removed]"
          },
          "metadata": {}
        },
        {
          "output_type": "stream",
          "name": "stdout",
          "text": [
            "4 번째 Dense 레이어 (147,)\n"
          ]
        },
        {
          "output_type": "display_data",
          "data": {
            "text/plain": [
              "<Figure size 2088x720 with 1 Axes>"
            ],
            "image/png": "[encoded data removed]"
          },
          "metadata": {
            "needs_background": "light"
          }
        },
        {
          "output_type": "stream",
          "name": "stdout",
          "text": [
            "5 번째 Dense 레이어 (10,)\n"
          ]
        },
        {
          "output_type": "display_data",
          "data": {
            "text/plain": [
              "<Figure size 144x720 with 1 Axes>"
            ],
            "image/png": "[encoded data removed]"
          },
          "metadata": {
            "needs_background": "light"
          }
        }
      ]
    },
    {
      "cell_type": "code",
      "source": [
        "import numpy as numpy\n",
        "import tensorflow as tf\n",
        "import matplotlib.pyplot as plt\n",
        "\n",
        "def show_featuremap(sample_idx, fmaps, cnn_idxs, flatten_idxs):\n",
        "  for idx in cnn_idxs:\n",
        "    fmap = fmaps[idx][sample_idx]\n",
        "    chs = fmap.shape[2]\n",
        "    print(f'{idx} 번째 Convolutional 레이어 {fmap.shape}')\n",
        "    for ch in range(chs):\n",
        "      plt.subplot(1,chs,ch+1)\n",
        "      plt.imshow(fmap[:,:,ch], cmap='gray')\n",
        "      plt.xticks([]);plt.yticks([])\n",
        "    plt.show()\n",
        "\n",
        "  for idx in flatten_idxs:\n",
        "    fmap = fmaps[idx][sample_idx]\n",
        "    print(f'{idx} 번째 Dense 레이어 {fmap.shape}')\n",
        "    plt.figure(figsize=(int(len(fmap)/5),10))\n",
        "    plt.imshow(tf.reshape(fmap,(1,len(fmap))), cmap='gray')\n",
        "    plt.xticks(range(10));plt.yticks([]);plt.show()"
      ],
      "metadata": {
        "id": "noAT1fCmaxIK"
      },
      "execution_count": 22,
      "outputs": []
    }
  ]
}