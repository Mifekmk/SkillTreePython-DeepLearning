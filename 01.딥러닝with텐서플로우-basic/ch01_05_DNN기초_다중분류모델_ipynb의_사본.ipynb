{
  "nbformat": 4,
  "nbformat_minor": 0,
  "metadata": {
    "colab": {
      "name": "ch01_05_DNN기초-다중분류모델.ipynb의 사본",
      "provenance": [],
      "collapsed_sections": [],
      "machine_shape": "hm",
      "include_colab_link": true
    },
    "kernelspec": {
      "name": "python3",
      "display_name": "Python 3"
    },
    "language_info": {
      "name": "python"
    },
    "accelerator": "GPU",
    "gpuClass": "standard"
  },
  "cells": [
    {
      "cell_type": "markdown",
      "metadata": {
        "id": "view-in-github",
        "colab_type": "text"
      },
      "source": [
        "<a href=\"https://colab.research.google.com/github/Mifekmk/SkillTreePython-DeepLearning/blob/main/01.%EB%94%A5%EB%9F%AC%EB%8B%9Dwith%ED%85%90%EC%84%9C%ED%94%8C%EB%A1%9C%EC%9A%B0-basic/ch01_05_DNN%EA%B8%B0%EC%B4%88_%EB%8B%A4%EC%A4%91%EB%B6%84%EB%A5%98%EB%AA%A8%EB%8D%B8_ipynb%EC%9D%98_%EC%82%AC%EB%B3%B8.ipynb\" target=\"_parent\"><img src=\"https://colab.research.google.com/assets/colab-badge.svg\" alt=\"Open In Colab\"/></a>"
      ]
    },
    {
      "cell_type": "markdown",
      "source": [
        "# ch01.05. 딥러닝 다중 분류 모델\n",
        "---\n",
        "* 날짜: 2022-07-04\n",
        "* 이름: 김민규\n",
        "\n",
        "## 학습내용\n",
        "    - 딥러닝을 이용한 멀티클래스 분류 진행\n",
        "    - 적절한 손실함수와 최적화 함수 정의\n",
        "    - 평가 및 예측\n",
        "    \n",
        "## 학습자료\n",
        "\n",
        "* 모두의딥러닝\n",
        "* 데이터\n",
        "  * `iris.csv`\n",
        "  * MNIST 데이터셋\n",
        "\n",
        "\n",
        "```\n",
        "import numpy as np\n",
        "import pandas as pd\n",
        "import tensorflow as tf\n",
        "import matplotlib.pyplot as plt\n",
        "import seaborn as sns\n",
        "seed=1\n",
        "np.random.seed(seed)\n",
        "tf.random.set_seed(seed)\n",
        "```\n",
        "\n",
        "```\n",
        "https://github.com/yebiny/SkillTreePython-DeepLearning.git\n",
        "```"
      ],
      "metadata": {
        "id": "sWs2kEC1_b-P"
      }
    },
    {
      "cell_type": "code",
      "source": [
        "import numpy as np\n",
        "import pandas as pd\n",
        "import tensorflow as tf\n",
        "import matplotlib.pyplot as plt\n",
        "import seaborn as sns\n",
        "seed=1\n",
        "np.random.seed(seed)\n",
        "tf.random.set_seed(seed)"
      ],
      "metadata": {
        "id": "HJqjPthwgTg-"
      },
      "execution_count": 1,
      "outputs": []
    },
    {
      "cell_type": "code",
      "source": [
        "! git clone https://github.com/yebiny/SkillTreePython-DeepLearning.git"
      ],
      "metadata": {
        "id": "XiKfkQgYfoIE",
        "colab": {
          "base_uri": "https://localhost:8080/"
        },
        "outputId": "58d58f4a-5303-4d1d-9ac1-5ea6ae84ddd0"
      },
      "execution_count": 2,
      "outputs": [
        {
          "output_type": "stream",
          "name": "stdout",
          "text": [
            "fatal: destination path 'SkillTreePython-DeepLearning' already exists and is not an empty directory.\n"
          ]
        }
      ]
    },
    {
      "cell_type": "markdown",
      "source": [
        "## 아이리스 꽃 종류 예측\n",
        "---\n",
        "\n",
        "\n",
        "```\n",
        "- 0 sepal_length  꽃받침 길이\n",
        "- 1 sepal_width 꽃받침 너비\n",
        "- 2 petal_length 꽃임 길이\n",
        "- 3 petal_width 꽃잎 너비\n",
        "- 4 species 꽃의 종류 {setosa, versicolor virginica}\n",
        "```\n",
        "<p align='center'>\n",
        "<img src=https://github.com/yebiny/SkillTreePython-DeepLearning/blob/main/imgs/ch0105-01.PNG?raw=true width=550>\n",
        "</p>\n"
      ],
      "metadata": {
        "id": "4wsuH8GzftqZ"
      }
    },
    {
      "cell_type": "code",
      "execution_count": 3,
      "metadata": {
        "id": "68PCrczmzdId",
        "colab": {
          "base_uri": "https://localhost:8080/",
          "height": 424
        },
        "outputId": "a9930cf9-cb6f-47e8-aaca-42473db7aa4a"
      },
      "outputs": [
        {
          "output_type": "execute_result",
          "data": {
            "text/plain": [
              "       0    1    2    3               4\n",
              "0    5.1  3.5  1.4  0.2     Iris-setosa\n",
              "1    4.9  3.0  1.4  0.2     Iris-setosa\n",
              "2    4.7  3.2  1.3  0.2     Iris-setosa\n",
              "3    4.6  3.1  1.5  0.2     Iris-setosa\n",
              "4    5.0  3.6  1.4  0.2     Iris-setosa\n",
              "..   ...  ...  ...  ...             ...\n",
              "145  6.7  3.0  5.2  2.3  Iris-virginica\n",
              "146  6.3  2.5  5.0  1.9  Iris-virginica\n",
              "147  6.5  3.0  5.2  2.0  Iris-virginica\n",
              "148  6.2  3.4  5.4  2.3  Iris-virginica\n",
              "149  5.9  3.0  5.1  1.8  Iris-virginica\n",
              "\n",
              "[150 rows x 5 columns]"
            ],
            "text/html": [
              "\n",
              "  <div id=\"df-e5d402e3-2fe1-45d0-97fd-93b5c95d82e4\">\n",
              "    <div class=\"colab-df-container\">\n",
              "      <div>\n",
              "<style scoped>\n",
              "    .dataframe tbody tr th:only-of-type {\n",
              "        vertical-align: middle;\n",
              "    }\n",
              "\n",
              "    .dataframe tbody tr th {\n",
              "        vertical-align: top;\n",
              "    }\n",
              "\n",
              "    .dataframe thead th {\n",
              "        text-align: right;\n",
              "    }\n",
              "</style>\n",
              "<table border=\"1\" class=\"dataframe\">\n",
              "  <thead>\n",
              "    <tr style=\"text-align: right;\">\n",
              "      <th></th>\n",
              "      <th>0</th>\n",
              "      <th>1</th>\n",
              "      <th>2</th>\n",
              "      <th>3</th>\n",
              "      <th>4</th>\n",
              "    </tr>\n",
              "  </thead>\n",
              "  <tbody>\n",
              "    <tr>\n",
              "      <th>0</th>\n",
              "      <td>5.1</td>\n",
              "      <td>3.5</td>\n",
              "      <td>1.4</td>\n",
              "      <td>0.2</td>\n",
              "      <td>Iris-setosa</td>\n",
              "    </tr>\n",
              "    <tr>\n",
              "      <th>1</th>\n",
              "      <td>4.9</td>\n",
              "      <td>3.0</td>\n",
              "      <td>1.4</td>\n",
              "      <td>0.2</td>\n",
              "      <td>Iris-setosa</td>\n",
              "    </tr>\n",
              "    <tr>\n",
              "      <th>2</th>\n",
              "      <td>4.7</td>\n",
              "      <td>3.2</td>\n",
              "      <td>1.3</td>\n",
              "      <td>0.2</td>\n",
              "      <td>Iris-setosa</td>\n",
              "    </tr>\n",
              "    <tr>\n",
              "      <th>3</th>\n",
              "      <td>4.6</td>\n",
              "      <td>3.1</td>\n",
              "      <td>1.5</td>\n",
              "      <td>0.2</td>\n",
              "      <td>Iris-setosa</td>\n",
              "    </tr>\n",
              "    <tr>\n",
              "      <th>4</th>\n",
              "      <td>5.0</td>\n",
              "      <td>3.6</td>\n",
              "      <td>1.4</td>\n",
              "      <td>0.2</td>\n",
              "      <td>Iris-setosa</td>\n",
              "    </tr>\n",
              "    <tr>\n",
              "      <th>...</th>\n",
              "      <td>...</td>\n",
              "      <td>...</td>\n",
              "      <td>...</td>\n",
              "      <td>...</td>\n",
              "      <td>...</td>\n",
              "    </tr>\n",
              "    <tr>\n",
              "      <th>145</th>\n",
              "      <td>6.7</td>\n",
              "      <td>3.0</td>\n",
              "      <td>5.2</td>\n",
              "      <td>2.3</td>\n",
              "      <td>Iris-virginica</td>\n",
              "    </tr>\n",
              "    <tr>\n",
              "      <th>146</th>\n",
              "      <td>6.3</td>\n",
              "      <td>2.5</td>\n",
              "      <td>5.0</td>\n",
              "      <td>1.9</td>\n",
              "      <td>Iris-virginica</td>\n",
              "    </tr>\n",
              "    <tr>\n",
              "      <th>147</th>\n",
              "      <td>6.5</td>\n",
              "      <td>3.0</td>\n",
              "      <td>5.2</td>\n",
              "      <td>2.0</td>\n",
              "      <td>Iris-virginica</td>\n",
              "    </tr>\n",
              "    <tr>\n",
              "      <th>148</th>\n",
              "      <td>6.2</td>\n",
              "      <td>3.4</td>\n",
              "      <td>5.4</td>\n",
              "      <td>2.3</td>\n",
              "      <td>Iris-virginica</td>\n",
              "    </tr>\n",
              "    <tr>\n",
              "      <th>149</th>\n",
              "      <td>5.9</td>\n",
              "      <td>3.0</td>\n",
              "      <td>5.1</td>\n",
              "      <td>1.8</td>\n",
              "      <td>Iris-virginica</td>\n",
              "    </tr>\n",
              "  </tbody>\n",
              "</table>\n",
              "<p>150 rows × 5 columns</p>\n",
              "</div>\n",
              "      <button class=\"colab-df-convert\" onclick=\"convertToInteractive('df-e5d402e3-2fe1-45d0-97fd-93b5c95d82e4')\"\n",
              "              title=\"Convert this dataframe to an interactive table.\"\n",
              "              style=\"display:none;\">\n",
              "        \n",
              "  <svg xmlns=\"http://www.w3.org/2000/svg\" height=\"24px\"viewBox=\"0 0 24 24\"\n",
              "       width=\"24px\">\n",
              "    <path d=\"M0 0h24v24H0V0z\" fill=\"none\"/>\n",
              "    <path d=\"M18.56 5.44l.94 2.06.94-2.06 2.06-.94-2.06-.94-.94-2.06-.94 2.06-2.06.94zm-11 1L8.5 8.5l.94-2.06 2.06-.94-2.06-.94L8.5 2.5l-.94 2.06-2.06.94zm10 10l.94 2.06.94-2.06 2.06-.94-2.06-.94-.94-2.06-.94 2.06-2.06.94z\"/><path d=\"M17.41 7.96l-1.37-1.37c-.4-.4-.92-.59-1.43-.59-.52 0-1.04.2-1.43.59L10.3 9.45l-7.72 7.72c-.78.78-.78 2.05 0 2.83L4 21.41c.39.39.9.59 1.41.59.51 0 1.02-.2 1.41-.59l7.78-7.78 2.81-2.81c.8-.78.8-2.07 0-2.86zM5.41 20L4 18.59l7.72-7.72 1.47 1.35L5.41 20z\"/>\n",
              "  </svg>\n",
              "      </button>\n",
              "      \n",
              "  <style>\n",
              "    .colab-df-container {\n",
              "      display:flex;\n",
              "      flex-wrap:wrap;\n",
              "      gap: 12px;\n",
              "    }\n",
              "\n",
              "    .colab-df-convert {\n",
              "      background-color: #E8F0FE;\n",
              "      border: none;\n",
              "      border-radius: 50%;\n",
              "      cursor: pointer;\n",
              "      display: none;\n",
              "      fill: #1967D2;\n",
              "      height: 32px;\n",
              "      padding: 0 0 0 0;\n",
              "      width: 32px;\n",
              "    }\n",
              "\n",
              "    .colab-df-convert:hover {\n",
              "      background-color: #E2EBFA;\n",
              "      box-shadow: 0px 1px 2px rgba(60, 64, 67, 0.3), 0px 1px 3px 1px rgba(60, 64, 67, 0.15);\n",
              "      fill: #174EA6;\n",
              "    }\n",
              "\n",
              "    [theme=dark] .colab-df-convert {\n",
              "      background-color: #3B4455;\n",
              "      fill: #D2E3FC;\n",
              "    }\n",
              "\n",
              "    [theme=dark] .colab-df-convert:hover {\n",
              "      background-color: #434B5C;\n",
              "      box-shadow: 0px 1px 3px 1px rgba(0, 0, 0, 0.15);\n",
              "      filter: drop-shadow(0px 1px 2px rgba(0, 0, 0, 0.3));\n",
              "      fill: #FFFFFF;\n",
              "    }\n",
              "  </style>\n",
              "\n",
              "      <script>\n",
              "        const buttonEl =\n",
              "          document.querySelector('#df-e5d402e3-2fe1-45d0-97fd-93b5c95d82e4 button.colab-df-convert');\n",
              "        buttonEl.style.display =\n",
              "          google.colab.kernel.accessAllowed ? 'block' : 'none';\n",
              "\n",
              "        async function convertToInteractive(key) {\n",
              "          const element = document.querySelector('#df-e5d402e3-2fe1-45d0-97fd-93b5c95d82e4');\n",
              "          const dataTable =\n",
              "            await google.colab.kernel.invokeFunction('convertToInteractive',\n",
              "                                                     [key], {});\n",
              "          if (!dataTable) return;\n",
              "\n",
              "          const docLinkHtml = 'Like what you see? Visit the ' +\n",
              "            '<a target=\"_blank\" href=https://colab.research.google.com/notebooks/data_table.ipynb>data table notebook</a>'\n",
              "            + ' to learn more about interactive tables.';\n",
              "          element.innerHTML = '';\n",
              "          dataTable['output_type'] = 'display_data';\n",
              "          await google.colab.output.renderOutput(dataTable, element);\n",
              "          const docLink = document.createElement('div');\n",
              "          docLink.innerHTML = docLinkHtml;\n",
              "          element.appendChild(docLink);\n",
              "        }\n",
              "      </script>\n",
              "    </div>\n",
              "  </div>\n",
              "  "
            ]
          },
          "metadata": {},
          "execution_count": 3
        }
      ],
      "source": [
        "data_path = '/content/SkillTreePython-DeepLearning/dataset/iris.csv'\n",
        "df = pd.read_csv(data_path, header=None)\n",
        "df"
      ]
    },
    {
      "cell_type": "code",
      "source": [
        "sns.countplot(x=df[4]);plt.title('all dataset')"
      ],
      "metadata": {
        "id": "PoXYFIE9_mTS",
        "colab": {
          "base_uri": "https://localhost:8080/",
          "height": 314
        },
        "outputId": "f914dff0-ae18-4408-f75f-8a6dc0e5c7bf"
      },
      "execution_count": 4,
      "outputs": [
        {
          "output_type": "execute_result",
          "data": {
            "text/plain": [
              "Text(0.5, 1.0, 'all dataset')"
            ]
          },
          "metadata": {},
          "execution_count": 4
        },
        {
          "output_type": "display_data",
          "data": {
            "text/plain": [
              "<Figure size 432x288 with 1 Axes>"
            ],
            "image/png": "[encoded data removed]"
          },
          "metadata": {
            "needs_background": "light"
          }
        }
      ]
    },
    {
      "cell_type": "code",
      "source": [
        "data_path = '/content/SkillTreePython-DeepLearning/dataset/iris.csv'\n",
        "df = pd.read_csv(data_path, header=None)\n",
        "df\n",
        "\n",
        "from sklearn.preprocessing import StandardScaler, OneHotEncoder\n",
        "from sklearn.model_selection import train_test_split\n",
        "\n",
        "def iris_preprocess(df, seed=1):\n",
        "    # x-y 분할\n",
        "    x = df.values[:, :-1] # values를 통해 넘파이로 변환\n",
        "    y = df.values[:,-1] # (전체샘플, 마지막 변수)\n",
        "    # 정규화 (x 데이터만)\n",
        "    ss = StandardScaler()\n",
        "    x = ss.fit_transform(x)\n",
        "\n",
        "    # 원-핫 (y 데이터)\n",
        "    oh = OneHotEncoder(sparse=False)\n",
        "    y = oh.fit_transform(np.expand_dims(y, 1)) # 인풋이 무조건 행렬이어야합니다.(150, )->(150,1)\n",
        "    print(f'원-핫 변환 순서: {oh.categories_}')\n",
        "    # train-test 분할\n",
        "    x_train, x_test, y_train, y_test = train_test_split(x,y, test_size=0.3,\n",
        "                                                        random_state=seed,\n",
        "                                                        stratify = y)\n",
        "    return x_train, x_test, y_train, y_test\n",
        "\n",
        "x_train, x_test, y_train, y_test = iris_preprocess(df)\n",
        "print(f'데이터 형태: {x_train.shape}, {x_test.shape}, {y_train.shape}, {y_test.shape}')\n",
        "print(f'첫 번째 샘플 x : {x_train[0]} y:{y_train[0]}')"
      ],
      "metadata": {
        "id": "BkDCCMLBgawg",
        "colab": {
          "base_uri": "https://localhost:8080/"
        },
        "outputId": "a6020ac4-0ddc-49c1-fde0-6220d0345024"
      },
      "execution_count": 5,
      "outputs": [
        {
          "output_type": "stream",
          "name": "stdout",
          "text": [
            "원-핫 변환 순서: [array(['Iris-setosa', 'Iris-versicolor', 'Iris-virginica'], dtype=object)]\n",
            "데이터 형태: (105, 4), (45, 4), (105, 3), (45, 3)\n",
            "첫 번째 샘플 x : [ 0.55333328 -0.58776353  0.76275864  0.39617188] y:[0. 0. 1.]\n"
          ]
        }
      ]
    },
    {
      "cell_type": "markdown",
      "source": [
        "* 예측값 분포 확인"
      ],
      "metadata": {
        "id": "87SJwUDWglBP"
      }
    },
    {
      "cell_type": "code",
      "source": [
        "plt.figure(figsize=(12,6))\n",
        "plt.subplot(121);sns.countplot(x=np.argmax(y_train,axis=1));plt.title('train dataset')\n",
        "plt.subplot(122);sns.countplot(x=np.argmax(y_test, axis=1));plt.title('test dataset')\n",
        "plt.show()"
      ],
      "metadata": {
        "id": "hLNYhitOgf0o",
        "colab": {
          "base_uri": "https://localhost:8080/",
          "height": 390
        },
        "outputId": "2b6332a1-e325-48a1-92c6-ad3729cf71b3"
      },
      "execution_count": 6,
      "outputs": [
        {
          "output_type": "display_data",
          "data": {
            "text/plain": [
              "<Figure size 864x432 with 2 Axes>"
            ],
            "image/png": "[encoded data removed]"
          },
          "metadata": {
            "needs_background": "light"
          }
        }
      ]
    },
    {
      "cell_type": "markdown",
      "source": [
        "### | 모델\n",
        "\n",
        "\n",
        "<p align='center'>\n",
        "<img src=https://github.com/yebiny/SkillTreePython-DeepLearning/blob/main/imgs/ch0105-02.PNG?raw=true width=800>\n",
        "</p>\n"
      ],
      "metadata": {
        "id": "DHshtWB9r0be"
      }
    },
    {
      "cell_type": "markdown",
      "source": [
        "#### **모델 생성**"
      ],
      "metadata": {
        "id": "J94jFpWyr2k9"
      }
    },
    {
      "cell_type": "code",
      "source": [
        "from tensorflow.keras import models, layers, utils\n",
        "\n",
        "def build_model():\n",
        "    x = layers.Input(shape=(4,)) # 데이터가 주어지면 인풋의 shape는 고정\n",
        "    z = layers.Dense(12,activation='relu')(x)\n",
        "    z = layers.Dense(8,activation='relu')(z)\n",
        "    y = layers.Dense(3, activation='sigmoid')(z) # 데이터가 주어지면 아웃풋의 shape는 고정 \n",
        "    # (이진분류문제는 마지막 아웃풋 shape가 1, 마지막 활성함수는 sigmoid를 사용합니다.)\n",
        "    model = models.Model(x,y, name='iris_classifier')\n",
        "    return model"
      ],
      "metadata": {
        "id": "5BZG1z90rsGc"
      },
      "execution_count": 7,
      "outputs": []
    },
    {
      "cell_type": "markdown",
      "source": [
        "#### **모델 시각화**\n",
        "\n",
        "* `model.summary()`\n",
        "* `utils.plot_model()`"
      ],
      "metadata": {
        "id": "1yqXLbEyx5QK"
      }
    },
    {
      "cell_type": "code",
      "source": [
        "model = build_model()\n",
        "model.summary()\n",
        "\n",
        "# 시각화\n",
        "utils.plot_model(model, show_shapes=True)\n"
      ],
      "metadata": {
        "id": "dKCT38Fsr6dF",
        "colab": {
          "base_uri": "https://localhost:8080/",
          "height": 738
        },
        "outputId": "553907f0-7dd9-4a7b-c97a-4f97f79b6246"
      },
      "execution_count": 8,
      "outputs": [
        {
          "output_type": "stream",
          "name": "stdout",
          "text": [
            "Model: \"iris_classifier\"\n",
            "_________________________________________________________________\n",
            " Layer (type)                Output Shape              Param #   \n",
            "=================================================================\n",
            " input_1 (InputLayer)        [(None, 4)]               0         \n",
            "                                                                 \n",
            " dense (Dense)               (None, 12)                60        \n",
            "                                                                 \n",
            " dense_1 (Dense)             (None, 8)                 104       \n",
            "                                                                 \n",
            " dense_2 (Dense)             (None, 3)                 27        \n",
            "                                                                 \n",
            "=================================================================\n",
            "Total params: 191\n",
            "Trainable params: 191\n",
            "Non-trainable params: 0\n",
            "_________________________________________________________________\n"
          ]
        },
        {
          "output_type": "execute_result",
          "data": {
            "text/plain": [
              "<IPython.core.display.Image object>"
            ],
            "image/png": "[encoded data removed]"
          },
          "metadata": {},
          "execution_count": 8
        }
      ]
    },
    {
      "cell_type": "markdown",
      "source": [
        "### | 학습"
      ],
      "metadata": {
        "id": "gLuvsUFmwzPa"
      }
    },
    {
      "cell_type": "markdown",
      "source": [
        "#### **모델 컴파일**\n",
        "\n",
        "```\n",
        "model.compile(loss, optimizer, metrics) \n",
        "```\n",
        "* `loss` : 다중분류 문제, categorical_crossentropy()\n",
        "* `optimizer` : 문제와 상관없음, Adam\n",
        "* `metrics`: 정확도(accuracy)로 설정\n"
      ],
      "metadata": {
        "id": "fwQboNHp3EHe"
      }
    },
    {
      "cell_type": "code",
      "source": [
        "model.compile(loss='categorical_crossentropy',\n",
        "              optimizer='adam',\n",
        "              metrics=['accuracy'])"
      ],
      "metadata": {
        "id": "q2YSDbE9rJYh"
      },
      "execution_count": 9,
      "outputs": []
    },
    {
      "cell_type": "code",
      "source": [
        "# model = Sequential()\n",
        "# model.add(Dense(16, input_dim=4, activation='relu'))\n",
        "# model.add(Dense(3, activation='softmax'))"
      ],
      "metadata": {
        "id": "SASPIskxgfRY"
      },
      "execution_count": 10,
      "outputs": []
    },
    {
      "cell_type": "markdown",
      "source": [
        "#### **학습**\n",
        "\n",
        "```\n",
        "model.fit(x_train, y_train, epochs, batch_size)\n",
        "```\n",
        "* `x_train` : 넘파이 혹은 텐서 형식의 인풋 데이터\n",
        "* `y_train` : 넘파이 혹은 텐서 형식의 아웃풋 데이터\n",
        "* `epochs` : 학습 횟수\n",
        "* `batch_size` : 배치 사이즈 ((업데이트 한번에 사용될 샘플 개수)"
      ],
      "metadata": {
        "id": "JukUpWB4gfRY"
      }
    },
    {
      "cell_type": "code",
      "source": [
        "model.fit(x_train, y_train, epochs=100, batch_size=1)"
      ],
      "metadata": {
        "id": "9bgbpUhogfRY",
        "colab": {
          "base_uri": "https://localhost:8080/"
        },
        "outputId": "7ff92e8c-1918-49e0-b3c1-7fcef801dd18"
      },
      "execution_count": 11,
      "outputs": [
        {
          "output_type": "stream",
          "name": "stdout",
          "text": [
            "Epoch 1/100\n",
            "105/105 [==============================] - 3s 4ms/step - loss: 1.0995 - accuracy: 0.3333\n",
            "Epoch 2/100\n",
            "105/105 [==============================] - 0s 4ms/step - loss: 0.9487 - accuracy: 0.5905\n",
            "Epoch 3/100\n",
            "105/105 [==============================] - 0s 4ms/step - loss: 0.8062 - accuracy: 0.6476\n",
            "Epoch 4/100\n",
            "105/105 [==============================] - 0s 4ms/step - loss: 0.6805 - accuracy: 0.6571\n",
            "Epoch 5/100\n",
            "105/105 [==============================] - 0s 4ms/step - loss: 0.5940 - accuracy: 0.6381\n",
            "Epoch 6/100\n",
            "105/105 [==============================] - 0s 5ms/step - loss: 0.5386 - accuracy: 0.6571\n",
            "Epoch 7/100\n",
            "105/105 [==============================] - 0s 4ms/step - loss: 0.4951 - accuracy: 0.7238\n",
            "Epoch 8/100\n",
            "105/105 [==============================] - 0s 4ms/step - loss: 0.4573 - accuracy: 0.8095\n",
            "Epoch 9/100\n",
            "105/105 [==============================] - 1s 5ms/step - loss: 0.4220 - accuracy: 0.8952\n",
            "Epoch 10/100\n",
            "105/105 [==============================] - 0s 4ms/step - loss: 0.3879 - accuracy: 0.8952\n",
            "Epoch 11/100\n",
            "105/105 [==============================] - 0s 4ms/step - loss: 0.3542 - accuracy: 0.9143\n",
            "Epoch 12/100\n",
            "105/105 [==============================] - 1s 5ms/step - loss: 0.3230 - accuracy: 0.9048\n",
            "Epoch 13/100\n",
            "105/105 [==============================] - 0s 4ms/step - loss: 0.2910 - accuracy: 0.9143\n",
            "Epoch 14/100\n",
            "105/105 [==============================] - 0s 4ms/step - loss: 0.2552 - accuracy: 0.9048\n",
            "Epoch 15/100\n",
            "105/105 [==============================] - 1s 5ms/step - loss: 0.2269 - accuracy: 0.9048\n",
            "Epoch 16/100\n",
            "105/105 [==============================] - 0s 4ms/step - loss: 0.2048 - accuracy: 0.9238\n",
            "Epoch 17/100\n",
            "105/105 [==============================] - 0s 5ms/step - loss: 0.1878 - accuracy: 0.9238\n",
            "Epoch 18/100\n",
            "105/105 [==============================] - 1s 7ms/step - loss: 0.1712 - accuracy: 0.9143\n",
            "Epoch 19/100\n",
            "105/105 [==============================] - 1s 5ms/step - loss: 0.1612 - accuracy: 0.9238\n",
            "Epoch 20/100\n",
            "105/105 [==============================] - 1s 5ms/step - loss: 0.1458 - accuracy: 0.9333\n",
            "Epoch 21/100\n",
            "105/105 [==============================] - 1s 6ms/step - loss: 0.1394 - accuracy: 0.9238\n",
            "Epoch 22/100\n",
            "105/105 [==============================] - 1s 5ms/step - loss: 0.1315 - accuracy: 0.9429\n",
            "Epoch 23/100\n",
            "105/105 [==============================] - 1s 6ms/step - loss: 0.1202 - accuracy: 0.9333\n",
            "Epoch 24/100\n",
            "105/105 [==============================] - 1s 5ms/step - loss: 0.1182 - accuracy: 0.9333\n",
            "Epoch 25/100\n",
            "105/105 [==============================] - 0s 4ms/step - loss: 0.1162 - accuracy: 0.9619\n",
            "Epoch 26/100\n",
            "105/105 [==============================] - 1s 5ms/step - loss: 0.1088 - accuracy: 0.9429\n",
            "Epoch 27/100\n",
            "105/105 [==============================] - 1s 7ms/step - loss: 0.1070 - accuracy: 0.9429\n",
            "Epoch 28/100\n",
            "105/105 [==============================] - 1s 7ms/step - loss: 0.1011 - accuracy: 0.9524\n",
            "Epoch 29/100\n",
            "105/105 [==============================] - 1s 5ms/step - loss: 0.1003 - accuracy: 0.9429\n",
            "Epoch 30/100\n",
            "105/105 [==============================] - 1s 5ms/step - loss: 0.1006 - accuracy: 0.9524\n",
            "Epoch 31/100\n",
            "105/105 [==============================] - 1s 5ms/step - loss: 0.0996 - accuracy: 0.9619\n",
            "Epoch 32/100\n",
            "105/105 [==============================] - 1s 6ms/step - loss: 0.0924 - accuracy: 0.9714\n",
            "Epoch 33/100\n",
            "105/105 [==============================] - 1s 6ms/step - loss: 0.0929 - accuracy: 0.9524\n",
            "Epoch 34/100\n",
            "105/105 [==============================] - 1s 5ms/step - loss: 0.0938 - accuracy: 0.9524\n",
            "Epoch 35/100\n",
            "105/105 [==============================] - 0s 4ms/step - loss: 0.0889 - accuracy: 0.9619\n",
            "Epoch 36/100\n",
            "105/105 [==============================] - 0s 5ms/step - loss: 0.0927 - accuracy: 0.9619\n",
            "Epoch 37/100\n",
            "105/105 [==============================] - 1s 5ms/step - loss: 0.0892 - accuracy: 0.9714\n",
            "Epoch 38/100\n",
            "105/105 [==============================] - 1s 6ms/step - loss: 0.0869 - accuracy: 0.9714\n",
            "Epoch 39/100\n",
            "105/105 [==============================] - 0s 5ms/step - loss: 0.0858 - accuracy: 0.9524\n",
            "Epoch 40/100\n",
            "105/105 [==============================] - 0s 4ms/step - loss: 0.0840 - accuracy: 0.9714\n",
            "Epoch 41/100\n",
            "105/105 [==============================] - 1s 5ms/step - loss: 0.0800 - accuracy: 0.9524\n",
            "Epoch 42/100\n",
            "105/105 [==============================] - 0s 4ms/step - loss: 0.0852 - accuracy: 0.9619\n",
            "Epoch 43/100\n",
            "105/105 [==============================] - 0s 5ms/step - loss: 0.0798 - accuracy: 0.9714\n",
            "Epoch 44/100\n",
            "105/105 [==============================] - 0s 3ms/step - loss: 0.0766 - accuracy: 0.9714\n",
            "Epoch 45/100\n",
            "105/105 [==============================] - 0s 2ms/step - loss: 0.0803 - accuracy: 0.9714\n",
            "Epoch 46/100\n",
            "105/105 [==============================] - 0s 2ms/step - loss: 0.0761 - accuracy: 0.9714\n",
            "Epoch 47/100\n",
            "105/105 [==============================] - 0s 2ms/step - loss: 0.0773 - accuracy: 0.9619\n",
            "Epoch 48/100\n",
            "105/105 [==============================] - 0s 2ms/step - loss: 0.0758 - accuracy: 0.9619\n",
            "Epoch 49/100\n",
            "105/105 [==============================] - 0s 2ms/step - loss: 0.0729 - accuracy: 0.9619\n",
            "Epoch 50/100\n",
            "105/105 [==============================] - 0s 2ms/step - loss: 0.0700 - accuracy: 0.9714\n",
            "Epoch 51/100\n",
            "105/105 [==============================] - 0s 2ms/step - loss: 0.0747 - accuracy: 0.9619\n",
            "Epoch 52/100\n",
            "105/105 [==============================] - 0s 2ms/step - loss: 0.0684 - accuracy: 0.9714\n",
            "Epoch 53/100\n",
            "105/105 [==============================] - 0s 2ms/step - loss: 0.0696 - accuracy: 0.9810\n",
            "Epoch 54/100\n",
            "105/105 [==============================] - 0s 2ms/step - loss: 0.0728 - accuracy: 0.9714\n",
            "Epoch 55/100\n",
            "105/105 [==============================] - 0s 2ms/step - loss: 0.0689 - accuracy: 0.9619\n",
            "Epoch 56/100\n",
            "105/105 [==============================] - 0s 2ms/step - loss: 0.0673 - accuracy: 0.9714\n",
            "Epoch 57/100\n",
            "105/105 [==============================] - 0s 2ms/step - loss: 0.0650 - accuracy: 0.9714\n",
            "Epoch 58/100\n",
            "105/105 [==============================] - 0s 2ms/step - loss: 0.0693 - accuracy: 0.9714\n",
            "Epoch 59/100\n",
            "105/105 [==============================] - 0s 2ms/step - loss: 0.0642 - accuracy: 0.9714\n",
            "Epoch 60/100\n",
            "105/105 [==============================] - 0s 2ms/step - loss: 0.0634 - accuracy: 0.9619\n",
            "Epoch 61/100\n",
            "105/105 [==============================] - 0s 2ms/step - loss: 0.0683 - accuracy: 0.9619\n",
            "Epoch 62/100\n",
            "105/105 [==============================] - 0s 2ms/step - loss: 0.0671 - accuracy: 0.9619\n",
            "Epoch 63/100\n",
            "105/105 [==============================] - 0s 2ms/step - loss: 0.0651 - accuracy: 0.9619\n",
            "Epoch 64/100\n",
            "105/105 [==============================] - 0s 2ms/step - loss: 0.0643 - accuracy: 0.9810\n",
            "Epoch 65/100\n",
            "105/105 [==============================] - 0s 2ms/step - loss: 0.0680 - accuracy: 0.9714\n",
            "Epoch 66/100\n",
            "105/105 [==============================] - 0s 2ms/step - loss: 0.0624 - accuracy: 0.9714\n",
            "Epoch 67/100\n",
            "105/105 [==============================] - 0s 2ms/step - loss: 0.0619 - accuracy: 0.9619\n",
            "Epoch 68/100\n",
            "105/105 [==============================] - 0s 2ms/step - loss: 0.0636 - accuracy: 0.9810\n",
            "Epoch 69/100\n",
            "105/105 [==============================] - 0s 2ms/step - loss: 0.0617 - accuracy: 0.9619\n",
            "Epoch 70/100\n",
            "105/105 [==============================] - 0s 2ms/step - loss: 0.0597 - accuracy: 0.9714\n",
            "Epoch 71/100\n",
            "105/105 [==============================] - 0s 2ms/step - loss: 0.0602 - accuracy: 0.9810\n",
            "Epoch 72/100\n",
            "105/105 [==============================] - 0s 3ms/step - loss: 0.0635 - accuracy: 0.9619\n",
            "Epoch 73/100\n",
            "105/105 [==============================] - 0s 2ms/step - loss: 0.0603 - accuracy: 0.9714\n",
            "Epoch 74/100\n",
            "105/105 [==============================] - 0s 3ms/step - loss: 0.0593 - accuracy: 0.9619\n",
            "Epoch 75/100\n",
            "105/105 [==============================] - 0s 2ms/step - loss: 0.0589 - accuracy: 0.9714\n",
            "Epoch 76/100\n",
            "105/105 [==============================] - 0s 2ms/step - loss: 0.0644 - accuracy: 0.9810\n",
            "Epoch 77/100\n",
            "105/105 [==============================] - 0s 2ms/step - loss: 0.0592 - accuracy: 0.9714\n",
            "Epoch 78/100\n",
            "105/105 [==============================] - 0s 2ms/step - loss: 0.0642 - accuracy: 0.9714\n",
            "Epoch 79/100\n",
            "105/105 [==============================] - 0s 2ms/step - loss: 0.0560 - accuracy: 0.9714\n",
            "Epoch 80/100\n",
            "105/105 [==============================] - 0s 2ms/step - loss: 0.0590 - accuracy: 0.9714\n",
            "Epoch 81/100\n",
            "105/105 [==============================] - 0s 2ms/step - loss: 0.0578 - accuracy: 0.9714\n",
            "Epoch 82/100\n",
            "105/105 [==============================] - 0s 2ms/step - loss: 0.0575 - accuracy: 0.9619\n",
            "Epoch 83/100\n",
            "105/105 [==============================] - 0s 2ms/step - loss: 0.0584 - accuracy: 0.9714\n",
            "Epoch 84/100\n",
            "105/105 [==============================] - 0s 2ms/step - loss: 0.0567 - accuracy: 0.9714\n",
            "Epoch 85/100\n",
            "105/105 [==============================] - 0s 2ms/step - loss: 0.0575 - accuracy: 0.9714\n",
            "Epoch 86/100\n",
            "105/105 [==============================] - 0s 2ms/step - loss: 0.0592 - accuracy: 0.9714\n",
            "Epoch 87/100\n",
            "105/105 [==============================] - 0s 2ms/step - loss: 0.0609 - accuracy: 0.9619\n",
            "Epoch 88/100\n",
            "105/105 [==============================] - 0s 2ms/step - loss: 0.0587 - accuracy: 0.9714\n",
            "Epoch 89/100\n",
            "105/105 [==============================] - 0s 2ms/step - loss: 0.0574 - accuracy: 0.9619\n",
            "Epoch 90/100\n",
            "105/105 [==============================] - 0s 2ms/step - loss: 0.0553 - accuracy: 0.9714\n",
            "Epoch 91/100\n",
            "105/105 [==============================] - 0s 2ms/step - loss: 0.0574 - accuracy: 0.9619\n",
            "Epoch 92/100\n",
            "105/105 [==============================] - 0s 2ms/step - loss: 0.0581 - accuracy: 0.9714\n",
            "Epoch 93/100\n",
            "105/105 [==============================] - 0s 2ms/step - loss: 0.0526 - accuracy: 0.9810\n",
            "Epoch 94/100\n",
            "105/105 [==============================] - 0s 2ms/step - loss: 0.0553 - accuracy: 0.9810\n",
            "Epoch 95/100\n",
            "105/105 [==============================] - 0s 2ms/step - loss: 0.0572 - accuracy: 0.9619\n",
            "Epoch 96/100\n",
            "105/105 [==============================] - 0s 3ms/step - loss: 0.0546 - accuracy: 0.9714\n",
            "Epoch 97/100\n",
            "105/105 [==============================] - 0s 2ms/step - loss: 0.0541 - accuracy: 0.9810\n",
            "Epoch 98/100\n",
            "105/105 [==============================] - 0s 3ms/step - loss: 0.0626 - accuracy: 0.9714\n",
            "Epoch 99/100\n",
            "105/105 [==============================] - 0s 2ms/step - loss: 0.0597 - accuracy: 0.9714\n",
            "Epoch 100/100\n",
            "105/105 [==============================] - 0s 2ms/step - loss: 0.0613 - accuracy: 0.9619\n"
          ]
        },
        {
          "output_type": "execute_result",
          "data": {
            "text/plain": [
              "<keras.callbacks.History at 0x7ffa0500d910>"
            ]
          },
          "metadata": {},
          "execution_count": 11
        }
      ]
    },
    {
      "cell_type": "markdown",
      "source": [
        "### | 검증 및 예측\n"
      ],
      "metadata": {
        "id": "DyFOnqyNw5_q"
      }
    },
    {
      "cell_type": "markdown",
      "source": [
        "#### **검증**\n",
        "\n",
        "```\n",
        "model.evaluate(x_test, y_test)\n",
        "```\n",
        "* `x_test` : 넘파이 혹은 텐서 형식의 인풋 테스트 데이터\n",
        "* `y_test` : 넘파이 혹은 텐서 형식의 아웃풋 테스트 데이터"
      ],
      "metadata": {
        "id": "qlalKZ-a04c3"
      }
    },
    {
      "cell_type": "code",
      "source": [
        "model.evaluate(x_test, y_test)"
      ],
      "metadata": {
        "id": "uHGyMlf60zng",
        "colab": {
          "base_uri": "https://localhost:8080/"
        },
        "outputId": "b9d925fc-5bb6-4285-ddb7-ac1f5a6b8c91"
      },
      "execution_count": 12,
      "outputs": [
        {
          "output_type": "stream",
          "name": "stdout",
          "text": [
            "2/2 [==============================] - 0s 7ms/step - loss: 0.0389 - accuracy: 1.0000\n"
          ]
        },
        {
          "output_type": "execute_result",
          "data": {
            "text/plain": [
              "[0.038882967084646225, 1.0]"
            ]
          },
          "metadata": {},
          "execution_count": 12
        }
      ]
    },
    {
      "cell_type": "markdown",
      "source": [
        "#### **예측**\n",
        "\n",
        "```\n",
        "model.predict(x_test)\n",
        "```\n",
        "* `x_test` : 넘파이 혹은 텐서 형식의 인풋 테스트 데이터\n",
        "* `y_test` : 넘파이 혹은 텐서 형식의 아웃풋 테스트 데이터"
      ],
      "metadata": {
        "id": "BITPUIOj07Uv"
      }
    },
    {
      "cell_type": "code",
      "source": [
        "y_pred = model.predict(x_test)\n",
        "print(y_test.shape, y_pred.shape)\n",
        "print(y_test[0], y_pred[0])\n",
        "# 원핫 -> 라벨\n",
        "y_pred = np.argmax(y_pred, axis=1) # 벡터화\n",
        "y_test = np.argmax(y_test, axis=1)\n",
        "print(y_test.shape, y_pred.shape)\n",
        "print(y_test[0], y_pred[0])"
      ],
      "metadata": {
        "id": "KfDHL4PRv8YD",
        "colab": {
          "base_uri": "https://localhost:8080/",
          "height": 684
        },
        "outputId": "1eda81a5-c7f6-42b7-bff5-77e21c2a71d3"
      },
      "execution_count": 32,
      "outputs": [
        {
          "output_type": "error",
          "ename": "ValueError",
          "evalue": "ignored",
          "traceback": [
            "\u001b[0;31m---------------------------------------------------------------------------\u001b[0m",
            "\u001b[0;31mValueError\u001b[0m                                Traceback (most recent call last)",
            "\u001b[0;32m<ipython-input-32-d198f91bec12>\u001b[0m in \u001b[0;36m<module>\u001b[0;34m()\u001b[0m\n\u001b[0;32m----> 1\u001b[0;31m \u001b[0my_pred\u001b[0m \u001b[0;34m=\u001b[0m \u001b[0mmodel\u001b[0m\u001b[0;34m.\u001b[0m\u001b[0mpredict\u001b[0m\u001b[0;34m(\u001b[0m\u001b[0mx_test\u001b[0m\u001b[0;34m)\u001b[0m\u001b[0;34m\u001b[0m\u001b[0;34m\u001b[0m\u001b[0m\n\u001b[0m\u001b[1;32m      2\u001b[0m \u001b[0mprint\u001b[0m\u001b[0;34m(\u001b[0m\u001b[0my_test\u001b[0m\u001b[0;34m.\u001b[0m\u001b[0mshape\u001b[0m\u001b[0;34m,\u001b[0m \u001b[0my_pred\u001b[0m\u001b[0;34m.\u001b[0m\u001b[0mshape\u001b[0m\u001b[0;34m)\u001b[0m\u001b[0;34m\u001b[0m\u001b[0;34m\u001b[0m\u001b[0m\n\u001b[1;32m      3\u001b[0m \u001b[0mprint\u001b[0m\u001b[0;34m(\u001b[0m\u001b[0my_test\u001b[0m\u001b[0;34m[\u001b[0m\u001b[0;36m0\u001b[0m\u001b[0;34m]\u001b[0m\u001b[0;34m,\u001b[0m \u001b[0my_pred\u001b[0m\u001b[0;34m[\u001b[0m\u001b[0;36m0\u001b[0m\u001b[0;34m]\u001b[0m\u001b[0;34m)\u001b[0m\u001b[0;34m\u001b[0m\u001b[0;34m\u001b[0m\u001b[0m\n\u001b[1;32m      4\u001b[0m \u001b[0;31m# 원핫 -> 라벨\u001b[0m\u001b[0;34m\u001b[0m\u001b[0;34m\u001b[0m\u001b[0;34m\u001b[0m\u001b[0m\n\u001b[1;32m      5\u001b[0m \u001b[0my_pred\u001b[0m \u001b[0;34m=\u001b[0m \u001b[0mnp\u001b[0m\u001b[0;34m.\u001b[0m\u001b[0margmax\u001b[0m\u001b[0;34m(\u001b[0m\u001b[0my_pred\u001b[0m\u001b[0;34m,\u001b[0m \u001b[0maxis\u001b[0m\u001b[0;34m=\u001b[0m\u001b[0;36m1\u001b[0m\u001b[0;34m)\u001b[0m \u001b[0;31m# 벡터화\u001b[0m\u001b[0;34m\u001b[0m\u001b[0;34m\u001b[0m\u001b[0m\n",
            "\u001b[0;32m/usr/local/lib/python3.7/dist-packages/keras/utils/traceback_utils.py\u001b[0m in \u001b[0;36merror_handler\u001b[0;34m(*args, **kwargs)\u001b[0m\n\u001b[1;32m     65\u001b[0m     \u001b[0;32mexcept\u001b[0m \u001b[0mException\u001b[0m \u001b[0;32mas\u001b[0m \u001b[0me\u001b[0m\u001b[0;34m:\u001b[0m  \u001b[0;31m# pylint: disable=broad-except\u001b[0m\u001b[0;34m\u001b[0m\u001b[0;34m\u001b[0m\u001b[0m\n\u001b[1;32m     66\u001b[0m       \u001b[0mfiltered_tb\u001b[0m \u001b[0;34m=\u001b[0m \u001b[0m_process_traceback_frames\u001b[0m\u001b[0;34m(\u001b[0m\u001b[0me\u001b[0m\u001b[0;34m.\u001b[0m\u001b[0m__traceback__\u001b[0m\u001b[0;34m)\u001b[0m\u001b[0;34m\u001b[0m\u001b[0;34m\u001b[0m\u001b[0m\n\u001b[0;32m---> 67\u001b[0;31m       \u001b[0;32mraise\u001b[0m \u001b[0me\u001b[0m\u001b[0;34m.\u001b[0m\u001b[0mwith_traceback\u001b[0m\u001b[0;34m(\u001b[0m\u001b[0mfiltered_tb\u001b[0m\u001b[0;34m)\u001b[0m \u001b[0;32mfrom\u001b[0m \u001b[0;32mNone\u001b[0m\u001b[0;34m\u001b[0m\u001b[0;34m\u001b[0m\u001b[0m\n\u001b[0m\u001b[1;32m     68\u001b[0m     \u001b[0;32mfinally\u001b[0m\u001b[0;34m:\u001b[0m\u001b[0;34m\u001b[0m\u001b[0;34m\u001b[0m\u001b[0m\n\u001b[1;32m     69\u001b[0m       \u001b[0;32mdel\u001b[0m \u001b[0mfiltered_tb\u001b[0m\u001b[0;34m\u001b[0m\u001b[0;34m\u001b[0m\u001b[0m\n",
            "\u001b[0;32m/usr/local/lib/python3.7/dist-packages/tensorflow/python/framework/func_graph.py\u001b[0m in \u001b[0;36mautograph_handler\u001b[0;34m(*args, **kwargs)\u001b[0m\n\u001b[1;32m   1145\u001b[0m           \u001b[0;32mexcept\u001b[0m \u001b[0mException\u001b[0m \u001b[0;32mas\u001b[0m \u001b[0me\u001b[0m\u001b[0;34m:\u001b[0m  \u001b[0;31m# pylint:disable=broad-except\u001b[0m\u001b[0;34m\u001b[0m\u001b[0;34m\u001b[0m\u001b[0m\n\u001b[1;32m   1146\u001b[0m             \u001b[0;32mif\u001b[0m \u001b[0mhasattr\u001b[0m\u001b[0;34m(\u001b[0m\u001b[0me\u001b[0m\u001b[0;34m,\u001b[0m \u001b[0;34m\"ag_error_metadata\"\u001b[0m\u001b[0;34m)\u001b[0m\u001b[0;34m:\u001b[0m\u001b[0;34m\u001b[0m\u001b[0;34m\u001b[0m\u001b[0m\n\u001b[0;32m-> 1147\u001b[0;31m               \u001b[0;32mraise\u001b[0m \u001b[0me\u001b[0m\u001b[0;34m.\u001b[0m\u001b[0mag_error_metadata\u001b[0m\u001b[0;34m.\u001b[0m\u001b[0mto_exception\u001b[0m\u001b[0;34m(\u001b[0m\u001b[0me\u001b[0m\u001b[0;34m)\u001b[0m\u001b[0;34m\u001b[0m\u001b[0;34m\u001b[0m\u001b[0m\n\u001b[0m\u001b[1;32m   1148\u001b[0m             \u001b[0;32melse\u001b[0m\u001b[0;34m:\u001b[0m\u001b[0;34m\u001b[0m\u001b[0;34m\u001b[0m\u001b[0m\n\u001b[1;32m   1149\u001b[0m               \u001b[0;32mraise\u001b[0m\u001b[0;34m\u001b[0m\u001b[0;34m\u001b[0m\u001b[0m\n",
            "\u001b[0;31mValueError\u001b[0m: in user code:\n\n    File \"/usr/local/lib/python3.7/dist-packages/keras/engine/training.py\", line 1801, in predict_function  *\n        return step_function(self, iterator)\n    File \"/usr/local/lib/python3.7/dist-packages/keras/engine/training.py\", line 1790, in step_function  **\n        outputs = model.distribute_strategy.run(run_step, args=(data,))\n    File \"/usr/local/lib/python3.7/dist-packages/keras/engine/training.py\", line 1783, in run_step  **\n        outputs = model.predict_step(data)\n    File \"/usr/local/lib/python3.7/dist-packages/keras/engine/training.py\", line 1751, in predict_step\n        return self(x, training=False)\n    File \"/usr/local/lib/python3.7/dist-packages/keras/utils/traceback_utils.py\", line 67, in error_handler\n        raise e.with_traceback(filtered_tb) from None\n    File \"/usr/local/lib/python3.7/dist-packages/keras/engine/input_spec.py\", line 264, in assert_input_compatibility\n        raise ValueError(f'Input {input_index} of layer \"{layer_name}\" is '\n\n    ValueError: Input 0 of layer \"iris_classifier\" is incompatible with the layer: expected shape=(None, 4), found shape=(None, 28, 28)\n"
          ]
        }
      ]
    },
    {
      "cell_type": "markdown",
      "source": [
        "* 예측 시각화"
      ],
      "metadata": {
        "id": "gThN4RCR0_HI"
      }
    },
    {
      "cell_type": "code",
      "source": [
        "from sklearn.metrics import confusion_matrix, ConfusionMatrixDisplay\n",
        "cm = confusion_matrix(y_test, y_pred)\n",
        "#print(cm)\n",
        "ConfusionMatrixDisplay(cm).plot(cmap='Blues')"
      ],
      "metadata": {
        "id": "TG533VyLwDaK",
        "colab": {
          "base_uri": "https://localhost:8080/",
          "height": 298
        },
        "outputId": "48e3a7ff-1807-493f-fc5e-d26341956426"
      },
      "execution_count": 14,
      "outputs": [
        {
          "output_type": "execute_result",
          "data": {
            "text/plain": [
              "<sklearn.metrics._plot.confusion_matrix.ConfusionMatrixDisplay at 0x7ff986599f10>"
            ]
          },
          "metadata": {},
          "execution_count": 14
        },
        {
          "output_type": "display_data",
          "data": {
            "text/plain": [
              "<Figure size 432x288 with 2 Axes>"
            ],
            "image/png": "[encoded data removed]"
          },
          "metadata": {
            "needs_background": "light"
          }
        }
      ]
    },
    {
      "cell_type": "markdown",
      "source": [
        "## 과제\n",
        "---"
      ],
      "metadata": {
        "id": "ZFrRTgcyipYg"
      }
    },
    {
      "cell_type": "markdown",
      "source": [
        "### | 과제1. 다중분류 문제 정리\n",
        "\n",
        "* 예측값의 범위 : 0~1\n",
        "* 예측값의 shape : (input 개수, class 개수)\n",
        "* 아웃풋 레이어의 노드 개수 : class 개수\n",
        "* 아웃풋 레이어의 activation : softmax\n",
        "* 손실함수 (loss) : Categorical_crossentropy, \n",
        "* Sparse_Categorical_Crossentropy\n",
        "* 평가함수 (metrics) : accuracy"
      ],
      "metadata": {
        "id": "xjnJSLgXK_Pp"
      }
    },
    {
      "cell_type": "markdown",
      "source": [
        "### | 과제2. 한 셀에 코드 정리하기\n",
        "\n",
        "* 추가 연습\n",
        "  * 모델의 깊이(depth)를 늘려가며 학습해 보세요.\n",
        "  * 모델의 너비(width)를 늘려가며 학습해 보세요."
      ],
      "metadata": {
        "id": "ZvFAB78P1B_Q"
      }
    },
    {
      "cell_type": "code",
      "source": [
        "data_path = '/content/SkillTreePython-DeepLearning/dataset/iris.csv'\n",
        "df = pd.read_csv(data_path, header=None)\n",
        "df\n",
        "\n",
        "from sklearn.preprocessing import StandardScaler, OneHotEncoder\n",
        "from sklearn.model_selection import train_test_split\n",
        "\n",
        "def iris_preprocess(df, seed=1):\n",
        "    # x-y 분할\n",
        "    x = df.values[:, :-1] # values를 통해 넘파이로 변환\n",
        "    y = df.values[:,-1] # (전체샘플, 마지막 변수)\n",
        "    # 정규화 (x 데이터만)\n",
        "    ss = StandardScaler()\n",
        "    x = ss.fit_transform(x)\n",
        "\n",
        "    # 원-핫 (y 데이터)\n",
        "    oh = OneHotEncoder(sparse=False)\n",
        "    y = oh.fit_transform(np.expand_dims(y, 1)) # 인풋이 무조건 행렬이어야합니다.(150, )->(150,1)\n",
        "    print(f'원-핫 변환 순서: {oh.categories_}')\n",
        "    # train-test 분할\n",
        "    x_train, x_test, y_train, y_test = train_test_split(x,y, test_size=0.3,\n",
        "                                                        random_state=seed,\n",
        "                                                        stratify = y)\n",
        "    return x_train, x_test, y_train, y_test\n",
        "\n",
        "x_train, x_test, y_train, y_test = iris_preprocess(df)\n",
        "print(f'데이터 형태: {x_train.shape}, {x_test.shape}, {y_train.shape}, {y_test.shape}')\n",
        "print(f'첫 번째 샘플 x : {x_train[0]} y:{y_train[0]}')"
      ],
      "metadata": {
        "colab": {
          "base_uri": "https://localhost:8080/"
        },
        "id": "uwlU88OO8mmu",
        "outputId": "bfe08022-5d75-4bc5-9aaa-5e1f822de1b4"
      },
      "execution_count": 35,
      "outputs": [
        {
          "output_type": "stream",
          "name": "stdout",
          "text": [
            "원-핫 변환 순서: [array(['Iris-setosa', 'Iris-versicolor', 'Iris-virginica'], dtype=object)]\n",
            "데이터 형태: (105, 4), (45, 4), (105, 3), (45, 3)\n",
            "첫 번째 샘플 x : [ 0.55333328 -0.58776353  0.76275864  0.39617188] y:[0. 0. 1.]\n"
          ]
        }
      ]
    },
    {
      "cell_type": "code",
      "source": [
        "from tensorflow.keras import models, layers, utils\n",
        "\n",
        "def build_model():\n",
        "    x = layers.Input(shape=(4,)) # 데이터가 주어지면 인풋의 shape는 고정\n",
        "    z = layers.Dense(12,activation='relu')(x)\n",
        "    z = layers.Dense(8,activation='relu')(z)\n",
        "    z = layers.Dense(12,activation='relu')(z)\n",
        "    z = layers.Dense(6,activation='relu')(z)\n",
        "    y = layers.Dense(3, activation='sigmoid')(z) # 데이터가 주어지면 아웃풋의 shape는 고정 \n",
        "    # (이진분류문제는 마지막 아웃풋 shape가 1, 마지막 활성함수는 sigmoid를 사용합니다.)\n",
        "    model = models.Model(x,y, name='iris_classifier')\n",
        "    return model"
      ],
      "metadata": {
        "id": "v5WYSd9a1Cz4"
      },
      "execution_count": 36,
      "outputs": []
    },
    {
      "cell_type": "code",
      "source": [
        "model = build_model()\n",
        "model.summary()\n",
        "\n",
        "# 시각화\n",
        "utils.plot_model(model, show_shapes=True)\n",
        "\n",
        "model.compile(loss='categorical_crossentropy',\n",
        "              optimizer='adam',\n",
        "              metrics=['accuracy'])"
      ],
      "metadata": {
        "colab": {
          "base_uri": "https://localhost:8080/"
        },
        "id": "DJTLEbn28ZSX",
        "outputId": "eaf752ba-d679-49bd-9252-ef8106c17050"
      },
      "execution_count": 37,
      "outputs": [
        {
          "output_type": "stream",
          "name": "stdout",
          "text": [
            "Model: \"iris_classifier\"\n",
            "_________________________________________________________________\n",
            " Layer (type)                Output Shape              Param #   \n",
            "=================================================================\n",
            " input_2 (InputLayer)        [(None, 4)]               0         \n",
            "                                                                 \n",
            " dense_3 (Dense)             (None, 12)                60        \n",
            "                                                                 \n",
            " dense_4 (Dense)             (None, 8)                 104       \n",
            "                                                                 \n",
            " dense_5 (Dense)             (None, 12)                108       \n",
            "                                                                 \n",
            " dense_6 (Dense)             (None, 6)                 78        \n",
            "                                                                 \n",
            " dense_7 (Dense)             (None, 3)                 21        \n",
            "                                                                 \n",
            "=================================================================\n",
            "Total params: 371\n",
            "Trainable params: 371\n",
            "Non-trainable params: 0\n",
            "_________________________________________________________________\n"
          ]
        }
      ]
    },
    {
      "cell_type": "code",
      "source": [
        "model.fit(x_train, y_train, epochs=100, batch_size=1)"
      ],
      "metadata": {
        "colab": {
          "base_uri": "https://localhost:8080/"
        },
        "id": "08nWFSbE8ZvN",
        "outputId": "0b541e49-928a-4bd4-a9c1-114b6547708d"
      },
      "execution_count": 38,
      "outputs": [
        {
          "output_type": "stream",
          "name": "stdout",
          "text": [
            "Epoch 1/100\n",
            "105/105 [==============================] - 1s 2ms/step - loss: 1.0500 - accuracy: 0.4000\n",
            "Epoch 2/100\n",
            "105/105 [==============================] - 0s 3ms/step - loss: 0.8424 - accuracy: 0.7429\n",
            "Epoch 3/100\n",
            "105/105 [==============================] - 0s 3ms/step - loss: 0.6583 - accuracy: 0.8381\n",
            "Epoch 4/100\n",
            "105/105 [==============================] - 0s 3ms/step - loss: 0.4173 - accuracy: 0.8476\n",
            "Epoch 5/100\n",
            "105/105 [==============================] - 0s 3ms/step - loss: 0.2974 - accuracy: 0.8667\n",
            "Epoch 6/100\n",
            "105/105 [==============================] - 0s 2ms/step - loss: 0.2628 - accuracy: 0.8667\n",
            "Epoch 7/100\n",
            "105/105 [==============================] - 0s 2ms/step - loss: 0.2341 - accuracy: 0.9048\n",
            "Epoch 8/100\n",
            "105/105 [==============================] - 0s 3ms/step - loss: 0.2122 - accuracy: 0.9143\n",
            "Epoch 9/100\n",
            "105/105 [==============================] - 0s 2ms/step - loss: 0.1910 - accuracy: 0.9429\n",
            "Epoch 10/100\n",
            "105/105 [==============================] - 0s 3ms/step - loss: 0.1612 - accuracy: 0.9429\n",
            "Epoch 11/100\n",
            "105/105 [==============================] - 0s 3ms/step - loss: 0.1489 - accuracy: 0.9333\n",
            "Epoch 12/100\n",
            "105/105 [==============================] - 0s 2ms/step - loss: 0.1315 - accuracy: 0.9429\n",
            "Epoch 13/100\n",
            "105/105 [==============================] - 0s 2ms/step - loss: 0.1203 - accuracy: 0.9333\n",
            "Epoch 14/100\n",
            "105/105 [==============================] - 0s 3ms/step - loss: 0.1085 - accuracy: 0.9429\n",
            "Epoch 15/100\n",
            "105/105 [==============================] - 0s 2ms/step - loss: 0.1052 - accuracy: 0.9429\n",
            "Epoch 16/100\n",
            "105/105 [==============================] - 0s 2ms/step - loss: 0.0947 - accuracy: 0.9619\n",
            "Epoch 17/100\n",
            "105/105 [==============================] - 0s 2ms/step - loss: 0.0928 - accuracy: 0.9429\n",
            "Epoch 18/100\n",
            "105/105 [==============================] - 0s 2ms/step - loss: 0.0880 - accuracy: 0.9619\n",
            "Epoch 19/100\n",
            "105/105 [==============================] - 0s 2ms/step - loss: 0.0936 - accuracy: 0.9524\n",
            "Epoch 20/100\n",
            "105/105 [==============================] - 0s 2ms/step - loss: 0.0818 - accuracy: 0.9429\n",
            "Epoch 21/100\n",
            "105/105 [==============================] - 0s 3ms/step - loss: 0.0827 - accuracy: 0.9619\n",
            "Epoch 22/100\n",
            "105/105 [==============================] - 0s 2ms/step - loss: 0.0841 - accuracy: 0.9619\n",
            "Epoch 23/100\n",
            "105/105 [==============================] - 0s 2ms/step - loss: 0.0722 - accuracy: 0.9429\n",
            "Epoch 24/100\n",
            "105/105 [==============================] - 0s 2ms/step - loss: 0.0624 - accuracy: 0.9905\n",
            "Epoch 25/100\n",
            "105/105 [==============================] - 0s 3ms/step - loss: 0.0764 - accuracy: 0.9619\n",
            "Epoch 26/100\n",
            "105/105 [==============================] - 0s 2ms/step - loss: 0.0770 - accuracy: 0.9619\n",
            "Epoch 27/100\n",
            "105/105 [==============================] - 0s 3ms/step - loss: 0.0747 - accuracy: 0.9714\n",
            "Epoch 28/100\n",
            "105/105 [==============================] - 0s 2ms/step - loss: 0.0699 - accuracy: 0.9619\n",
            "Epoch 29/100\n",
            "105/105 [==============================] - 0s 3ms/step - loss: 0.0682 - accuracy: 0.9524\n",
            "Epoch 30/100\n",
            "105/105 [==============================] - 0s 2ms/step - loss: 0.0653 - accuracy: 0.9714\n",
            "Epoch 31/100\n",
            "105/105 [==============================] - 0s 2ms/step - loss: 0.0721 - accuracy: 0.9619\n",
            "Epoch 32/100\n",
            "105/105 [==============================] - 0s 3ms/step - loss: 0.0602 - accuracy: 0.9714\n",
            "Epoch 33/100\n",
            "105/105 [==============================] - 0s 3ms/step - loss: 0.0620 - accuracy: 0.9619\n",
            "Epoch 34/100\n",
            "105/105 [==============================] - 0s 2ms/step - loss: 0.0666 - accuracy: 0.9810\n",
            "Epoch 35/100\n",
            "105/105 [==============================] - 0s 2ms/step - loss: 0.0625 - accuracy: 0.9619\n",
            "Epoch 36/100\n",
            "105/105 [==============================] - 0s 2ms/step - loss: 0.0686 - accuracy: 0.9619\n",
            "Epoch 37/100\n",
            "105/105 [==============================] - 0s 3ms/step - loss: 0.0602 - accuracy: 0.9714\n",
            "Epoch 38/100\n",
            "105/105 [==============================] - 0s 2ms/step - loss: 0.0667 - accuracy: 0.9714\n",
            "Epoch 39/100\n",
            "105/105 [==============================] - 0s 3ms/step - loss: 0.0571 - accuracy: 0.9810\n",
            "Epoch 40/100\n",
            "105/105 [==============================] - 0s 3ms/step - loss: 0.0550 - accuracy: 0.9810\n",
            "Epoch 41/100\n",
            "105/105 [==============================] - 0s 2ms/step - loss: 0.0511 - accuracy: 0.9714\n",
            "Epoch 42/100\n",
            "105/105 [==============================] - 0s 2ms/step - loss: 0.0612 - accuracy: 0.9714\n",
            "Epoch 43/100\n",
            "105/105 [==============================] - 0s 3ms/step - loss: 0.0584 - accuracy: 0.9714\n",
            "Epoch 44/100\n",
            "105/105 [==============================] - 0s 3ms/step - loss: 0.0477 - accuracy: 0.9905\n",
            "Epoch 45/100\n",
            "105/105 [==============================] - 0s 2ms/step - loss: 0.0599 - accuracy: 0.9619\n",
            "Epoch 46/100\n",
            "105/105 [==============================] - 0s 3ms/step - loss: 0.0568 - accuracy: 0.9810\n",
            "Epoch 47/100\n",
            "105/105 [==============================] - 0s 3ms/step - loss: 0.0517 - accuracy: 0.9714\n",
            "Epoch 48/100\n",
            "105/105 [==============================] - 0s 3ms/step - loss: 0.0539 - accuracy: 0.9714\n",
            "Epoch 49/100\n",
            "105/105 [==============================] - 0s 2ms/step - loss: 0.0569 - accuracy: 0.9714\n",
            "Epoch 50/100\n",
            "105/105 [==============================] - 0s 3ms/step - loss: 0.0463 - accuracy: 0.9810\n",
            "Epoch 51/100\n",
            "105/105 [==============================] - 0s 2ms/step - loss: 0.0563 - accuracy: 0.9714\n",
            "Epoch 52/100\n",
            "105/105 [==============================] - 0s 2ms/step - loss: 0.0449 - accuracy: 0.9810\n",
            "Epoch 53/100\n",
            "105/105 [==============================] - 0s 2ms/step - loss: 0.0463 - accuracy: 0.9714\n",
            "Epoch 54/100\n",
            "105/105 [==============================] - 0s 2ms/step - loss: 0.0571 - accuracy: 0.9810\n",
            "Epoch 55/100\n",
            "105/105 [==============================] - 0s 3ms/step - loss: 0.0508 - accuracy: 0.9714\n",
            "Epoch 56/100\n",
            "105/105 [==============================] - 0s 2ms/step - loss: 0.0531 - accuracy: 0.9714\n",
            "Epoch 57/100\n",
            "105/105 [==============================] - 0s 2ms/step - loss: 0.0442 - accuracy: 0.9810\n",
            "Epoch 58/100\n",
            "105/105 [==============================] - 0s 2ms/step - loss: 0.0459 - accuracy: 0.9810\n",
            "Epoch 59/100\n",
            "105/105 [==============================] - 0s 2ms/step - loss: 0.0479 - accuracy: 0.9810\n",
            "Epoch 60/100\n",
            "105/105 [==============================] - 0s 2ms/step - loss: 0.0351 - accuracy: 1.0000\n",
            "Epoch 61/100\n",
            "105/105 [==============================] - 0s 3ms/step - loss: 0.0439 - accuracy: 0.9810\n",
            "Epoch 62/100\n",
            "105/105 [==============================] - 0s 2ms/step - loss: 0.0393 - accuracy: 0.9810\n",
            "Epoch 63/100\n",
            "105/105 [==============================] - 0s 2ms/step - loss: 0.0512 - accuracy: 0.9714\n",
            "Epoch 64/100\n",
            "105/105 [==============================] - 0s 2ms/step - loss: 0.0402 - accuracy: 0.9905\n",
            "Epoch 65/100\n",
            "105/105 [==============================] - 0s 2ms/step - loss: 0.0398 - accuracy: 0.9810\n",
            "Epoch 66/100\n",
            "105/105 [==============================] - 0s 2ms/step - loss: 0.0492 - accuracy: 0.9714\n",
            "Epoch 67/100\n",
            "105/105 [==============================] - 0s 3ms/step - loss: 0.0397 - accuracy: 0.9905\n",
            "Epoch 68/100\n",
            "105/105 [==============================] - 0s 2ms/step - loss: 0.0369 - accuracy: 0.9905\n",
            "Epoch 69/100\n",
            "105/105 [==============================] - 0s 2ms/step - loss: 0.0363 - accuracy: 0.9905\n",
            "Epoch 70/100\n",
            "105/105 [==============================] - 0s 2ms/step - loss: 0.0343 - accuracy: 0.9810\n",
            "Epoch 71/100\n",
            "105/105 [==============================] - 0s 3ms/step - loss: 0.0385 - accuracy: 0.9905\n",
            "Epoch 72/100\n",
            "105/105 [==============================] - 0s 2ms/step - loss: 0.0384 - accuracy: 0.9810\n",
            "Epoch 73/100\n",
            "105/105 [==============================] - 0s 3ms/step - loss: 0.0374 - accuracy: 0.9810\n",
            "Epoch 74/100\n",
            "105/105 [==============================] - 0s 2ms/step - loss: 0.0302 - accuracy: 0.9905\n",
            "Epoch 75/100\n",
            "105/105 [==============================] - 0s 3ms/step - loss: 0.0343 - accuracy: 0.9905\n",
            "Epoch 76/100\n",
            "105/105 [==============================] - 0s 2ms/step - loss: 0.0377 - accuracy: 0.9905\n",
            "Epoch 77/100\n",
            "105/105 [==============================] - 0s 3ms/step - loss: 0.0391 - accuracy: 0.9810\n",
            "Epoch 78/100\n",
            "105/105 [==============================] - 0s 3ms/step - loss: 0.0358 - accuracy: 0.9810\n",
            "Epoch 79/100\n",
            "105/105 [==============================] - 0s 3ms/step - loss: 0.0370 - accuracy: 0.9905\n",
            "Epoch 80/100\n",
            "105/105 [==============================] - 0s 3ms/step - loss: 0.0309 - accuracy: 0.9905\n",
            "Epoch 81/100\n",
            "105/105 [==============================] - 0s 2ms/step - loss: 0.0307 - accuracy: 0.9905\n",
            "Epoch 82/100\n",
            "105/105 [==============================] - 0s 3ms/step - loss: 0.0361 - accuracy: 0.9810\n",
            "Epoch 83/100\n",
            "105/105 [==============================] - 0s 3ms/step - loss: 0.0305 - accuracy: 0.9810\n",
            "Epoch 84/100\n",
            "105/105 [==============================] - 0s 3ms/step - loss: 0.0264 - accuracy: 0.9810\n",
            "Epoch 85/100\n",
            "105/105 [==============================] - 0s 3ms/step - loss: 0.0284 - accuracy: 0.9905\n",
            "Epoch 86/100\n",
            "105/105 [==============================] - 0s 2ms/step - loss: 0.0272 - accuracy: 0.9905\n",
            "Epoch 87/100\n",
            "105/105 [==============================] - 0s 2ms/step - loss: 0.0380 - accuracy: 0.9810\n",
            "Epoch 88/100\n",
            "105/105 [==============================] - 0s 3ms/step - loss: 0.0326 - accuracy: 0.9810\n",
            "Epoch 89/100\n",
            "105/105 [==============================] - 0s 2ms/step - loss: 0.0318 - accuracy: 0.9810\n",
            "Epoch 90/100\n",
            "105/105 [==============================] - 0s 2ms/step - loss: 0.0165 - accuracy: 0.9905\n",
            "Epoch 91/100\n",
            "105/105 [==============================] - 0s 3ms/step - loss: 0.0285 - accuracy: 0.9810\n",
            "Epoch 92/100\n",
            "105/105 [==============================] - 0s 2ms/step - loss: 0.0362 - accuracy: 0.9810\n",
            "Epoch 93/100\n",
            "105/105 [==============================] - 0s 3ms/step - loss: 0.0188 - accuracy: 0.9905\n",
            "Epoch 94/100\n",
            "105/105 [==============================] - 0s 3ms/step - loss: 0.0347 - accuracy: 0.9810\n",
            "Epoch 95/100\n",
            "105/105 [==============================] - 0s 3ms/step - loss: 0.0266 - accuracy: 0.9905\n",
            "Epoch 96/100\n",
            "105/105 [==============================] - 0s 3ms/step - loss: 0.0186 - accuracy: 0.9905\n",
            "Epoch 97/100\n",
            "105/105 [==============================] - 0s 3ms/step - loss: 0.0159 - accuracy: 0.9905\n",
            "Epoch 98/100\n",
            "105/105 [==============================] - 0s 2ms/step - loss: 0.0310 - accuracy: 0.9905\n",
            "Epoch 99/100\n",
            "105/105 [==============================] - 0s 2ms/step - loss: 0.0252 - accuracy: 0.9905\n",
            "Epoch 100/100\n",
            "105/105 [==============================] - 0s 2ms/step - loss: 0.0317 - accuracy: 0.9810\n"
          ]
        },
        {
          "output_type": "execute_result",
          "data": {
            "text/plain": [
              "<keras.callbacks.History at 0x7ff970547490>"
            ]
          },
          "metadata": {},
          "execution_count": 38
        }
      ]
    },
    {
      "cell_type": "code",
      "source": [
        "model.evaluate(x_test, y_test)"
      ],
      "metadata": {
        "colab": {
          "base_uri": "https://localhost:8080/"
        },
        "id": "XvK9hU9o8eG1",
        "outputId": "af9c2322-7303-46b5-f660-6d0832fb0c73"
      },
      "execution_count": 39,
      "outputs": [
        {
          "output_type": "stream",
          "name": "stdout",
          "text": [
            "2/2 [==============================] - 0s 8ms/step - loss: 0.0230 - accuracy: 1.0000\n"
          ]
        },
        {
          "output_type": "execute_result",
          "data": {
            "text/plain": [
              "[0.022959375753998756, 1.0]"
            ]
          },
          "metadata": {},
          "execution_count": 39
        }
      ]
    },
    {
      "cell_type": "code",
      "source": [
        "y_pred = model.predict(x_test)\n",
        "print(y_test.shape, y_pred.shape)\n",
        "print(y_test[0], y_pred[0])\n",
        "# 원핫 -> 라벨\n",
        "y_pred = np.argmax(y_pred, axis=1) # 벡터화\n",
        "y_test = np.argmax(y_test, axis=1)\n",
        "print(y_test.shape, y_pred.shape)\n",
        "print(y_test[0], y_pred[0])"
      ],
      "metadata": {
        "colab": {
          "base_uri": "https://localhost:8080/"
        },
        "id": "KotbZ_la8eJU",
        "outputId": "c955aad6-1d45-4f4f-dfe3-230128f02465"
      },
      "execution_count": 40,
      "outputs": [
        {
          "output_type": "stream",
          "name": "stdout",
          "text": [
            "(45, 3) (45, 3)\n",
            "[1. 0. 0.] [0.9999713  0.00113737 0.12933695]\n",
            "(45,) (45,)\n",
            "0 0\n"
          ]
        }
      ]
    },
    {
      "cell_type": "code",
      "source": [
        "from sklearn.metrics import confusion_matrix, ConfusionMatrixDisplay\n",
        "cm = confusion_matrix(y_test, y_pred)\n",
        "#print(cm)\n",
        "ConfusionMatrixDisplay(cm).plot(cmap='Blues')"
      ],
      "metadata": {
        "colab": {
          "base_uri": "https://localhost:8080/",
          "height": 298
        },
        "id": "pi5Q5EG28eL2",
        "outputId": "b4f4170a-495b-4d2b-bc30-1f987ae74c6d"
      },
      "execution_count": 41,
      "outputs": [
        {
          "output_type": "execute_result",
          "data": {
            "text/plain": [
              "<sklearn.metrics._plot.confusion_matrix.ConfusionMatrixDisplay at 0x7ff970363fd0>"
            ]
          },
          "metadata": {},
          "execution_count": 41
        },
        {
          "output_type": "display_data",
          "data": {
            "text/plain": [
              "<Figure size 432x288 with 2 Axes>"
            ],
            "image/png": "[encoded data removed]"
          },
          "metadata": {
            "needs_background": "light"
          }
        }
      ]
    },
    {
      "cell_type": "markdown",
      "source": [
        "### | 과제 3. MNIST 숫자 데이터 분류\n",
        "\n",
        "```\n",
        "mnist = tf.keras.datasets.mnist\n",
        "(x_train, y_train), (x_test, y_test) = mnist.load_data()\n",
        "print(x_train.shape, y_train.shape, x_test.shape, y_test.shape)\n",
        "```"
      ],
      "metadata": {
        "id": "2K0mAdPzjOAf"
      }
    },
    {
      "cell_type": "code",
      "source": [
        "mnist = tf.keras.datasets.mnist\n",
        "(x_train, y_train), (x_test, y_test) = mnist.load_data()\n",
        "# 정규화(x)\n",
        "x_train = x_train/255.0 # (0 ~ 1)\n",
        "x_test = x_test/255.0 # (0 ~ 1)\n",
        "# 원핫(y) -> 안하고 작동시켜보기\n",
        "# One_hot 인코딩은 카테고리를 표현할 때 자주 사용하는 방법으로 X가 아닌 1차원 array 형태로 나타냅니다.\n",
        "# Tensorflow에서 to_categorical()을 이용합니다.\n",
        "# y_train = tf.keras.utils.to_categorical(y_train, 10)\n",
        "# y_test = tf.keras.utils.to_categorical(y_test, 10)\n",
        "\n",
        "print(x_train.shape, y_train.shape, x_test.shape, y_test.shape)"
      ],
      "metadata": {
        "id": "aMfhH4ojun0G",
        "colab": {
          "base_uri": "https://localhost:8080/"
        },
        "outputId": "2fc5296f-9da4-46ee-a178-398982b6454b"
      },
      "execution_count": 75,
      "outputs": [
        {
          "output_type": "stream",
          "name": "stdout",
          "text": [
            "(60000, 28, 28) (60000,) (10000, 28, 28) (10000,)\n"
          ]
        }
      ]
    },
    {
      "cell_type": "markdown",
      "source": [
        "* 데이터 시각화"
      ],
      "metadata": {
        "id": "EOskN_eSMJNL"
      }
    },
    {
      "cell_type": "code",
      "source": [
        "for i in range(15):\n",
        "    plt.subplot(3,5,i+1)\n",
        "    plt.imshow(x_train[i], cmap='gray')"
      ],
      "metadata": {
        "id": "oYaA4aLuv7F4",
        "colab": {
          "base_uri": "https://localhost:8080/",
          "height": 262
        },
        "outputId": "54021762-6402-495a-8ae4-3c8aeee7c769"
      },
      "execution_count": 76,
      "outputs": [
        {
          "output_type": "display_data",
          "data": {
            "text/plain": [
              "<Figure size 432x288 with 15 Axes>"
            ],
            "image/png": "[encoded data removed]"
          },
          "metadata": {
            "needs_background": "light"
          }
        }
      ]
    },
    {
      "cell_type": "markdown",
      "source": [
        "### | 모델\n",
        "\n",
        "\n",
        "<p align='center'>\n",
        "<img src=https://github.com/yebiny/SkillTreePython-DeepLearning/blob/main/imgs/ch0105-03.PNG?raw=true width=500>\n",
        "</p>\n"
      ],
      "metadata": {
        "id": "po1mICbWv48p"
      }
    },
    {
      "cell_type": "markdown",
      "source": [
        "#### **모델 생성**"
      ],
      "metadata": {
        "id": "C_gpuC1Ev48p"
      }
    },
    {
      "cell_type": "code",
      "source": [
        "# from tensorflow.keras import models, layers, utils\n",
        "\n",
        "# def build_mnistmodel():\n",
        "#     x = layers.Input(shape=(28,28), name=\"input\")\n",
        "#     y = layers.Flatten(name=\"flatten\")(x)\n",
        "#     y = layers.Dense(256, activation=\"relu\", name=\"D1\")(y)\n",
        "#     y = layers.Dense(256, activation=\"relu\", name=\"D2\")(y)\n",
        "#     y = layers.Dense(10, activation=\"softmax\", name=\"output\")(y)\n",
        "#     model = models.Model(x, y)\n",
        "#     return model"
      ],
      "metadata": {
        "id": "EGu9-IxQ-IUf"
      },
      "execution_count": 89,
      "outputs": []
    },
    {
      "cell_type": "code",
      "source": [
        "from tensorflow.keras import models, layers, utils\n",
        "\n",
        "def build_mnistmodel():\n",
        "    x = layers.Input(shape=(28,28))\n",
        "    z = layers.Flatten()(x)\n",
        "    z = layers.Dense(256, activation='relu')(z)\n",
        "    z = layers.Dense(256, activation='relu')(z)\n",
        "    y = layers.Dense(10, activation='softmax')(z)\n",
        "    model = models.Model(x,y)\n",
        "    return model"
      ],
      "metadata": {
        "id": "bDFZF-9Jv48q"
      },
      "execution_count": 94,
      "outputs": []
    },
    {
      "cell_type": "code",
      "source": [
        "# import tensorflow as tf\n",
        "# # 3. 모델 구성\n",
        "# model = tf.keras.models.Sequential([\n",
        "#     tf.keras.layers.Flatten(input_shape=(28, 28)),\n",
        "#     tf.keras.layers.Dense(512, activation=tf.nn.relu),\n",
        "#     tf.keras.layers.Dense(10, activation=tf.nn.softmax)\n",
        "# ])"
      ],
      "metadata": {
        "id": "xobZzBs73sUs"
      },
      "execution_count": 18,
      "outputs": []
    },
    {
      "cell_type": "markdown",
      "source": [
        "#### **모델 시각화**\n",
        "\n",
        "* `model.summary()`\n",
        "* `utils.plot_model()`"
      ],
      "metadata": {
        "id": "nopDIQEiv48q"
      }
    },
    {
      "cell_type": "code",
      "source": [
        "model = build_mnistmodel()\n",
        "model.summary()"
      ],
      "metadata": {
        "id": "rXzVjMLpv48q",
        "colab": {
          "base_uri": "https://localhost:8080/"
        },
        "outputId": "d08f2c89-1b0b-4f10-9bc2-5ad33a0b896c"
      },
      "execution_count": 95,
      "outputs": [
        {
          "output_type": "stream",
          "name": "stdout",
          "text": [
            "Model: \"model_6\"\n",
            "_________________________________________________________________\n",
            " Layer (type)                Output Shape              Param #   \n",
            "=================================================================\n",
            " input_7 (InputLayer)        [(None, 28, 28)]          0         \n",
            "                                                                 \n",
            " flatten_4 (Flatten)         (None, 784)               0         \n",
            "                                                                 \n",
            " dense_8 (Dense)             (None, 256)               200960    \n",
            "                                                                 \n",
            " dense_9 (Dense)             (None, 256)               65792     \n",
            "                                                                 \n",
            " dense_10 (Dense)            (None, 10)                2570      \n",
            "                                                                 \n",
            "=================================================================\n",
            "Total params: 269,322\n",
            "Trainable params: 269,322\n",
            "Non-trainable params: 0\n",
            "_________________________________________________________________\n"
          ]
        }
      ]
    },
    {
      "cell_type": "markdown",
      "source": [
        "### | 학습"
      ],
      "metadata": {
        "id": "mwtIo0te0dvn"
      }
    },
    {
      "cell_type": "markdown",
      "source": [
        "#### **모델 컴파일**\n",
        "\n",
        "```\n",
        "model.compile(loss, optimizer, metrics) \n",
        "```\n",
        "* `loss` : 다중분류 문제\n",
        "    * categorical_crossentropy : 원-핫 완료된 상태\n",
        "    * sparse_categorical_crossentropy : 웟-핫 안된상태\n",
        "* `optimizer` : Adam\n",
        "* `metrics`: "
      ],
      "metadata": {
        "id": "BEN3BQFF0dvt"
      }
    },
    {
      "cell_type": "code",
      "source": [
        "# 4. 모델 컴파일\n",
        "model.compile(loss='sparse_categorical_crossentropy',\n",
        "              optimizer='adam',\n",
        "              metrics=['accuracy'])"
      ],
      "metadata": {
        "id": "RhuM6-_f0dvt"
      },
      "execution_count": 96,
      "outputs": []
    },
    {
      "cell_type": "markdown",
      "source": [
        "#### **학습**\n",
        "\n",
        "```\n",
        "model.fit(x_train, y_train, epochs, batch_size)\n",
        "```\n",
        "* `x_train` : 넘파이 혹은 텐서 형식의 인풋 데이터\n",
        "* `y_train` : 넘파이 혹은 텐서 형식의 아웃풋 데이터\n",
        "* `epochs` : 학습 횟수\n",
        "* `batch_size` : 배치 사이즈 ((업데이트 한번에 사용될 샘플 개수)"
      ],
      "metadata": {
        "id": "weF5ryop0dvt"
      }
    },
    {
      "cell_type": "code",
      "source": [
        "# 5. 모델 훈련\n",
        "model.fit(x_train, y_train, epochs=10, batch_size=50)"
      ],
      "metadata": {
        "id": "URyV2ICw0dvt",
        "colab": {
          "base_uri": "https://localhost:8080/"
        },
        "outputId": "806d961d-f294-4841-e6ed-bbcb4784def8"
      },
      "execution_count": 97,
      "outputs": [
        {
          "output_type": "stream",
          "name": "stdout",
          "text": [
            "Epoch 1/10\n",
            "1200/1200 [==============================] - 3s 3ms/step - loss: 0.2113 - accuracy: 0.9377\n",
            "Epoch 2/10\n",
            "1200/1200 [==============================] - 3s 2ms/step - loss: 0.0851 - accuracy: 0.9739\n",
            "Epoch 3/10\n",
            "1200/1200 [==============================] - 3s 2ms/step - loss: 0.0579 - accuracy: 0.9813\n",
            "Epoch 4/10\n",
            "1200/1200 [==============================] - 3s 3ms/step - loss: 0.0436 - accuracy: 0.9855\n",
            "Epoch 5/10\n",
            "1200/1200 [==============================] - 3s 2ms/step - loss: 0.0321 - accuracy: 0.9895\n",
            "Epoch 6/10\n",
            "1200/1200 [==============================] - 3s 3ms/step - loss: 0.0288 - accuracy: 0.9905\n",
            "Epoch 7/10\n",
            "1200/1200 [==============================] - 3s 2ms/step - loss: 0.0209 - accuracy: 0.9931\n",
            "Epoch 8/10\n",
            "1200/1200 [==============================] - 5s 4ms/step - loss: 0.0198 - accuracy: 0.9931\n",
            "Epoch 9/10\n",
            "1200/1200 [==============================] - 3s 3ms/step - loss: 0.0172 - accuracy: 0.9945\n",
            "Epoch 10/10\n",
            "1200/1200 [==============================] - 3s 2ms/step - loss: 0.0168 - accuracy: 0.9944\n"
          ]
        },
        {
          "output_type": "execute_result",
          "data": {
            "text/plain": [
              "<keras.callbacks.History at 0x7ff9866609d0>"
            ]
          },
          "metadata": {},
          "execution_count": 97
        }
      ]
    },
    {
      "cell_type": "markdown",
      "source": [
        "### | 검증 및 예측\n"
      ],
      "metadata": {
        "id": "4UIAL_HA0dvt"
      }
    },
    {
      "cell_type": "markdown",
      "source": [
        "#### **검증**\n",
        "\n",
        "```\n",
        "model.evaluate(x_test, y_test)\n",
        "```\n",
        "* `x_test` : 넘파이 혹은 텐서 형식의 인풋 테스트 데이터\n",
        "* `y_test` : 넘파이 혹은 텐서 형식의 아웃풋 테스트 데이터"
      ],
      "metadata": {
        "id": "JNcvTwyU0dvt"
      }
    },
    {
      "cell_type": "code",
      "source": [
        "model.evaluate(x_test, y_test)"
      ],
      "metadata": {
        "id": "blrfzkKN0dvu",
        "colab": {
          "base_uri": "https://localhost:8080/"
        },
        "outputId": "fc1c2e24-bb9a-4301-a26d-f04adf76bad6"
      },
      "execution_count": 98,
      "outputs": [
        {
          "output_type": "stream",
          "name": "stdout",
          "text": [
            "313/313 [==============================] - 1s 2ms/step - loss: 0.0968 - accuracy: 0.9779\n"
          ]
        },
        {
          "output_type": "execute_result",
          "data": {
            "text/plain": [
              "[0.09680601209402084, 0.9779000282287598]"
            ]
          },
          "metadata": {},
          "execution_count": 98
        }
      ]
    },
    {
      "cell_type": "markdown",
      "source": [
        "#### **예측**\n",
        "\n",
        "```\n",
        "model.predict(x_test)\n",
        "```\n",
        "* `x_test` : 넘파이 혹은 텐서 형식의 인풋 테스트 데이터\n",
        "* `y_test` : 넘파이 혹은 텐서 형식의 아웃풋 테스트 데이터"
      ],
      "metadata": {
        "id": "4IHDLt-D0dvu"
      }
    },
    {
      "cell_type": "code",
      "source": [
        "y_pred = np.argmax(model.predict(x_test), axis=1)"
      ],
      "metadata": {
        "id": "P2lPLl970dvu"
      },
      "execution_count": 99,
      "outputs": []
    },
    {
      "cell_type": "markdown",
      "source": [
        "* 예측 시각화"
      ],
      "metadata": {
        "id": "xyDfuLj-0dvu"
      }
    },
    {
      "cell_type": "code",
      "source": [
        "# 혼돈행렬 만들기\n",
        "from sklearn.metrics import confusion_matrix, ConfusionMatrixDisplay\n",
        "\n",
        "# confusion_matrix는 정수값이 들어가야함\n",
        "cm = confusion_matrix(y_test,y_pred)\n",
        "ConfusionMatrixDisplay(cm).plot(cmap=\"Blues\");"
      ],
      "metadata": {
        "id": "GrBlEHxm0dvu",
        "colab": {
          "base_uri": "https://localhost:8080/",
          "height": 279
        },
        "outputId": "f90c6e73-efaf-4a9f-be6f-70fe91de909f"
      },
      "execution_count": 100,
      "outputs": [
        {
          "output_type": "display_data",
          "data": {
            "text/plain": [
              "<Figure size 432x288 with 2 Axes>"
            ],
            "image/png": "[encoded data removed]"
          },
          "metadata": {
            "needs_background": "light"
          }
        }
      ]
    },
    {
      "cell_type": "markdown",
      "source": [
        "* 모델 활용"
      ],
      "metadata": {
        "id": "4-APLR7G2Dep"
      }
    },
    {
      "cell_type": "code",
      "source": [
        ""
      ],
      "metadata": {
        "id": "3e_9LSrE0wbl"
      },
      "execution_count": null,
      "outputs": []
    },
    {
      "cell_type": "code",
      "source": [
        ""
      ],
      "metadata": {
        "id": "sCp8tPhh2G14"
      },
      "execution_count": null,
      "outputs": []
    }
  ]
}