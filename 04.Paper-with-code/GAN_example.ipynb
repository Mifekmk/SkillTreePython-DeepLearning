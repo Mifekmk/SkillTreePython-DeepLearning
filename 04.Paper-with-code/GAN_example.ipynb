{
  "nbformat": 4,
  "nbformat_minor": 0,
  "metadata": {
    "colab": {
      "name": "CGAN_example.ipynb",
      "provenance": [],
      "collapsed_sections": [],
      "authorship_tag": "ABX9TyM7HVfVi6W9eo6/tFQTdRPx",
      "include_colab_link": true
    },
    "kernelspec": {
      "name": "python3",
      "display_name": "Python 3"
    },
    "language_info": {
      "name": "python"
    },
    "gpuClass": "standard",
    "accelerator": "GPU"
  },
  "cells": [
    {
      "cell_type": "markdown",
      "metadata": {
        "id": "view-in-github",
        "colab_type": "text"
      },
      "source": [
        "<a href=\"https://colab.research.google.com/github/Mifekmk/SkillTreePython-DeepLearning/blob/main/04.Paper-with-code/GAN_example.ipynb\" target=\"_parent\"><img src=\"https://colab.research.google.com/assets/colab-badge.svg\" alt=\"Open In Colab\"/></a>"
      ]
    },
    {
      "cell_type": "code",
      "source": [
        "! git 'SkillTreePython-DeepLearning/04.Paper-with-code/cgan/'"
      ],
      "metadata": {
        "colab": {
          "base_uri": "https://localhost:8080/"
        },
        "id": "tlAVCaqO_YSW",
        "outputId": "30231747-5232-496b-822e-5a1c240ba27f"
      },
      "execution_count": 7,
      "outputs": [
        {
          "output_type": "stream",
          "name": "stdout",
          "text": [
            "git: 'SkillTreePython-DeepLearning/04.Paper-with-code/cgan/' is not a git command. See 'git --help'.\n"
          ]
        }
      ]
    },
    {
      "cell_type": "code",
      "source": [
        "import tensorflow as tf\n",
        "from tensorflow.keras import models, layers, utils\n",
        "from tensorflow.keras import backend as K\n",
        "\n",
        "class BuildModel():\n",
        "  def __init__(self, img_shape, z_dim, label_dim):\n",
        "    self.img_shape = img_shape\n",
        "    self.z_dim = z_dim\n",
        "    self.label_dim = label_dim\n",
        "\n",
        "  def build_gene(self, \n",
        "                 activation = 'selu',\n",
        "                 last_activation='sigmoid',\n",
        "                 kernel_size=5):\n",
        "\n",
        "    h, w, ch = self.img_shape\n",
        "    \n",
        "    z = layers.Input(shape=[self.z_dim,], name='noise')\n",
        "    c = layers.Input(shape=[self.label_dim,], name='condition')\n",
        "    y = layers.concatenate([z, c])\n",
        "\n",
        "    y = layers.Dense(int(w/4)*int(h/4)*128)(y)\n",
        "    y = layers.Reshape( [int(w/4),int(h/4),128] )(y)\n",
        "    y = layers.BatchNormalization()(y)\n",
        "    y = layers.Conv2DTranspose(64, kernel_size=5, padding='same', strides=2, activation=activation)(y)\n",
        "    y = layers.BatchNormalization()(y)\n",
        "    y = layers.Conv2DTranspose(ch, kernel_size=5, padding='same', strides=2, activation=last_activation)(y)\n",
        "    \n",
        "    return models.Model([z, c], y, name='Generator')\n",
        "\n",
        "  def build_disc(self,\n",
        "                 activation='relu',\n",
        "                 last_activation='sigmoid',\n",
        "                 kernel_size=5):\n",
        "\n",
        "    h, w, ch = self.img_shape\n",
        "    def _expand_label_input(x):\n",
        "      y = K.expand_dims(x, axis=1)\n",
        "      y = K.expand_dims(y, axis=1)\n",
        "      y = K.tile(y, [1, int(h/2), int(w/2), 1])\n",
        "      return y\n",
        "\n",
        "    in_x = layers.Input(shape=self.img_shape, name='disc_input_image')\n",
        "    x = layers.Conv2D(64, kernel_size=kernel_size, strides=2, padding='same', activation=activation)(in_x)\n",
        "    \n",
        "    in_c = layers.Input(shape= self.label_dim, name='disc_input_label')\n",
        "    c = layers.Lambda(_expand_label_input)(in_c)\n",
        "    \n",
        "    y = layers.concatenate([x, c], axis=3)\n",
        "    y = layers.Conv2D(128, kernel_size=kernel_size, strides=2, padding='same', activation=activation)(y)\n",
        "    y = layers.Dropout(.5)(y)\n",
        "    y = layers.Flatten()(y)\n",
        "\n",
        "    y = layers.Dense(1, activation=last_activation)(y)\n",
        "    return models.Model([in_x,in_c], y, name='Discriminator')"
      ],
      "metadata": {
        "id": "Jn8qev089xFy"
      },
      "execution_count": 8,
      "outputs": []
    },
    {
      "cell_type": "code",
      "source": [
        "import tensorflow as tf\n",
        "import numpy as np\n",
        "from tensorflow.keras.utils import to_categorical\n",
        "\n",
        "def mnist_loader(standard=False):\n",
        "  (x_train, y_train), (x_test, y_test) = tf.keras.datasets.mnist.load_data()\n",
        "  x_train = np.expand_dims(x_train, 3)\n",
        "  \n",
        "  x_train = x_train / 255. # 0~1\n",
        "  x_test = x_test / 255. # 0~1\n",
        "  if standard:\n",
        "    x_train = (x_train*2)-1\n",
        "    x_test = (x_test*2)-1\n",
        "\n",
        "  y_train = to_categorical(y_train, num_classes=10)\n",
        "  y_test = to_categorical(y_test, num_classes=10)\n",
        "  return x_train, y_train, x_test, y_test\n",
        "\n",
        "def fmnist_loader(standard=False):\n",
        "  (x_train, y_train), (x_test, y_test) = tf.keras.datasets.fashion_mnist.load_data()\n",
        "  x_train = np.expand_dims(x_train, 3)\n",
        "\n",
        "  x_train = x_train / 255.\n",
        "  x_test = x_test / 255.\n",
        "  if standard:\n",
        "    x_train = (x_train*2)-1\n",
        "    x_test = (x_test*2)-1\n",
        " \n",
        "  y_train = to_categorical(y_train, num_classes=10)\n",
        "  y_test = to_categorical(y_test, num_classes=10)\n",
        "  return x_train, y_train, x_test, y_test\n",
        "\n",
        "def cifar10_loader(standard=False):\n",
        "  (x_train, y_train), (x_test, y_test) = tf.keras.datasets.cifar10.load_data()\n",
        "\n",
        "  x_train = x_train / 255.\n",
        "  x_test = x_test / 255.\n",
        "  if standard:\n",
        "    x_train = (x_train*2)-1\n",
        "    x_test = (x_test*2)-1\n",
        "\n",
        "  y_train = to_categorical(y_train, num_classes=10)\n",
        "  y_test = to_categorical(y_test, num_classes=10)\n",
        "  return x_train, y_train, x_test, y_test"
      ],
      "metadata": {
        "id": "fZ2cCgqo90ej"
      },
      "execution_count": 9,
      "outputs": []
    },
    {
      "cell_type": "code",
      "source": [
        "import matplotlib.pyplot as plt\n",
        "import numpy as np\n",
        "\n",
        "def display_sample_img(samples, grid, standard=False, size=1):\n",
        "  h, w = grid\n",
        "  n = np.cumprod(grid)[-1]\n",
        "  plt.figure(figsize=(w*size,h*size))\n",
        "  for i, sample in enumerate(samples[:n]):\n",
        "    if i==n: break\n",
        "    if standard:\n",
        "      sample = ( sample  + 1. ) / 2.\n",
        "    sample = np.clip(sample, 0, 1)\n",
        "    plt.subplot(h,w,i+1)\n",
        "    if sample.shape[-1]==1: plt.imshow(sample[:,:,0], cmap='gray_r')\n",
        "    else: plt.imshow(sample)\n",
        "    plt.xticks([]);plt.yticks([])\n",
        "  plt.show()"
      ],
      "metadata": {
        "id": "kssUs8tB92UT"
      },
      "execution_count": 10,
      "outputs": []
    },
    {
      "cell_type": "code",
      "source": [
        "x_train,_,_,_ = mnist_loader()\n",
        "display_sample_img(x_train[:10], (10,10))"
      ],
      "metadata": {
        "colab": {
          "base_uri": "https://localhost:8080/",
          "height": 135
        },
        "id": "4r3lBSKS93kT",
        "outputId": "60adba94-ce21-4462-b7de-022b5b4e3233"
      },
      "execution_count": 11,
      "outputs": [
        {
          "output_type": "stream",
          "name": "stdout",
          "text": [
            "Downloading data from https://storage.googleapis.com/tensorflow/tf-keras-datasets/mnist.npz\n",
            "11493376/11490434 [==============================] - 0s 0us/step\n",
            "11501568/11490434 [==============================] - 0s 0us/step\n"
          ]
        },
        {
          "output_type": "display_data",
          "data": {
            "text/plain": [
              "<Figure size 720x720 with 10 Axes>"
            ],
            "image/png": "[encoded data removed]"
          },
          "metadata": {}
        }
      ]
    },
    {
      "cell_type": "code",
      "source": [
        "import tensorflow as tf\n",
        "from tensorflow.keras import models, layers, utils\n",
        "from utils import display_sample_img\n",
        "import numpy as np\n",
        "\n",
        "class CGAN():\n",
        "  def __init__(self, gene, disc, img_shape, noise_dims, label_dims):\n",
        "    self.name = 'CGAN'\n",
        "    self.gene = gene\n",
        "    self.disc = disc\n",
        "    self.img_shape = img_shape\n",
        "    self.noise_dims = noise_dims\n",
        "    self.label_dims = label_dims\n",
        "\n",
        "  def compile(self, \n",
        "              loss = 'binary_crossentropy',\n",
        "              optimizer = 'adam'):\n",
        "    \n",
        "    self.disc.compile(loss = loss, optimizer = optimizer)\n",
        "    self.disc.trainable = False\n",
        "    \n",
        "    # 인풋이 추가 (noise, label)\n",
        "    input_noise = layers.Input(shape=self.noise_dims)\n",
        "    input_label = layers.Input(shape=self.label_dims)\n",
        "\n",
        "    fake_img = self.gene([input_noise, input_label])\n",
        "    logit = self.disc([fake_img, input_label])\n",
        "\n",
        "    self.cgan = models.Model([input_noise, input_label] , logit, name=self.name)\n",
        "    self.cgan.compile(loss = loss, optimizer = optimizer)\n",
        "\n",
        "  def _make_datasets(self, x_data, y_data):\n",
        "      dataset = tf.data.Dataset.from_tensor_slices( (x_data, y_data ) ).shuffle(1)\n",
        "      dataset = dataset.batch(self.batch_size, drop_remainder=True).prefetch(1)\n",
        "      return dataset\n",
        "\n",
        "  def _make_constants(self):\n",
        "      zeros = tf.constant([0.], shape=[self.batch_size, 1])\n",
        "      ones = tf.constant([1.], shape=[self.batch_size, 1] )\n",
        "      return zeros, ones\n",
        "  \n",
        "  def _make_random(self):\n",
        "      rnd_noises = tf.random.normal(shape=[self.batch_size, self.noise_dims])\n",
        "      rnd_labels = np.random.randint(0, self.label_dims, self.batch_size )\n",
        "      rnd_labels = utils.to_categorical(rnd_labels, self.label_dims)\n",
        "      return rnd_noises, rnd_labels\n",
        "\n",
        "  def fit(self, \n",
        "          x_data, \n",
        "          y_data,\n",
        "          epochs=1,\n",
        "          batch_size=32,\n",
        "          standard=False\n",
        "          ):\n",
        "    \n",
        "    # setting\n",
        "    self.batch_size = batch_size\n",
        "    train_ds = self._make_datasets(x_data, y_data)\n",
        "    zeros, ones = self._make_constants()\n",
        "    # for generator \n",
        "    seed_noises = tf.random.normal(shape=[30, self.noise_dims])\n",
        "    seed_labels = np.arange(10)\n",
        "    seed_labels = utils.to_categorical(seed_labels, 10)\n",
        "    seed_labels = np.tile(seed_labels, (3,1))\n",
        "\n",
        "    # train\n",
        "    history = {'d_loss':[], 'g_loss':[]}\n",
        "    for epoch in range(1+epochs):\n",
        "      if epoch>0: \n",
        "        for h in history: history[h].append(0)\n",
        "\n",
        "        for real_imgs, real_labels in train_ds:           \n",
        "            # phase 1 - training the discriminator\n",
        "            rnd_noises, _ = self._make_random()\n",
        "            fake_imgs = self.gene.predict_on_batch([rnd_noises, real_labels])\n",
        "            \n",
        "            self.disc.trainable = True\n",
        "            d_loss_real = self.disc.train_on_batch([real_imgs, real_labels], ones)\n",
        "            d_loss_fake = self.disc.train_on_batch([fake_imgs, real_labels], zeros)\n",
        "            d_loss = (0.5*d_loss_real) + (0.5*d_loss_fake)\n",
        "            \n",
        "            # phase 2 - training the generator\n",
        "            self.disc.trainable = False\n",
        "            rnd_noises, rnd_labels = self._make_random()\n",
        "            g_loss = self.cgan.train_on_batch([rnd_noises , rnd_labels ] , ones)\n",
        "            \n",
        "            history['d_loss'][-1]+=d_loss\n",
        "            history['g_loss'][-1]+=g_loss\n",
        "        \n",
        "        # end 1 epoch        \n",
        "        print('* epoch: %i, d_loss: %f, g_loss: %f'%( epoch\n",
        "                                                    , history['d_loss'][-1]\n",
        "                                                    , history['g_loss'][-1]))\n",
        "        \n",
        "      fake_imgs = self.gene.predict([seed_noises, seed_labels])\n",
        "      display_sample_img(fake_imgs, (3,10), standard=standard, size=2)"
      ],
      "metadata": {
        "id": "8vvBc_O095CT"
      },
      "execution_count": 13,
      "outputs": []
    },
    {
      "cell_type": "code",
      "source": [
        "x_train, y_train, x_test, y_test = mnist_loader()\n",
        "print(x_train.shape, y_train.shape, x_test.shape, y_test.shape)"
      ],
      "metadata": {
        "colab": {
          "base_uri": "https://localhost:8080/"
        },
        "id": "uCTyC6H597ID",
        "outputId": "12cb66c7-f63b-4d1b-880d-1080735ae651"
      },
      "execution_count": 14,
      "outputs": [
        {
          "output_type": "stream",
          "name": "stdout",
          "text": [
            "(60000, 28, 28, 1) (60000, 10) (10000, 28, 28) (10000, 10)\n"
          ]
        }
      ]
    },
    {
      "cell_type": "code",
      "source": [
        "img_shape = (28,28,1)\n",
        "noise_dim = 128\n",
        "label_dim = 10\n",
        "\n",
        "builder = BuildModel(img_shape, noise_dim, label_dim)\n",
        "gene = builder.build_gene()\n",
        "disc = builder.build_disc()\n",
        "gene.summary()\n",
        "disc.summary()"
      ],
      "metadata": {
        "colab": {
          "base_uri": "https://localhost:8080/"
        },
        "id": "nzSoOTDH987T",
        "outputId": "aea96d44-dac6-4416-95f2-1dbac3cdcbc5"
      },
      "execution_count": 15,
      "outputs": [
        {
          "output_type": "stream",
          "name": "stdout",
          "text": [
            "Model: \"Generator\"\n",
            "__________________________________________________________________________________________________\n",
            " Layer (type)                   Output Shape         Param #     Connected to                     \n",
            "==================================================================================================\n",
            " noise (InputLayer)             [(None, 128)]        0           []                               \n",
            "                                                                                                  \n",
            " condition (InputLayer)         [(None, 10)]         0           []                               \n",
            "                                                                                                  \n",
            " concatenate (Concatenate)      (None, 138)          0           ['noise[0][0]',                  \n",
            "                                                                  'condition[0][0]']              \n",
            "                                                                                                  \n",
            " dense (Dense)                  (None, 6272)         871808      ['concatenate[0][0]']            \n",
            "                                                                                                  \n",
            " reshape (Reshape)              (None, 7, 7, 128)    0           ['dense[0][0]']                  \n",
            "                                                                                                  \n",
            " batch_normalization (BatchNorm  (None, 7, 7, 128)   512         ['reshape[0][0]']                \n",
            " alization)                                                                                       \n",
            "                                                                                                  \n",
            " conv2d_transpose (Conv2DTransp  (None, 14, 14, 64)  204864      ['batch_normalization[0][0]']    \n",
            " ose)                                                                                             \n",
            "                                                                                                  \n",
            " batch_normalization_1 (BatchNo  (None, 14, 14, 64)  256         ['conv2d_transpose[0][0]']       \n",
            " rmalization)                                                                                     \n",
            "                                                                                                  \n",
            " conv2d_transpose_1 (Conv2DTran  (None, 28, 28, 1)   1601        ['batch_normalization_1[0][0]']  \n",
            " spose)                                                                                           \n",
            "                                                                                                  \n",
            "==================================================================================================\n",
            "Total params: 1,079,041\n",
            "Trainable params: 1,078,657\n",
            "Non-trainable params: 384\n",
            "__________________________________________________________________________________________________\n",
            "Model: \"Discriminator\"\n",
            "__________________________________________________________________________________________________\n",
            " Layer (type)                   Output Shape         Param #     Connected to                     \n",
            "==================================================================================================\n",
            " disc_input_image (InputLayer)  [(None, 28, 28, 1)]  0           []                               \n",
            "                                                                                                  \n",
            " disc_input_label (InputLayer)  [(None, 10)]         0           []                               \n",
            "                                                                                                  \n",
            " conv2d (Conv2D)                (None, 14, 14, 64)   1664        ['disc_input_image[0][0]']       \n",
            "                                                                                                  \n",
            " lambda (Lambda)                (None, 14, 14, 10)   0           ['disc_input_label[0][0]']       \n",
            "                                                                                                  \n",
            " concatenate_1 (Concatenate)    (None, 14, 14, 74)   0           ['conv2d[0][0]',                 \n",
            "                                                                  'lambda[0][0]']                 \n",
            "                                                                                                  \n",
            " conv2d_1 (Conv2D)              (None, 7, 7, 128)    236928      ['concatenate_1[0][0]']          \n",
            "                                                                                                  \n",
            " dropout (Dropout)              (None, 7, 7, 128)    0           ['conv2d_1[0][0]']               \n",
            "                                                                                                  \n",
            " flatten (Flatten)              (None, 6272)         0           ['dropout[0][0]']                \n",
            "                                                                                                  \n",
            " dense_1 (Dense)                (None, 1)            6273        ['flatten[0][0]']                \n",
            "                                                                                                  \n",
            "==================================================================================================\n",
            "Total params: 244,865\n",
            "Trainable params: 244,865\n",
            "Non-trainable params: 0\n",
            "__________________________________________________________________________________________________\n"
          ]
        }
      ]
    },
    {
      "cell_type": "code",
      "source": [
        "\n",
        "model = CGAN(gene,disc, img_shape, noise_dim, label_dim)\n",
        "model.compile()\n",
        "history = model.fit(x_train,y_train, epochs = 5)"
      ],
      "metadata": {
        "colab": {
          "base_uri": "https://localhost:8080/",
          "height": 302
        },
        "id": "mD2xh2Hv997z",
        "outputId": "88cb21bd-858f-4ddf-d712-5e2d45c409af"
      },
      "execution_count": null,
      "outputs": [
        {
          "output_type": "display_data",
          "data": {
            "text/plain": [
              "<Figure size 1440x432 with 30 Axes>"
            ],
            "image/png": "[encoded data removed]"
          },
          "metadata": {}
        }
      ]
    }
  ]
}