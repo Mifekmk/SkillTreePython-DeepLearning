{
  "nbformat": 4,
  "nbformat_minor": 0,
  "metadata": {
    "colab": {
      "name": "ch03_01_NLP기초_텍스트처리.ipynb",
      "provenance": [],
      "collapsed_sections": [
        "5XY0FswrfDrS"
      ],
      "include_colab_link": true
    },
    "kernelspec": {
      "name": "python3",
      "display_name": "Python 3"
    },
    "language_info": {
      "name": "python"
    }
  },
  "cells": [
    {
      "cell_type": "markdown",
      "metadata": {
        "id": "view-in-github",
        "colab_type": "text"
      },
      "source": [
        "<a href=\"https://colab.research.google.com/github/Mifekmk/SkillTreePython-DeepLearning/blob/main/03.NLP-with-tensorflow2.0/ch03_01_NLP%EA%B8%B0%EC%B4%88_%ED%85%8D%EC%8A%A4%ED%8A%B8%EC%B2%98%EB%A6%AC.ipynb\" target=\"_parent\"><img src=\"https://colab.research.google.com/assets/colab-badge.svg\" alt=\"Open In Colab\"/></a>"
      ]
    },
    {
      "cell_type": "markdown",
      "source": [
        "# ch03.01 NLP기초 - 텍스트 처리\n",
        "---\n",
        "\n",
        "* 날짜: 2022-07-13\n",
        "* 이름: 김민규\n",
        "\n",
        "## 학습내용\n",
        "    - 텍스트 전처리 과정을 이해한다.\n",
        "      - 텍스트 토큰화\n",
        "      - 텍스트 인덱싱\n",
        "      - 원-핫 인코딩\n",
        "      - 텍스트 임베딩\n",
        "    - 간단한 문장을 분류하는 딥러닝 모델을 구현한다.\n"
      ],
      "metadata": {
        "id": "sWs2kEC1_b-P"
      }
    },
    {
      "cell_type": "markdown",
      "source": [
        "```\n",
        "! git clone https://github.com/yebiny/SkillTreePython-DeepLearning\n",
        "```"
      ],
      "metadata": {
        "id": "zml97VsFlWC1"
      }
    },
    {
      "cell_type": "code",
      "execution_count": 1,
      "metadata": {
        "id": "lqjonRF6KbGY",
        "colab": {
          "base_uri": "https://localhost:8080/"
        },
        "outputId": "b13f1d3f-5ac3-4b2b-ea2d-bf9a442d0303"
      },
      "outputs": [
        {
          "output_type": "stream",
          "name": "stdout",
          "text": [
            "fatal: destination path 'SkillTreePython-DeepLearning' already exists and is not an empty directory.\n"
          ]
        }
      ],
      "source": [
        "! git clone https://github.com/yebiny/SkillTreePython-DeepLearning"
      ]
    },
    {
      "cell_type": "markdown",
      "source": [
        "```\n",
        "import sys\n",
        "sys.path.append('/content/SkillTreePython-DeepLearning/02.케라스_창시자에게_배우는_딥러닝/scripts')\n",
        "from import_lib import *\n",
        "```"
      ],
      "metadata": {
        "id": "iDliBVhLlYiY"
      }
    },
    {
      "cell_type": "code",
      "source": [
        "import sys\n",
        "sys.path.append('/content/SkillTreePython-DeepLearning/02.케라스_창시자에게_배우는_딥러닝/scripts')\n",
        "from import_lib import *"
      ],
      "metadata": {
        "id": "InMFlAq4Xwge"
      },
      "execution_count": 2,
      "outputs": []
    },
    {
      "cell_type": "markdown",
      "source": [
        "## 텍스트 데이터 처리\n",
        "---"
      ],
      "metadata": {
        "id": "RgUP6THDdK7O"
      }
    },
    {
      "cell_type": "markdown",
      "source": [
        "### **| 전처리 구현하기**"
      ],
      "metadata": {
        "id": "5XY0FswrfDrS"
      }
    },
    {
      "cell_type": "markdown",
      "source": [
        "**딕셔너리 제작**\n",
        "\n",
        "'''\n",
        "\"문장이 이런식으로 이루어져 있습니다.\"\n",
        "# 1. 토큰화\n",
        "\"문장 이 이런 식 으로 이루 어 져 있습니다.\" # -> 어떻게 토큰화 할지 라이브러리 존재\n",
        "\"hello eveyone\"\n",
        "# 모든 데이터는 숫자\n",
        "2. 단어인덱싱\n",
        "#### 모든 토큰에 대해 숫자로 매핑\n",
        "#### 인덱싱 위해서는 딕셔너리가 필요"
      ],
      "metadata": {
        "id": "ZICnjn8bfHx-"
      }
    },
    {
      "cell_type": "code",
      "source": [
        "samples = ['very nice movie',\n",
        "           'this movie is bad',\n",
        "           'it is so bad',\n",
        "           'wow it is a good movie']\n",
        "\n",
        "word_dict = {}\n",
        "for sample in samples:\n",
        "    #print(sample)\n",
        "    # 토큰화\n",
        "    for token in sample.split(' '):\n",
        "        #print(token)\n",
        "        if token not in word_dict:\n",
        "            word_dict[token]=len(word_dict)+1\n",
        "print(word_dict)\n",
        "print('모든 단어 개수: ', len(word_dict))"
      ],
      "metadata": {
        "id": "aYpYwBlhf3En",
        "colab": {
          "base_uri": "https://localhost:8080/"
        },
        "outputId": "5e8c900c-42d9-45ce-b175-934a3128291f"
      },
      "execution_count": 3,
      "outputs": [
        {
          "output_type": "stream",
          "name": "stdout",
          "text": [
            "{'very': 1, 'nice': 2, 'movie': 3, 'this': 4, 'is': 5, 'bad': 6, 'it': 7, 'so': 8, 'wow': 9, 'a': 10, 'good': 11}\n",
            "모든 단어 개수:  11\n"
          ]
        }
      ]
    },
    {
      "cell_type": "code",
      "source": [
        "# 클래스가 3개 일때\n",
        "# 1: 1 0 0\n",
        "# 2: 0 1 0\n",
        "# 3: 0 0 1\n",
        "\n",
        "# 문장에서는 클래스 개수가 단어 개수만큼 (5000개 단어 ~ 10000개 단어 ~)\n",
        "# 1 : 1 0 0 ...\n",
        "# 2 : 0 1 0 ...\n",
        "# ...\n",
        "\n",
        "# 5000 : 0 0 ... 1"
      ],
      "metadata": {
        "id": "E1tlw782_Y5E"
      },
      "execution_count": null,
      "outputs": []
    },
    {
      "cell_type": "markdown",
      "source": [
        "#### **단어 인덱싱**"
      ],
      "metadata": {
        "id": "KEsBK72AfMB0"
      }
    },
    {
      "cell_type": "code",
      "source": [
        "# 문장 -> 토큰 -> 숫자\n",
        "def word_indexing(sample, word_dict):\n",
        "  indexed = []  \n",
        "  for token in sample.split(' '):\n",
        "    num = word_dict[token]\n",
        "    indexed.append(num)\n",
        "  return np.array(indexed)\n",
        "idx = 1\n",
        "samples[idx], word_indexing(samples[idx], word_dict)"
      ],
      "metadata": {
        "id": "OevIeAf6g0QN",
        "colab": {
          "base_uri": "https://localhost:8080/"
        },
        "outputId": "6b5cf5c0-dc9c-42cc-90ee-2bb0248aad18"
      },
      "execution_count": 4,
      "outputs": [
        {
          "output_type": "execute_result",
          "data": {
            "text/plain": [
              "('this movie is bad', array([4, 3, 5, 6]))"
            ]
          },
          "metadata": {},
          "execution_count": 4
        }
      ]
    },
    {
      "cell_type": "code",
      "source": [
        "plt.figure(figsize=(len(samples)*2, 4))\n",
        "for i, sample in enumerate(samples):\n",
        "  indexed = word_indexing(sample, word_dict)\n",
        "  plt.subplot(1, len(samples), i+1)\n",
        "  sns.heatmap(indexed.reshape(len(indexed), 1), cmap='gray', \n",
        "              annot=True, cbar=False,\n",
        "              yticklabels=sample.split(' '),\n",
        "              xticklabels=[])\n",
        "plt.show()"
      ],
      "metadata": {
        "colab": {
          "base_uri": "https://localhost:8080/",
          "height": 248
        },
        "id": "maSivC7nHQft",
        "outputId": "acaf01d7-bc2f-42e0-b4b6-4ef2851fe636"
      },
      "execution_count": 5,
      "outputs": [
        {
          "output_type": "display_data",
          "data": {
            "text/plain": [
              "<Figure size 576x288 with 4 Axes>"
            ],
            "image/png": "[encoded data removed]"
          },
          "metadata": {
            "needs_background": "light"
          }
        }
      ]
    },
    {
      "cell_type": "markdown",
      "source": [
        "#### **원-핫 인코딩**\n",
        "##### 문장을 2차원 텐서로 변경"
      ],
      "metadata": {
        "id": "Y942NAXGftDf"
      }
    },
    {
      "cell_type": "code",
      "source": [
        "# sample_mxlen : 한 문장안에 몇개의 토큰까지 허락\n",
        "# total_words : 딕셔너리 안에 있는 모든 단어 수\n",
        "def word_onehot(sample, sample_mxlen, total_words):\n",
        "  onehot = np.zeros((sample_mxlen, total_words+1)) # 단어인덱스 1~11, 파이썬 인덱스 0~11 총 12개 \n",
        "  for i, token in enumerate(sample.split(' ')):\n",
        "    if i == sample_mxlen: break # 샘플이 너무길면 자르기\n",
        "    index = word_dict[token] # 토큰이 몇번째 해당하는지 반환\n",
        "    onehot[i, index]=1 # i번째 토큰, index 해당하는 자리에 1을 할당\n",
        "  return onehot\n",
        "\n",
        "idx = 3\n",
        "print(samples[idx])\n",
        "print(word_indexing(samples[idx], word_dict))\n",
        "print(word_onehot(samples[idx], 5, len(word_dict)))"
      ],
      "metadata": {
        "colab": {
          "base_uri": "https://localhost:8080/"
        },
        "id": "wACFpF5oRsa_",
        "outputId": "daac397e-6cf4-457d-a587-013e02e09984"
      },
      "execution_count": 6,
      "outputs": [
        {
          "output_type": "stream",
          "name": "stdout",
          "text": [
            "wow it is a good movie\n",
            "[ 9  7  5 10 11  3]\n",
            "[[0. 0. 0. 0. 0. 0. 0. 0. 0. 1. 0. 0.]\n",
            " [0. 0. 0. 0. 0. 0. 0. 1. 0. 0. 0. 0.]\n",
            " [0. 0. 0. 0. 0. 1. 0. 0. 0. 0. 0. 0.]\n",
            " [0. 0. 0. 0. 0. 0. 0. 0. 0. 0. 1. 0.]\n",
            " [0. 0. 0. 0. 0. 0. 0. 0. 0. 0. 0. 1.]]\n"
          ]
        }
      ]
    },
    {
      "cell_type": "code",
      "source": [
        "plt.figure(figsize=(len(samples)*3, 4))\n",
        "for i, sample in enumerate(samples):\n",
        "  onehot = word_onehot(samples[i], 6, len(word_dict))\n",
        "  plt.subplot(1, len(samples), i+1)\n",
        "  sns.heatmap(onehot, cmap='gray', \n",
        "              annot=True, cbar=False,\n",
        "              yticklabels=sample.split(' '),\n",
        "              xticklabels=[])\n",
        "plt.show()"
      ],
      "metadata": {
        "colab": {
          "base_uri": "https://localhost:8080/",
          "height": 248
        },
        "id": "2mmiMZJOR33-",
        "outputId": "3e32052f-14d5-425d-f95a-8f04f91a13b7"
      },
      "execution_count": 8,
      "outputs": [
        {
          "output_type": "display_data",
          "data": {
            "text/plain": [
              "<Figure size 864x288 with 4 Axes>"
            ],
            "image/png": "[encoded data removed]"
          },
          "metadata": {
            "needs_background": "light"
          }
        }
      ]
    },
    {
      "cell_type": "code",
      "source": [
        "# sample_mxlen : 한 문장안에 몇개의 토큰까지 하락\n",
        "# total_words : 딕셔너리 안에 있는 모든 단어 수\n",
        "def word_onehot(sample, sample_mxlen, total_words):\n",
        "    onehot = np.zeros((sample_mxlen, total_words+1)) # 단어 인덱스 1 ~ 11, 파이썬 인덱스 0 ~ 11 총 12개\n",
        "    for i, token in enumerate(sample.split(' ')):\n",
        "        if i==sample_mxlen: break # 샘플이 너무길면 자르기\n",
        "        index = word_dict[token] # 토큰이 몇 번째 해당하는지 반환\n",
        "        onehot[i, index]=1 # i번째 토큰, index 해당하는 자리에 1 을 할당\n",
        "    return onehot\n",
        "\n",
        "idx = 3\n",
        "print(samples[idx])\n",
        "print(word_indexing(samples[idx], word_dict))\n",
        "samples[idx], word_onehot(samples[idx], 6, len(word_dict))"
      ],
      "metadata": {
        "id": "Xt4aVBN7g89I",
        "colab": {
          "base_uri": "https://localhost:8080/"
        },
        "outputId": "0bd2ea1c-8bc2-49a7-cc16-dc7bdedd08c4"
      },
      "execution_count": null,
      "outputs": [
        {
          "output_type": "stream",
          "name": "stdout",
          "text": [
            "wow it is a good movie\n",
            "[ 9  7  5 10 11  3]\n"
          ]
        },
        {
          "output_type": "execute_result",
          "data": {
            "text/plain": [
              "('wow it is a good movie',\n",
              " array([[0., 0., 0., 0., 0., 0., 0., 0., 0., 1., 0., 0.],\n",
              "        [0., 0., 0., 0., 0., 0., 0., 1., 0., 0., 0., 0.],\n",
              "        [0., 0., 0., 0., 0., 1., 0., 0., 0., 0., 0., 0.],\n",
              "        [0., 0., 0., 0., 0., 0., 0., 0., 0., 0., 1., 0.],\n",
              "        [0., 0., 0., 0., 0., 0., 0., 0., 0., 0., 0., 1.],\n",
              "        [0., 0., 0., 1., 0., 0., 0., 0., 0., 0., 0., 0.]]))"
            ]
          },
          "metadata": {},
          "execution_count": 29
        }
      ]
    },
    {
      "cell_type": "markdown",
      "source": [
        "### | **텐서플로우 케라스 Tokenizer**\n"
      ],
      "metadata": {
        "id": "LsZv-_kzeu_h"
      }
    },
    {
      "cell_type": "code",
      "source": [
        "from tensorflow.keras.preprocessing.text import Tokenizer\n",
        "tk = Tokenizer()\n",
        "tk.fit_on_texts(samples)"
      ],
      "metadata": {
        "id": "bK7TFAxghuyH"
      },
      "execution_count": 9,
      "outputs": []
    },
    {
      "cell_type": "code",
      "source": [
        "print('생성된 딕셔너리: ', tk.word_index)\n",
        "print('단어 카운트 :', tk.word_counts)\n",
        "print('단어 하나가 몇개의 문장에 포함되어 있는가', tk.word_docs)\n",
        "print('문장(샘플) 카운트: ', tk.document_count)"
      ],
      "metadata": {
        "id": "NOMD-mKyibr8",
        "colab": {
          "base_uri": "https://localhost:8080/"
        },
        "outputId": "bd595a04-9aef-4de1-f7dd-0645e71dc086"
      },
      "execution_count": 10,
      "outputs": [
        {
          "output_type": "stream",
          "name": "stdout",
          "text": [
            "생성된 딕셔너리:  {'movie': 1, 'is': 2, 'bad': 3, 'it': 4, 'very': 5, 'nice': 6, 'this': 7, 'so': 8, 'wow': 9, 'a': 10, 'good': 11}\n",
            "단어 카운트 : OrderedDict([('very', 1), ('nice', 1), ('movie', 3), ('this', 1), ('is', 3), ('bad', 2), ('it', 2), ('so', 1), ('wow', 1), ('a', 1), ('good', 1)])\n",
            "단어 하나가 몇개의 문장에 포함되어 있는가 defaultdict(<class 'int'>, {'movie': 3, 'very': 1, 'nice': 1, 'this': 1, 'bad': 2, 'is': 3, 'so': 1, 'it': 2, 'a': 1, 'good': 1, 'wow': 1})\n",
            "문장(샘플) 카운트:  4\n"
          ]
        }
      ]
    },
    {
      "cell_type": "markdown",
      "source": [
        "#### **단어 인덱싱**"
      ],
      "metadata": {
        "id": "K7A_XvdfhdT4"
      }
    },
    {
      "cell_type": "code",
      "source": [
        "seqs = tk.texts_to_sequences(samples)\n",
        "print('단어 인덱싱 결과', seqs)"
      ],
      "metadata": {
        "id": "PPZG6lkfid_-",
        "colab": {
          "base_uri": "https://localhost:8080/"
        },
        "outputId": "d5b218a1-4ed6-49d2-b619-9cd13a892f71"
      },
      "execution_count": 11,
      "outputs": [
        {
          "output_type": "stream",
          "name": "stdout",
          "text": [
            "단어 인덱싱 결과 [[5, 6, 1], [7, 1, 2, 3], [4, 2, 8, 3], [9, 4, 2, 10, 11, 1]]\n"
          ]
        }
      ]
    },
    {
      "cell_type": "code",
      "source": [
        "plt.figure(figsize=(len(samples)*2, 4))\n",
        "for i, sample in enumerate(samples):\n",
        "  indexed = np.array(seqs[i])\n",
        "  plt.subplot(1, len(samples), i+1)\n",
        "  sns.heatmap(indexed.reshape(len(indexed), 1), cmap='gray', \n",
        "              annot=True, cbar=False,\n",
        "              yticklabels=sample.split(' '),\n",
        "              xticklabels=[])\n",
        "plt.show()"
      ],
      "metadata": {
        "id": "rnk2iV_XhTfy",
        "colab": {
          "base_uri": "https://localhost:8080/",
          "height": 248
        },
        "outputId": "a0b143a5-3e06-4ce8-e20a-59ed0e934ff3"
      },
      "execution_count": 12,
      "outputs": [
        {
          "output_type": "display_data",
          "data": {
            "text/plain": [
              "<Figure size 576x288 with 4 Axes>"
            ],
            "image/png": "[encoded data removed]"
          },
          "metadata": {
            "needs_background": "light"
          }
        }
      ]
    },
    {
      "cell_type": "markdown",
      "source": [
        "#### **패딩**\n",
        "길이를 맞추어 줍니다."
      ],
      "metadata": {
        "id": "Qn-KEjZShneG"
      }
    },
    {
      "cell_type": "code",
      "source": [
        "from tensorflow.keras.preprocessing.sequence import pad_sequences\n",
        "\n",
        "pads = pad_sequences(seqs, 6)\n",
        "print('패딩 결과:\\n', pads, pads.shape)"
      ],
      "metadata": {
        "id": "U9ExtwrFitNX",
        "colab": {
          "base_uri": "https://localhost:8080/"
        },
        "outputId": "3d0c6d9c-9f2e-418c-b290-943dce4438ed"
      },
      "execution_count": 13,
      "outputs": [
        {
          "output_type": "stream",
          "name": "stdout",
          "text": [
            "패딩 결과:\n",
            " [[ 0  0  0  5  6  1]\n",
            " [ 0  0  7  1  2  3]\n",
            " [ 0  0  4  2  8  3]\n",
            " [ 9  4  2 10 11  1]] (4, 6)\n"
          ]
        }
      ]
    },
    {
      "cell_type": "code",
      "source": [
        "plt.figure(figsize=(len(samples)*2, 4))\n",
        "for i, sample in enumerate(samples):\n",
        "  plt.subplot(1, len(samples), i+1)\n",
        "  sns.heatmap(pads[i].reshape(len(indexed), 1), cmap='gray', \n",
        "              annot=True, cbar=False,\n",
        "              yticklabels=['']*(6-len(sample.split(' ')))+sample.split(' '),\n",
        "              xticklabels=[])\n",
        "plt.show()"
      ],
      "metadata": {
        "id": "1pnYg9XYhgri",
        "colab": {
          "base_uri": "https://localhost:8080/",
          "height": 248
        },
        "outputId": "27d12bd8-510f-4a42-bda6-a25270ffdcba"
      },
      "execution_count": 14,
      "outputs": [
        {
          "output_type": "display_data",
          "data": {
            "text/plain": [
              "<Figure size 576x288 with 4 Axes>"
            ],
            "image/png": "[encoded data removed]"
          },
          "metadata": {
            "needs_background": "light"
          }
        }
      ]
    },
    {
      "cell_type": "markdown",
      "source": [
        "#### **원핫 인코딩**"
      ],
      "metadata": {
        "id": "4dxENhJPhs_y"
      }
    },
    {
      "cell_type": "code",
      "source": [
        "len(word_dict)"
      ],
      "metadata": {
        "colab": {
          "base_uri": "https://localhost:8080/"
        },
        "id": "QZOVD-mMJXyO",
        "outputId": "feb78a7e-1c0c-4c3c-c79e-8fed440009ac"
      },
      "execution_count": 15,
      "outputs": [
        {
          "output_type": "execute_result",
          "data": {
            "text/plain": [
              "11"
            ]
          },
          "metadata": {},
          "execution_count": 15
        }
      ]
    },
    {
      "cell_type": "code",
      "source": [
        "# 인풋 시퀀스는 길이가 동일!\n",
        "onehots = utils.to_categorical(pads, num_classes=len(word_dict)+1) # 단어 개수 +1 해주기\n",
        "# +1 하는 이유는 단어가 없거나 / 딕셔너리에 존재하지 않는 단어는 첫번째 클래스에 할당\n",
        "print(pads.shape, onehots.shape)\n",
        "# 12는 num_classes"
      ],
      "metadata": {
        "id": "Cm1IFHXihxUZ",
        "colab": {
          "base_uri": "https://localhost:8080/"
        },
        "outputId": "91cbdb46-c376-474e-f9c3-446e6c987453"
      },
      "execution_count": 16,
      "outputs": [
        {
          "output_type": "stream",
          "name": "stdout",
          "text": [
            "(4, 6) (4, 6, 12)\n"
          ]
        }
      ]
    },
    {
      "cell_type": "code",
      "source": [
        "plt.figure(figsize=(len(samples)*3, 4))\n",
        "for i, sample in enumerate(samples):\n",
        "  plt.subplot(1, len(samples), i+1)\n",
        "  sns.heatmap(onehots[i], cmap='Blues', \n",
        "              annot=True, cbar=False,\n",
        "              yticklabels=['']*(6-len(sample.split(' ')))+sample.split(' '),\n",
        "              xticklabels=[])\n",
        "plt.show()"
      ],
      "metadata": {
        "id": "fP_5p5BGiV-4",
        "colab": {
          "base_uri": "https://localhost:8080/",
          "height": 248
        },
        "outputId": "70bdc68b-4046-4f7a-e052-33041c69d5d5"
      },
      "execution_count": 17,
      "outputs": [
        {
          "output_type": "display_data",
          "data": {
            "text/plain": [
              "<Figure size 864x288 with 4 Axes>"
            ],
            "image/png": "[encoded data removed]"
          },
          "metadata": {
            "needs_background": "light"
          }
        }
      ]
    },
    {
      "cell_type": "code",
      "source": [
        "# 원핫 인코딩 결과\n",
        "# 행 : 샘플 하나의 최대 길이\n",
        "# 열 : 단어 하나가 몇개의 dimension으로 표현될 수 있는가\n"
      ],
      "metadata": {
        "id": "L0nt69VYK6y_"
      },
      "execution_count": null,
      "outputs": []
    },
    {
      "cell_type": "markdown",
      "source": [
        "#### **단어 임베딩**"
      ],
      "metadata": {
        "id": "vynVTAfjkV1S"
      }
    },
    {
      "cell_type": "code",
      "source": [
        "# 단어 하나가 표현할 수 있는 dimension이 자유롭다. \n",
        "# 원핫 인코딩 처럼 단어 하나를 딕셔너리에 있는 단어 수의 크기만큼의 dimension으로 표현 하지 않아도 됩니다.\n",
        "# 1: word, 2: hello, 3: any\n",
        "# my   1 0 0 0\n",
        "# word 0 1 0 0"
      ],
      "metadata": {
        "id": "ubP0XtV2LNmW"
      },
      "execution_count": null,
      "outputs": []
    },
    {
      "cell_type": "code",
      "source": [
        "pads.shape"
      ],
      "metadata": {
        "colab": {
          "base_uri": "https://localhost:8080/"
        },
        "id": "hPLAaPYmMEze",
        "outputId": "c800a8d7-6aff-48e6-92b3-1fefbcae4a86"
      },
      "execution_count": 18,
      "outputs": [
        {
          "output_type": "execute_result",
          "data": {
            "text/plain": [
              "(4, 6)"
            ]
          },
          "metadata": {},
          "execution_count": 18
        }
      ]
    },
    {
      "cell_type": "code",
      "source": [
        "# 인풋 : 패딩된 sequence\n",
        "# 최대 길이 +1 하는 이유: 처음 시작 비워 놓기(0)\n",
        "# 모든 영어 단어 수가 11개 이고, +1 이므로 input이 12개\n",
        "embedding_layer = layers.Embedding(input_dim=12 , output_dim=3) # 원핫처리 후 임베딩"
      ],
      "metadata": {
        "id": "oivTrne7i4BA"
      },
      "execution_count": 51,
      "outputs": []
    },
    {
      "cell_type": "code",
      "source": [
        "embeded = embedding_layer(pads[0])\n",
        "embeded.shape\n",
        "# 학습이 필요한 레이어"
      ],
      "metadata": {
        "id": "UBEezkcbjSRq",
        "colab": {
          "base_uri": "https://localhost:8080/"
        },
        "outputId": "c4eca50b-dd54-47bd-d88c-4af0f9bcfe0c"
      },
      "execution_count": 49,
      "outputs": [
        {
          "output_type": "execute_result",
          "data": {
            "text/plain": [
              "TensorShape([6, 3])"
            ]
          },
          "metadata": {},
          "execution_count": 49
        }
      ]
    },
    {
      "cell_type": "code",
      "source": [
        "plt.figure(figsize=(len(samples)*3, 4))\n",
        "for i, sample in enumerate(samples):\n",
        "  embeded = embedding_layer(pads[0])\n",
        "  plt.subplot(1, len(samples), i+1)\n",
        "  sns.heatmap(embeded, cmap='Blues', \n",
        "              annot=True, cbar=False,\n",
        "              yticklabels=['']*(6-len(sample.split(' ')))+sample.split(' '),\n",
        "              xticklabels=[])\n",
        "plt.show()"
      ],
      "metadata": {
        "colab": {
          "base_uri": "https://localhost:8080/",
          "height": 248
        },
        "id": "yG7804lvM7cP",
        "outputId": "d4960cae-d036-410d-8dfa-3b54b3de559b"
      },
      "execution_count": 50,
      "outputs": [
        {
          "output_type": "display_data",
          "data": {
            "text/plain": [
              "<Figure size 864x288 with 4 Axes>"
            ],
            "image/png": "[encoded data removed]"
          },
          "metadata": {
            "needs_background": "light"
          }
        }
      ]
    },
    {
      "cell_type": "markdown",
      "source": [
        "## 간단 예제\n",
        "---"
      ],
      "metadata": {
        "id": "_qAvInrFdSXD"
      }
    },
    {
      "cell_type": "markdown",
      "source": [
        "### | **텍스트 전처리**"
      ],
      "metadata": {
        "id": "xweowVT7e2Kh"
      }
    },
    {
      "cell_type": "code",
      "source": [
        "docs = [\"너무 재미 있네요\",\n",
        "        \"최고 예요\",\n",
        "        \"참 잘 만든 영화 예요\",\n",
        "        \"추천 하고 싶은 영화 입니다\",\n",
        "        \"한번 더 보고 싶네요\",\n",
        "        \"글쎄 요\",\"별로 예요\",\"생각 보다 지루 하네요\",\n",
        "        \"연기 가 어색 해요\",\"재미 있어서 한번 더 볼거에요\", \"별로 재미 가 없어요\", \"재미 있고 잘 만든 영화 입니다\",\n",
        "        \"재미 가 별로 없어요\", \"별로 예요\"]\n",
        "classes = np.array([1,1,1,1,1,0,0,0,0,1,0,1,0,0]) # 긍정 1 부정 0\n",
        "print(len(docs), classes.shape)\n",
        "\n",
        "# 토큰\n",
        "token = Tokenizer()\n",
        "token.fit_on_texts(docs)\n",
        "print('딕셔너리: ', token.word_index)\n",
        "print('딕셔너리 총 단어 개수: ', len(token.word_index))\n",
        "\n",
        "# 인덱싱\n",
        "x = token.texts_to_sequences(docs)\n",
        "print(x)\n",
        "\n",
        "# 패딩\n",
        "x_pad = pad_sequences(x, 6) # 한 문자에 최대 몇 개의 단어 ( 최대 길이가 6개 )\n",
        "print('패딩 결과\\n:',x_pad, x_pad.shape)"
      ],
      "metadata": {
        "id": "pPV-RtzMu3F8",
        "colab": {
          "base_uri": "https://localhost:8080/"
        },
        "outputId": "e14fefdf-ecc1-48dd-a621-f1f43b67843f"
      },
      "execution_count": 31,
      "outputs": [
        {
          "output_type": "stream",
          "name": "stdout",
          "text": [
            "14 (14,)\n",
            "딕셔너리:  {'재미': 1, '예요': 2, '별로': 3, '영화': 4, '가': 5, '잘': 6, '만든': 7, '입니다': 8, '한번': 9, '더': 10, '없어요': 11, '너무': 12, '있네요': 13, '최고': 14, '참': 15, '추천': 16, '하고': 17, '싶은': 18, '보고': 19, '싶네요': 20, '글쎄': 21, '요': 22, '생각': 23, '보다': 24, '지루': 25, '하네요': 26, '연기': 27, '어색': 28, '해요': 29, '있어서': 30, '볼거에요': 31, '있고': 32}\n",
            "딕셔너리 총 단어 개수:  32\n",
            "[[12, 1, 13], [14, 2], [15, 6, 7, 4, 2], [16, 17, 18, 4, 8], [9, 10, 19, 20], [21, 22], [3, 2], [23, 24, 25, 26], [27, 5, 28, 29], [1, 30, 9, 10, 31], [3, 1, 5, 11], [1, 32, 6, 7, 4, 8], [1, 5, 3, 11], [3, 2]]\n",
            "패딩 결과\n",
            ": [[ 0  0  0 12  1 13]\n",
            " [ 0  0  0  0 14  2]\n",
            " [ 0 15  6  7  4  2]\n",
            " [ 0 16 17 18  4  8]\n",
            " [ 0  0  9 10 19 20]\n",
            " [ 0  0  0  0 21 22]\n",
            " [ 0  0  0  0  3  2]\n",
            " [ 0  0 23 24 25 26]\n",
            " [ 0  0 27  5 28 29]\n",
            " [ 0  1 30  9 10 31]\n",
            " [ 0  0  3  1  5 11]\n",
            " [ 1 32  6  7  4  8]\n",
            " [ 0  0  1  5  3 11]\n",
            " [ 0  0  0  0  3  2]] (14, 6)\n"
          ]
        }
      ]
    },
    {
      "cell_type": "markdown",
      "source": [
        "### | **모델 구현 및 학습**"
      ],
      "metadata": {
        "id": "eurAGRoOe4zR"
      }
    },
    {
      "cell_type": "markdown",
      "source": [
        "#### 단어 하나가 웟-핫인코딩 되면 크기 몇의 32+1차원의 벡터로 표현?\n",
        "##### -> 단어 갯수가 32개 이기 때문에, (32+1)(딕셔너리에 없는/비어있는 단어)"
      ],
      "metadata": {
        "id": "QRMjPfriVmy4"
      }
    },
    {
      "cell_type": "code",
      "source": [
        "def create_model():\n",
        "    x = layers.Input(shape=6)\n",
        "    y = layers.Embedding(33, 8)(x) # 원핫 처리할 때 몇개로 표현이 되느냐를 고민\n",
        "    y = layers.Flatten()(y)\n",
        "    y = layers.Dense(1, activation='sigmoid')(y) # 이진분류 \n",
        "    return models.Model(x,y)\n",
        "model=create_model()\n",
        "model.summary()"
      ],
      "metadata": {
        "id": "4YSxeeuaZpyd",
        "colab": {
          "base_uri": "https://localhost:8080/"
        },
        "outputId": "4b41ffba-640a-4d39-f18a-fffd40a3a0e2"
      },
      "execution_count": 36,
      "outputs": [
        {
          "output_type": "stream",
          "name": "stdout",
          "text": [
            "Model: \"model_3\"\n",
            "_________________________________________________________________\n",
            " Layer (type)                Output Shape              Param #   \n",
            "=================================================================\n",
            " input_5 (InputLayer)        [(None, 6)]               0         \n",
            "                                                                 \n",
            " embedding_5 (Embedding)     (None, 6, 8)              264       \n",
            "                                                                 \n",
            " flatten_2 (Flatten)         (None, 48)                0         \n",
            "                                                                 \n",
            " dense_1 (Dense)             (None, 1)                 49        \n",
            "                                                                 \n",
            "=================================================================\n",
            "Total params: 313\n",
            "Trainable params: 313\n",
            "Non-trainable params: 0\n",
            "_________________________________________________________________\n"
          ]
        }
      ]
    },
    {
      "cell_type": "code",
      "source": [
        "model.compile(optimizer='adam',\n",
        "              loss='binary_crossentropy',\n",
        "              metrics=['acc'])\n",
        "model.fit(x_pad, classes, epochs=20)"
      ],
      "metadata": {
        "id": "Q1uY45u5Zz4I",
        "colab": {
          "base_uri": "https://localhost:8080/"
        },
        "outputId": "9b657445-145d-48cf-c25d-28befae669ff"
      },
      "execution_count": 39,
      "outputs": [
        {
          "output_type": "stream",
          "name": "stdout",
          "text": [
            "Epoch 1/20\n",
            "1/1 [==============================] - 1s 681ms/step - loss: 0.5971 - acc: 0.9286\n",
            "Epoch 2/20\n",
            "1/1 [==============================] - 0s 8ms/step - loss: 0.5944 - acc: 0.9286\n",
            "Epoch 3/20\n",
            "1/1 [==============================] - 0s 8ms/step - loss: 0.5917 - acc: 0.9286\n",
            "Epoch 4/20\n",
            "1/1 [==============================] - 0s 7ms/step - loss: 0.5890 - acc: 0.9286\n",
            "Epoch 5/20\n",
            "1/1 [==============================] - 0s 7ms/step - loss: 0.5862 - acc: 0.9286\n",
            "Epoch 6/20\n",
            "1/1 [==============================] - 0s 8ms/step - loss: 0.5835 - acc: 0.9286\n",
            "Epoch 7/20\n",
            "1/1 [==============================] - 0s 10ms/step - loss: 0.5807 - acc: 0.9286\n",
            "Epoch 8/20\n",
            "1/1 [==============================] - 0s 9ms/step - loss: 0.5779 - acc: 0.9286\n",
            "Epoch 9/20\n",
            "1/1 [==============================] - 0s 9ms/step - loss: 0.5751 - acc: 0.9286\n",
            "Epoch 10/20\n",
            "1/1 [==============================] - 0s 8ms/step - loss: 0.5723 - acc: 0.9286\n",
            "Epoch 11/20\n",
            "1/1 [==============================] - 0s 9ms/step - loss: 0.5695 - acc: 0.9286\n",
            "Epoch 12/20\n",
            "1/1 [==============================] - 0s 9ms/step - loss: 0.5667 - acc: 0.9286\n",
            "Epoch 13/20\n",
            "1/1 [==============================] - 0s 8ms/step - loss: 0.5639 - acc: 0.9286\n",
            "Epoch 14/20\n",
            "1/1 [==============================] - 0s 9ms/step - loss: 0.5610 - acc: 0.9286\n",
            "Epoch 15/20\n",
            "1/1 [==============================] - 0s 28ms/step - loss: 0.5582 - acc: 0.9286\n",
            "Epoch 16/20\n",
            "1/1 [==============================] - 0s 6ms/step - loss: 0.5553 - acc: 0.9286\n",
            "Epoch 17/20\n",
            "1/1 [==============================] - 0s 6ms/step - loss: 0.5525 - acc: 0.9286\n",
            "Epoch 18/20\n",
            "1/1 [==============================] - 0s 6ms/step - loss: 0.5496 - acc: 0.9286\n",
            "Epoch 19/20\n",
            "1/1 [==============================] - 0s 5ms/step - loss: 0.5467 - acc: 0.9286\n",
            "Epoch 20/20\n",
            "1/1 [==============================] - 0s 5ms/step - loss: 0.5438 - acc: 0.9286\n"
          ]
        },
        {
          "output_type": "execute_result",
          "data": {
            "text/plain": [
              "<keras.callbacks.History at 0x7f26bcdf95d0>"
            ]
          },
          "metadata": {},
          "execution_count": 39
        }
      ]
    },
    {
      "cell_type": "markdown",
      "source": [
        "### **| 예측**"
      ],
      "metadata": {
        "id": "AJ-eNZ-Ge-xp"
      }
    },
    {
      "cell_type": "code",
      "source": [
        "# 0.5기준, 0이면 부정, 1이면 긍정\n",
        "preds = model.predict(x_pad)\n",
        "for i in range(len(preds)):\n",
        "    print(preds[i])"
      ],
      "metadata": {
        "id": "ZfSIV2RVu3Q1",
        "colab": {
          "base_uri": "https://localhost:8080/"
        },
        "outputId": "d6ee5324-f042-4818-ff02-ef37aff077ed"
      },
      "execution_count": 42,
      "outputs": [
        {
          "output_type": "stream",
          "name": "stdout",
          "text": [
            "[0.5305408]\n",
            "[0.4900122]\n",
            "[0.6075897]\n",
            "[0.6341308]\n",
            "[0.5473289]\n",
            "[0.40846577]\n",
            "[0.45123926]\n",
            "[0.3706982]\n",
            "[0.3793451]\n",
            "[0.62946963]\n",
            "[0.44474536]\n",
            "[0.6487885]\n",
            "[0.40553546]\n",
            "[0.45123926]\n"
          ]
        }
      ]
    },
    {
      "cell_type": "code",
      "source": [
        "preds = model.predict(x_pad)\n",
        "for i in range(len(preds)):\n",
        "    print(docs[i], np.round(preds[i][0]))"
      ],
      "metadata": {
        "colab": {
          "base_uri": "https://localhost:8080/"
        },
        "id": "bVoMRlnyXYmY",
        "outputId": "9749ae59-59dd-48ea-c773-7de35e9927fc"
      },
      "execution_count": 43,
      "outputs": [
        {
          "output_type": "stream",
          "name": "stdout",
          "text": [
            "너무 재미 있네요 1.0\n",
            "최고 예요 0.0\n",
            "참 잘 만든 영화 예요 1.0\n",
            "추천 하고 싶은 영화 입니다 1.0\n",
            "한번 더 보고 싶네요 1.0\n",
            "글쎄 요 0.0\n",
            "별로 예요 0.0\n",
            "생각 보다 지루 하네요 0.0\n",
            "연기 가 어색 해요 0.0\n",
            "재미 있어서 한번 더 볼거에요 1.0\n",
            "별로 재미 가 없어요 0.0\n",
            "재미 있고 잘 만든 영화 입니다 1.0\n",
            "재미 가 별로 없어요 0.0\n",
            "별로 예요 0.0\n"
          ]
        }
      ]
    },
    {
      "cell_type": "code",
      "source": [
        "docs_test = ['생각 보다 별로 에요', '재미 있는 영화 입니다.']\n",
        "# 인덱싱\n",
        "x_test = token.texts_to_sequences(docs_test)\n",
        "print(x_test)\n",
        "\n",
        "# 패딩\n",
        "x_test = pad_sequences(x_test, 6) # 한 문자에 최대 몇 개의 단어 ( 최대 길이가 6개 )\n",
        "print('패딩 결과\\n:',x_test, x_test.shape)"
      ],
      "metadata": {
        "id": "AMENFMmIcbiw",
        "colab": {
          "base_uri": "https://localhost:8080/"
        },
        "outputId": "4d6906b6-7701-4fcd-a975-b645327665e5"
      },
      "execution_count": 44,
      "outputs": [
        {
          "output_type": "stream",
          "name": "stdout",
          "text": [
            "[[23, 24, 3], [1, 4, 8]]\n",
            "패딩 결과\n",
            ": [[ 0  0  0 23 24  3]\n",
            " [ 0  0  0  1  4  8]] (2, 6)\n"
          ]
        }
      ]
    },
    {
      "cell_type": "code",
      "source": [
        "# 0.5기준, 0이면 부정, 1이면 긍정\n",
        "preds = model.predict(x_test)\n",
        "for i in range(len(preds)):\n",
        "    print(docs_test[i], np.round(preds[i][0]))"
      ],
      "metadata": {
        "colab": {
          "base_uri": "https://localhost:8080/"
        },
        "id": "y580pG7eYGiE",
        "outputId": "ffab19ed-3267-40fa-ec1a-ff06cd8e7d03"
      },
      "execution_count": 47,
      "outputs": [
        {
          "output_type": "stream",
          "name": "stdout",
          "text": [
            "생각 보다 별로 에요 0.0\n",
            "재미 있는 영화 입니다. 1.0\n"
          ]
        }
      ]
    },
    {
      "cell_type": "markdown",
      "source": [
        "# 6.1 Using Word Embeddings"
      ],
      "metadata": {
        "id": "wUtzfU7wenCB"
      }
    },
    {
      "cell_type": "code",
      "source": [
        "import keras\n",
        "keras.__version__"
      ],
      "metadata": {
        "colab": {
          "base_uri": "https://localhost:8080/",
          "height": 35
        },
        "id": "AfnpFqq_ex1_",
        "outputId": "191e165f-e9d8-4d22-dd33-2b82614e9199"
      },
      "execution_count": 52,
      "outputs": [
        {
          "output_type": "execute_result",
          "data": {
            "text/plain": [
              "'2.8.0'"
            ],
            "application/vnd.google.colaboratory.intrinsic+json": {
              "type": "string"
            }
          },
          "metadata": {},
          "execution_count": 52
        }
      ]
    },
    {
      "cell_type": "code",
      "source": [
        "from keras.layers import Embedding\n",
        "\n",
        "# Embedding 층은 적어도 두 개의 매개변수를 받습니다.\n",
        "# 가능한 토큰의 개수(여기서는 1,000으로 단어 인덱스 최댓값 +1 입니다)와 임베딩 차원(64) 입니다.\n",
        "embedding_layer = Embedding(1000, 64)"
      ],
      "metadata": {
        "id": "mjo-bTzOgbh4"
      },
      "execution_count": 53,
      "outputs": []
    },
    {
      "cell_type": "code",
      "source": [
        "from keras.datasets import imdb\n",
        "from keras import preprocessing\n",
        "\n",
        "# 특성으로 사용할 단어의 수\n",
        "max_features = 10000\n",
        "# 사용할 텍스트의 길이(가장 빈번한 max_features 개의 단어만 사용합니다.)\n",
        "maxlen = 20\n",
        "\n",
        "# 정수 리스트로 데이터를 로드합니다.\n",
        "(x_train, y_train), (x_test, y_test) = imdb.load_data(num_words=max_features)\n",
        "\n",
        "# 리스트를 (samples, maxlen) 크기의 2D 정수 텐서로 변환합니다.\n",
        "x_train = preprocessing.sequence.pad_sequences(x_train, maxlen=maxlen)\n",
        "x_test = preprocessing.sequence.pad_sequences(x_test, maxlen=maxlen)"
      ],
      "metadata": {
        "id": "mklkSJv0g6Uo"
      },
      "execution_count": 55,
      "outputs": []
    },
    {
      "cell_type": "code",
      "source": [
        "from keras.models import Sequential\n",
        "from keras.layers import Flatten, Dense, Embedding\n",
        "\n",
        "model = Sequential()\n",
        "# 나중에 임베딩된 입력을 Flatten 층에서 펼치기 위해 Embedding 층에 input_length를 지정합니다.\n",
        "model.add(Embedding(10000, 8, input_length=maxlen))\n",
        "# Embedding 층의 출력 크기는 (samples, maxlen, 8)이 됩니다.\n",
        "\n",
        "# 3D 임베딩 텐서를 (samples, maxlen*8) 크기의 2D 텐서로 펼칩니다.\n",
        "model.add(Flatten())\n",
        "\n",
        "# 분류기를 추가합니다.\n",
        "model.add(Dense(1, activation='sigmoid'))\n",
        "model.compile(optimizer='rmsprop', loss='binary_crossentropy', metrics=['acc'])\n",
        "model.summary()\n",
        "\n",
        "history = model.fit(x_train, y_train,\n",
        "                    epochs=300,\n",
        "                    batch_size=32,\n",
        "                    validation_split=0.2)"
      ],
      "metadata": {
        "colab": {
          "base_uri": "https://localhost:8080/"
        },
        "id": "JLfZerTJhyoI",
        "outputId": "75dcb79c-4560-49e6-cba7-3b949d64f4a4"
      },
      "execution_count": 58,
      "outputs": [
        {
          "output_type": "stream",
          "name": "stdout",
          "text": [
            "Model: \"sequential_2\"\n",
            "_________________________________________________________________\n",
            " Layer (type)                Output Shape              Param #   \n",
            "=================================================================\n",
            " embedding_11 (Embedding)    (None, 20, 8)             80000     \n",
            "                                                                 \n",
            " flatten_5 (Flatten)         (None, 160)               0         \n",
            "                                                                 \n",
            " dense_4 (Dense)             (None, 1)                 161       \n",
            "                                                                 \n",
            "=================================================================\n",
            "Total params: 80,161\n",
            "Trainable params: 80,161\n",
            "Non-trainable params: 0\n",
            "_________________________________________________________________\n",
            "Epoch 1/300\n",
            "625/625 [==============================] - 2s 3ms/step - loss: 0.6616 - acc: 0.6406 - val_loss: 0.6087 - val_acc: 0.6998\n",
            "Epoch 2/300\n",
            "625/625 [==============================] - 1s 2ms/step - loss: 0.5320 - acc: 0.7544 - val_loss: 0.5229 - val_acc: 0.7304\n",
            "Epoch 3/300\n",
            "625/625 [==============================] - 1s 2ms/step - loss: 0.4579 - acc: 0.7905 - val_loss: 0.5013 - val_acc: 0.7446\n",
            "Epoch 4/300\n",
            "625/625 [==============================] - 1s 2ms/step - loss: 0.4210 - acc: 0.8098 - val_loss: 0.4950 - val_acc: 0.7526\n",
            "Epoch 5/300\n",
            "625/625 [==============================] - 1s 2ms/step - loss: 0.3954 - acc: 0.8239 - val_loss: 0.4956 - val_acc: 0.7528\n",
            "Epoch 6/300\n",
            "625/625 [==============================] - 1s 2ms/step - loss: 0.3741 - acc: 0.8345 - val_loss: 0.5008 - val_acc: 0.7522\n",
            "Epoch 7/300\n",
            "625/625 [==============================] - 1s 2ms/step - loss: 0.3551 - acc: 0.8457 - val_loss: 0.5058 - val_acc: 0.7532\n",
            "Epoch 8/300\n",
            "625/625 [==============================] - 1s 2ms/step - loss: 0.3373 - acc: 0.8543 - val_loss: 0.5136 - val_acc: 0.7502\n",
            "Epoch 9/300\n",
            "625/625 [==============================] - 1s 2ms/step - loss: 0.3203 - acc: 0.8651 - val_loss: 0.5195 - val_acc: 0.7494\n",
            "Epoch 10/300\n",
            "625/625 [==============================] - 1s 2ms/step - loss: 0.3042 - acc: 0.8744 - val_loss: 0.5257 - val_acc: 0.7482\n",
            "Epoch 11/300\n",
            "625/625 [==============================] - 1s 2ms/step - loss: 0.2880 - acc: 0.8821 - val_loss: 0.5355 - val_acc: 0.7484\n",
            "Epoch 12/300\n",
            "625/625 [==============================] - 1s 2ms/step - loss: 0.2729 - acc: 0.8903 - val_loss: 0.5441 - val_acc: 0.7438\n",
            "Epoch 13/300\n",
            "625/625 [==============================] - 1s 2ms/step - loss: 0.2582 - acc: 0.8979 - val_loss: 0.5552 - val_acc: 0.7382\n",
            "Epoch 14/300\n",
            "625/625 [==============================] - 1s 2ms/step - loss: 0.2437 - acc: 0.9051 - val_loss: 0.5647 - val_acc: 0.7390\n",
            "Epoch 15/300\n",
            "625/625 [==============================] - 1s 2ms/step - loss: 0.2303 - acc: 0.9109 - val_loss: 0.5785 - val_acc: 0.7356\n",
            "Epoch 16/300\n",
            "625/625 [==============================] - 1s 2ms/step - loss: 0.2173 - acc: 0.9181 - val_loss: 0.5903 - val_acc: 0.7316\n",
            "Epoch 17/300\n",
            "625/625 [==============================] - 1s 2ms/step - loss: 0.2052 - acc: 0.9239 - val_loss: 0.6037 - val_acc: 0.7296\n",
            "Epoch 18/300\n",
            "625/625 [==============================] - 1s 2ms/step - loss: 0.1939 - acc: 0.9290 - val_loss: 0.6180 - val_acc: 0.7284\n",
            "Epoch 19/300\n",
            "625/625 [==============================] - 1s 2ms/step - loss: 0.1832 - acc: 0.9334 - val_loss: 0.6327 - val_acc: 0.7244\n",
            "Epoch 20/300\n",
            "625/625 [==============================] - 1s 2ms/step - loss: 0.1732 - acc: 0.9391 - val_loss: 0.6480 - val_acc: 0.7212\n",
            "Epoch 21/300\n",
            "625/625 [==============================] - 1s 2ms/step - loss: 0.1639 - acc: 0.9424 - val_loss: 0.6626 - val_acc: 0.7214\n",
            "Epoch 22/300\n",
            "625/625 [==============================] - 2s 2ms/step - loss: 0.1552 - acc: 0.9464 - val_loss: 0.6785 - val_acc: 0.7206\n",
            "Epoch 23/300\n",
            "625/625 [==============================] - 1s 2ms/step - loss: 0.1468 - acc: 0.9502 - val_loss: 0.6941 - val_acc: 0.7182\n",
            "Epoch 24/300\n",
            "625/625 [==============================] - 1s 2ms/step - loss: 0.1392 - acc: 0.9535 - val_loss: 0.7113 - val_acc: 0.7168\n",
            "Epoch 25/300\n",
            "625/625 [==============================] - 1s 2ms/step - loss: 0.1321 - acc: 0.9561 - val_loss: 0.7289 - val_acc: 0.7138\n",
            "Epoch 26/300\n",
            "625/625 [==============================] - 1s 2ms/step - loss: 0.1254 - acc: 0.9585 - val_loss: 0.7467 - val_acc: 0.7122\n",
            "Epoch 27/300\n",
            "625/625 [==============================] - 1s 2ms/step - loss: 0.1194 - acc: 0.9610 - val_loss: 0.7641 - val_acc: 0.7114\n",
            "Epoch 28/300\n",
            "625/625 [==============================] - 1s 2ms/step - loss: 0.1135 - acc: 0.9638 - val_loss: 0.7823 - val_acc: 0.7116\n",
            "Epoch 29/300\n",
            "625/625 [==============================] - 1s 2ms/step - loss: 0.1081 - acc: 0.9660 - val_loss: 0.8019 - val_acc: 0.7098\n",
            "Epoch 30/300\n",
            "625/625 [==============================] - 1s 2ms/step - loss: 0.1027 - acc: 0.9680 - val_loss: 0.8179 - val_acc: 0.7074\n",
            "Epoch 31/300\n",
            "625/625 [==============================] - 2s 3ms/step - loss: 0.0980 - acc: 0.9695 - val_loss: 0.8355 - val_acc: 0.7102\n",
            "Epoch 32/300\n",
            "625/625 [==============================] - 2s 3ms/step - loss: 0.0936 - acc: 0.9710 - val_loss: 0.8550 - val_acc: 0.7076\n",
            "Epoch 33/300\n",
            "625/625 [==============================] - 1s 2ms/step - loss: 0.0893 - acc: 0.9723 - val_loss: 0.8729 - val_acc: 0.7046\n",
            "Epoch 34/300\n",
            "625/625 [==============================] - 1s 2ms/step - loss: 0.0853 - acc: 0.9735 - val_loss: 0.8920 - val_acc: 0.7074\n",
            "Epoch 35/300\n",
            "625/625 [==============================] - 1s 2ms/step - loss: 0.0815 - acc: 0.9750 - val_loss: 0.9122 - val_acc: 0.7054\n",
            "Epoch 36/300\n",
            "625/625 [==============================] - 1s 2ms/step - loss: 0.0780 - acc: 0.9757 - val_loss: 0.9319 - val_acc: 0.7042\n",
            "Epoch 37/300\n",
            "625/625 [==============================] - 1s 2ms/step - loss: 0.0748 - acc: 0.9765 - val_loss: 0.9533 - val_acc: 0.7008\n",
            "Epoch 38/300\n",
            "625/625 [==============================] - 1s 2ms/step - loss: 0.0717 - acc: 0.9779 - val_loss: 0.9716 - val_acc: 0.7002\n",
            "Epoch 39/300\n",
            "625/625 [==============================] - 1s 2ms/step - loss: 0.0688 - acc: 0.9784 - val_loss: 0.9920 - val_acc: 0.6968\n",
            "Epoch 40/300\n",
            "625/625 [==============================] - 1s 2ms/step - loss: 0.0660 - acc: 0.9798 - val_loss: 1.0119 - val_acc: 0.6972\n",
            "Epoch 41/300\n",
            "625/625 [==============================] - 1s 2ms/step - loss: 0.0635 - acc: 0.9810 - val_loss: 1.0307 - val_acc: 0.6964\n",
            "Epoch 42/300\n",
            "625/625 [==============================] - 2s 3ms/step - loss: 0.0608 - acc: 0.9819 - val_loss: 1.0516 - val_acc: 0.6964\n",
            "Epoch 43/300\n",
            "625/625 [==============================] - 1s 2ms/step - loss: 0.0582 - acc: 0.9828 - val_loss: 1.0726 - val_acc: 0.6964\n",
            "Epoch 44/300\n",
            "625/625 [==============================] - 1s 2ms/step - loss: 0.0559 - acc: 0.9829 - val_loss: 1.0941 - val_acc: 0.6940\n",
            "Epoch 45/300\n",
            "625/625 [==============================] - 1s 2ms/step - loss: 0.0538 - acc: 0.9841 - val_loss: 1.1137 - val_acc: 0.6898\n",
            "Epoch 46/300\n",
            "625/625 [==============================] - 1s 2ms/step - loss: 0.0517 - acc: 0.9849 - val_loss: 1.1334 - val_acc: 0.6906\n",
            "Epoch 47/300\n",
            "625/625 [==============================] - 1s 2ms/step - loss: 0.0498 - acc: 0.9850 - val_loss: 1.1547 - val_acc: 0.6886\n",
            "Epoch 48/300\n",
            "625/625 [==============================] - 1s 2ms/step - loss: 0.0479 - acc: 0.9857 - val_loss: 1.1767 - val_acc: 0.6886\n",
            "Epoch 49/300\n",
            "625/625 [==============================] - 1s 2ms/step - loss: 0.0459 - acc: 0.9862 - val_loss: 1.1969 - val_acc: 0.6874\n",
            "Epoch 50/300\n",
            "625/625 [==============================] - 1s 2ms/step - loss: 0.0442 - acc: 0.9870 - val_loss: 1.2192 - val_acc: 0.6840\n",
            "Epoch 51/300\n",
            "625/625 [==============================] - 1s 2ms/step - loss: 0.0431 - acc: 0.9872 - val_loss: 1.2406 - val_acc: 0.6850\n",
            "Epoch 52/300\n",
            "625/625 [==============================] - 1s 2ms/step - loss: 0.0409 - acc: 0.9883 - val_loss: 1.2627 - val_acc: 0.6842\n",
            "Epoch 53/300\n",
            "625/625 [==============================] - 1s 2ms/step - loss: 0.0395 - acc: 0.9890 - val_loss: 1.2829 - val_acc: 0.6824\n",
            "Epoch 54/300\n",
            "625/625 [==============================] - 1s 2ms/step - loss: 0.0381 - acc: 0.9891 - val_loss: 1.3078 - val_acc: 0.6808\n",
            "Epoch 55/300\n",
            "625/625 [==============================] - 2s 3ms/step - loss: 0.0365 - acc: 0.9897 - val_loss: 1.3286 - val_acc: 0.6794\n",
            "Epoch 56/300\n",
            "625/625 [==============================] - 1s 2ms/step - loss: 0.0351 - acc: 0.9897 - val_loss: 1.3504 - val_acc: 0.6794\n",
            "Epoch 57/300\n",
            "625/625 [==============================] - 1s 2ms/step - loss: 0.0338 - acc: 0.9904 - val_loss: 1.3733 - val_acc: 0.6786\n",
            "Epoch 58/300\n",
            "625/625 [==============================] - 1s 2ms/step - loss: 0.0322 - acc: 0.9909 - val_loss: 1.3959 - val_acc: 0.6768\n",
            "Epoch 59/300\n",
            "625/625 [==============================] - 1s 2ms/step - loss: 0.0316 - acc: 0.9909 - val_loss: 1.4167 - val_acc: 0.6774\n",
            "Epoch 60/300\n",
            "625/625 [==============================] - 1s 2ms/step - loss: 0.0304 - acc: 0.9915 - val_loss: 1.4394 - val_acc: 0.6782\n",
            "Epoch 61/300\n",
            "625/625 [==============================] - 1s 2ms/step - loss: 0.0294 - acc: 0.9920 - val_loss: 1.4623 - val_acc: 0.6768\n",
            "Epoch 62/300\n",
            "625/625 [==============================] - 1s 2ms/step - loss: 0.0282 - acc: 0.9926 - val_loss: 1.4860 - val_acc: 0.6752\n",
            "Epoch 63/300\n",
            "625/625 [==============================] - 1s 2ms/step - loss: 0.0270 - acc: 0.9924 - val_loss: 1.5089 - val_acc: 0.6748\n",
            "Epoch 64/300\n",
            "625/625 [==============================] - 1s 2ms/step - loss: 0.0260 - acc: 0.9933 - val_loss: 1.5295 - val_acc: 0.6744\n",
            "Epoch 65/300\n",
            "625/625 [==============================] - 1s 2ms/step - loss: 0.0253 - acc: 0.9933 - val_loss: 1.5527 - val_acc: 0.6746\n",
            "Epoch 66/300\n",
            "625/625 [==============================] - 1s 2ms/step - loss: 0.0244 - acc: 0.9935 - val_loss: 1.5749 - val_acc: 0.6740\n",
            "Epoch 67/300\n",
            "625/625 [==============================] - 1s 2ms/step - loss: 0.0234 - acc: 0.9937 - val_loss: 1.5980 - val_acc: 0.6714\n",
            "Epoch 68/300\n",
            "625/625 [==============================] - 1s 2ms/step - loss: 0.0223 - acc: 0.9940 - val_loss: 1.6214 - val_acc: 0.6710\n",
            "Epoch 69/300\n",
            "625/625 [==============================] - 1s 2ms/step - loss: 0.0215 - acc: 0.9943 - val_loss: 1.6426 - val_acc: 0.6714\n",
            "Epoch 70/300\n",
            "625/625 [==============================] - 1s 2ms/step - loss: 0.0208 - acc: 0.9944 - val_loss: 1.6662 - val_acc: 0.6706\n",
            "Epoch 71/300\n",
            "625/625 [==============================] - 1s 2ms/step - loss: 0.0197 - acc: 0.9947 - val_loss: 1.6913 - val_acc: 0.6690\n",
            "Epoch 72/300\n",
            "625/625 [==============================] - 1s 2ms/step - loss: 0.0190 - acc: 0.9947 - val_loss: 1.7151 - val_acc: 0.6690\n",
            "Epoch 73/300\n",
            "625/625 [==============================] - 1s 2ms/step - loss: 0.0184 - acc: 0.9952 - val_loss: 1.7401 - val_acc: 0.6686\n",
            "Epoch 74/300\n",
            "625/625 [==============================] - 1s 2ms/step - loss: 0.0176 - acc: 0.9954 - val_loss: 1.7632 - val_acc: 0.6682\n",
            "Epoch 75/300\n",
            "625/625 [==============================] - 1s 2ms/step - loss: 0.0170 - acc: 0.9956 - val_loss: 1.7852 - val_acc: 0.6672\n",
            "Epoch 76/300\n",
            "625/625 [==============================] - 1s 2ms/step - loss: 0.0164 - acc: 0.9956 - val_loss: 1.8087 - val_acc: 0.6672\n",
            "Epoch 77/300\n",
            "625/625 [==============================] - 1s 2ms/step - loss: 0.0155 - acc: 0.9956 - val_loss: 1.8337 - val_acc: 0.6664\n",
            "Epoch 78/300\n",
            "625/625 [==============================] - 1s 2ms/step - loss: 0.0149 - acc: 0.9962 - val_loss: 1.8598 - val_acc: 0.6650\n",
            "Epoch 79/300\n",
            "625/625 [==============================] - 1s 2ms/step - loss: 0.0142 - acc: 0.9964 - val_loss: 1.8828 - val_acc: 0.6640\n",
            "Epoch 80/300\n",
            "625/625 [==============================] - 1s 2ms/step - loss: 0.0138 - acc: 0.9963 - val_loss: 1.9072 - val_acc: 0.6628\n",
            "Epoch 81/300\n",
            "625/625 [==============================] - 1s 2ms/step - loss: 0.0133 - acc: 0.9965 - val_loss: 1.9314 - val_acc: 0.6642\n",
            "Epoch 82/300\n",
            "625/625 [==============================] - 1s 2ms/step - loss: 0.0127 - acc: 0.9967 - val_loss: 1.9550 - val_acc: 0.6620\n",
            "Epoch 83/300\n",
            "625/625 [==============================] - 1s 2ms/step - loss: 0.0120 - acc: 0.9967 - val_loss: 1.9804 - val_acc: 0.6608\n",
            "Epoch 84/300\n",
            "625/625 [==============================] - 1s 2ms/step - loss: 0.0117 - acc: 0.9969 - val_loss: 2.0038 - val_acc: 0.6620\n",
            "Epoch 85/300\n",
            "625/625 [==============================] - 1s 2ms/step - loss: 0.0112 - acc: 0.9969 - val_loss: 2.0292 - val_acc: 0.6624\n",
            "Epoch 86/300\n",
            "625/625 [==============================] - 1s 2ms/step - loss: 0.0108 - acc: 0.9970 - val_loss: 2.0570 - val_acc: 0.6602\n",
            "Epoch 87/300\n",
            "625/625 [==============================] - 1s 2ms/step - loss: 0.0103 - acc: 0.9971 - val_loss: 2.0853 - val_acc: 0.6610\n",
            "Epoch 88/300\n",
            "625/625 [==============================] - 1s 2ms/step - loss: 0.0098 - acc: 0.9972 - val_loss: 2.1107 - val_acc: 0.6594\n",
            "Epoch 89/300\n",
            "625/625 [==============================] - 1s 2ms/step - loss: 0.0095 - acc: 0.9973 - val_loss: 2.1355 - val_acc: 0.6580\n",
            "Epoch 90/300\n",
            "625/625 [==============================] - 1s 2ms/step - loss: 0.0088 - acc: 0.9977 - val_loss: 2.1603 - val_acc: 0.6596\n",
            "Epoch 91/300\n",
            "625/625 [==============================] - 1s 2ms/step - loss: 0.0087 - acc: 0.9976 - val_loss: 2.1841 - val_acc: 0.6598\n",
            "Epoch 92/300\n",
            "625/625 [==============================] - 1s 2ms/step - loss: 0.0082 - acc: 0.9977 - val_loss: 2.2104 - val_acc: 0.6612\n",
            "Epoch 93/300\n",
            "625/625 [==============================] - 1s 2ms/step - loss: 0.0079 - acc: 0.9979 - val_loss: 2.2366 - val_acc: 0.6590\n",
            "Epoch 94/300\n",
            "625/625 [==============================] - 1s 2ms/step - loss: 0.0074 - acc: 0.9977 - val_loss: 2.2609 - val_acc: 0.6572\n",
            "Epoch 95/300\n",
            "625/625 [==============================] - 1s 2ms/step - loss: 0.0072 - acc: 0.9980 - val_loss: 2.2881 - val_acc: 0.6584\n",
            "Epoch 96/300\n",
            "625/625 [==============================] - 1s 2ms/step - loss: 0.0067 - acc: 0.9980 - val_loss: 2.3112 - val_acc: 0.6584\n",
            "Epoch 97/300\n",
            "625/625 [==============================] - 1s 2ms/step - loss: 0.0064 - acc: 0.9982 - val_loss: 2.3371 - val_acc: 0.6588\n",
            "Epoch 98/300\n",
            "625/625 [==============================] - 1s 2ms/step - loss: 0.0061 - acc: 0.9983 - val_loss: 2.3627 - val_acc: 0.6578\n",
            "Epoch 99/300\n",
            "625/625 [==============================] - 1s 2ms/step - loss: 0.0060 - acc: 0.9984 - val_loss: 2.3896 - val_acc: 0.6568\n",
            "Epoch 100/300\n",
            "625/625 [==============================] - 1s 2ms/step - loss: 0.0055 - acc: 0.9985 - val_loss: 2.4141 - val_acc: 0.6564\n",
            "Epoch 101/300\n",
            "625/625 [==============================] - 1s 2ms/step - loss: 0.0053 - acc: 0.9987 - val_loss: 2.4392 - val_acc: 0.6566\n",
            "Epoch 102/300\n",
            "625/625 [==============================] - 1s 2ms/step - loss: 0.0049 - acc: 0.9986 - val_loss: 2.4646 - val_acc: 0.6574\n",
            "Epoch 103/300\n",
            "625/625 [==============================] - 1s 2ms/step - loss: 0.0048 - acc: 0.9987 - val_loss: 2.4888 - val_acc: 0.6572\n",
            "Epoch 104/300\n",
            "625/625 [==============================] - 1s 2ms/step - loss: 0.0046 - acc: 0.9988 - val_loss: 2.5135 - val_acc: 0.6554\n",
            "Epoch 105/300\n",
            "625/625 [==============================] - 1s 2ms/step - loss: 0.0043 - acc: 0.9988 - val_loss: 2.5387 - val_acc: 0.6560\n",
            "Epoch 106/300\n",
            "625/625 [==============================] - 1s 2ms/step - loss: 0.0041 - acc: 0.9990 - val_loss: 2.5649 - val_acc: 0.6552\n",
            "Epoch 107/300\n",
            "625/625 [==============================] - 1s 2ms/step - loss: 0.0040 - acc: 0.9988 - val_loss: 2.5923 - val_acc: 0.6552\n",
            "Epoch 108/300\n",
            "625/625 [==============================] - 1s 2ms/step - loss: 0.0037 - acc: 0.9990 - val_loss: 2.6142 - val_acc: 0.6554\n",
            "Epoch 109/300\n",
            "625/625 [==============================] - 1s 2ms/step - loss: 0.0035 - acc: 0.9991 - val_loss: 2.6386 - val_acc: 0.6540\n",
            "Epoch 110/300\n",
            "625/625 [==============================] - 1s 2ms/step - loss: 0.0033 - acc: 0.9991 - val_loss: 2.6695 - val_acc: 0.6536\n",
            "Epoch 111/300\n",
            "625/625 [==============================] - 1s 2ms/step - loss: 0.0032 - acc: 0.9991 - val_loss: 2.6981 - val_acc: 0.6542\n",
            "Epoch 112/300\n",
            "625/625 [==============================] - 1s 2ms/step - loss: 0.0029 - acc: 0.9991 - val_loss: 2.7232 - val_acc: 0.6526\n",
            "Epoch 113/300\n",
            "625/625 [==============================] - 1s 2ms/step - loss: 0.0028 - acc: 0.9991 - val_loss: 2.7514 - val_acc: 0.6542\n",
            "Epoch 114/300\n",
            "625/625 [==============================] - 1s 2ms/step - loss: 0.0025 - acc: 0.9993 - val_loss: 2.7737 - val_acc: 0.6542\n",
            "Epoch 115/300\n",
            "625/625 [==============================] - 1s 2ms/step - loss: 0.0025 - acc: 0.9991 - val_loss: 2.7992 - val_acc: 0.6548\n",
            "Epoch 116/300\n",
            "625/625 [==============================] - 1s 2ms/step - loss: 0.0024 - acc: 0.9992 - val_loss: 2.8278 - val_acc: 0.6536\n",
            "Epoch 117/300\n",
            "625/625 [==============================] - 1s 2ms/step - loss: 0.0022 - acc: 0.9993 - val_loss: 2.8538 - val_acc: 0.6536\n",
            "Epoch 118/300\n",
            "625/625 [==============================] - 1s 2ms/step - loss: 0.0022 - acc: 0.9992 - val_loss: 2.8795 - val_acc: 0.6538\n",
            "Epoch 119/300\n",
            "625/625 [==============================] - 1s 2ms/step - loss: 0.0021 - acc: 0.9994 - val_loss: 2.9042 - val_acc: 0.6524\n",
            "Epoch 120/300\n",
            "625/625 [==============================] - 1s 2ms/step - loss: 0.0020 - acc: 0.9994 - val_loss: 2.9329 - val_acc: 0.6520\n",
            "Epoch 121/300\n",
            "625/625 [==============================] - 1s 2ms/step - loss: 0.0020 - acc: 0.9995 - val_loss: 2.9593 - val_acc: 0.6520\n",
            "Epoch 122/300\n",
            "625/625 [==============================] - 1s 2ms/step - loss: 0.0019 - acc: 0.9995 - val_loss: 2.9831 - val_acc: 0.6528\n",
            "Epoch 123/300\n",
            "625/625 [==============================] - 1s 2ms/step - loss: 0.0018 - acc: 0.9995 - val_loss: 3.0111 - val_acc: 0.6510\n",
            "Epoch 124/300\n",
            "625/625 [==============================] - 1s 2ms/step - loss: 0.0016 - acc: 0.9996 - val_loss: 3.0365 - val_acc: 0.6522\n",
            "Epoch 125/300\n",
            "625/625 [==============================] - 1s 2ms/step - loss: 0.0016 - acc: 0.9996 - val_loss: 3.0635 - val_acc: 0.6510\n",
            "Epoch 126/300\n",
            "625/625 [==============================] - 1s 2ms/step - loss: 0.0014 - acc: 0.9997 - val_loss: 3.0905 - val_acc: 0.6498\n",
            "Epoch 127/300\n",
            "625/625 [==============================] - 1s 2ms/step - loss: 0.0015 - acc: 0.9996 - val_loss: 3.1143 - val_acc: 0.6496\n",
            "Epoch 128/300\n",
            "625/625 [==============================] - 1s 2ms/step - loss: 0.0013 - acc: 0.9997 - val_loss: 3.1440 - val_acc: 0.6492\n",
            "Epoch 129/300\n",
            "625/625 [==============================] - 1s 2ms/step - loss: 0.0014 - acc: 0.9997 - val_loss: 3.1644 - val_acc: 0.6502\n",
            "Epoch 130/300\n",
            "625/625 [==============================] - 1s 2ms/step - loss: 0.0013 - acc: 0.9997 - val_loss: 3.1887 - val_acc: 0.6504\n",
            "Epoch 131/300\n",
            "625/625 [==============================] - 1s 2ms/step - loss: 0.0012 - acc: 0.9997 - val_loss: 3.2137 - val_acc: 0.6496\n",
            "Epoch 132/300\n",
            "625/625 [==============================] - 1s 2ms/step - loss: 0.0013 - acc: 0.9998 - val_loss: 3.2393 - val_acc: 0.6498\n",
            "Epoch 133/300\n",
            "625/625 [==============================] - 1s 2ms/step - loss: 0.0012 - acc: 0.9998 - val_loss: 3.2665 - val_acc: 0.6488\n",
            "Epoch 134/300\n",
            "625/625 [==============================] - 1s 2ms/step - loss: 0.0011 - acc: 0.9997 - val_loss: 3.2943 - val_acc: 0.6474\n",
            "Epoch 135/300\n",
            "625/625 [==============================] - 1s 2ms/step - loss: 9.7057e-04 - acc: 0.9998 - val_loss: 3.3155 - val_acc: 0.6492\n",
            "Epoch 136/300\n",
            "625/625 [==============================] - 1s 2ms/step - loss: 9.6355e-04 - acc: 0.9998 - val_loss: 3.3416 - val_acc: 0.6496\n",
            "Epoch 137/300\n",
            "625/625 [==============================] - 1s 2ms/step - loss: 9.6489e-04 - acc: 0.9998 - val_loss: 3.3675 - val_acc: 0.6484\n",
            "Epoch 138/300\n",
            "625/625 [==============================] - 1s 2ms/step - loss: 8.6878e-04 - acc: 0.9998 - val_loss: 3.3925 - val_acc: 0.6494\n",
            "Epoch 139/300\n",
            "625/625 [==============================] - 1s 2ms/step - loss: 9.4688e-04 - acc: 0.9998 - val_loss: 3.4129 - val_acc: 0.6474\n",
            "Epoch 140/300\n",
            "625/625 [==============================] - 1s 2ms/step - loss: 7.8638e-04 - acc: 0.9998 - val_loss: 3.4329 - val_acc: 0.6474\n",
            "Epoch 141/300\n",
            "625/625 [==============================] - 1s 2ms/step - loss: 8.4898e-04 - acc: 0.9998 - val_loss: 3.4574 - val_acc: 0.6466\n",
            "Epoch 142/300\n",
            "625/625 [==============================] - 1s 2ms/step - loss: 7.3491e-04 - acc: 0.9998 - val_loss: 3.4793 - val_acc: 0.6466\n",
            "Epoch 143/300\n",
            "625/625 [==============================] - 1s 2ms/step - loss: 8.0635e-04 - acc: 0.9998 - val_loss: 3.5017 - val_acc: 0.6462\n",
            "Epoch 144/300\n",
            "625/625 [==============================] - 1s 2ms/step - loss: 7.2739e-04 - acc: 0.9998 - val_loss: 3.5196 - val_acc: 0.6480\n",
            "Epoch 145/300\n",
            "625/625 [==============================] - 1s 2ms/step - loss: 6.1028e-04 - acc: 0.9998 - val_loss: 3.5442 - val_acc: 0.6470\n",
            "Epoch 146/300\n",
            "625/625 [==============================] - 1s 2ms/step - loss: 6.4009e-04 - acc: 0.9998 - val_loss: 3.5646 - val_acc: 0.6468\n",
            "Epoch 147/300\n",
            "625/625 [==============================] - 1s 2ms/step - loss: 5.7469e-04 - acc: 0.9998 - val_loss: 3.5890 - val_acc: 0.6470\n",
            "Epoch 148/300\n",
            "625/625 [==============================] - 1s 2ms/step - loss: 5.1772e-04 - acc: 0.9998 - val_loss: 3.6120 - val_acc: 0.6452\n",
            "Epoch 149/300\n",
            "625/625 [==============================] - 2s 3ms/step - loss: 4.8645e-04 - acc: 0.9998 - val_loss: 3.6338 - val_acc: 0.6446\n",
            "Epoch 150/300\n",
            "625/625 [==============================] - 2s 3ms/step - loss: 5.9070e-04 - acc: 0.9998 - val_loss: 3.6541 - val_acc: 0.6454\n",
            "Epoch 151/300\n",
            "625/625 [==============================] - 1s 2ms/step - loss: 5.1849e-04 - acc: 0.9998 - val_loss: 3.6793 - val_acc: 0.6426\n",
            "Epoch 152/300\n",
            "625/625 [==============================] - 1s 2ms/step - loss: 4.6741e-04 - acc: 0.9998 - val_loss: 3.7028 - val_acc: 0.6430\n",
            "Epoch 153/300\n",
            "625/625 [==============================] - 1s 2ms/step - loss: 4.7173e-04 - acc: 0.9998 - val_loss: 3.7217 - val_acc: 0.6432\n",
            "Epoch 154/300\n",
            "625/625 [==============================] - 1s 2ms/step - loss: 5.0179e-04 - acc: 0.9998 - val_loss: 3.7426 - val_acc: 0.6426\n",
            "Epoch 155/300\n",
            "625/625 [==============================] - 1s 2ms/step - loss: 4.6886e-04 - acc: 0.9998 - val_loss: 3.7645 - val_acc: 0.6440\n",
            "Epoch 156/300\n",
            "625/625 [==============================] - 1s 2ms/step - loss: 4.4497e-04 - acc: 0.9999 - val_loss: 3.7867 - val_acc: 0.6456\n",
            "Epoch 157/300\n",
            "625/625 [==============================] - 1s 2ms/step - loss: 3.9976e-04 - acc: 0.9998 - val_loss: 3.8080 - val_acc: 0.6464\n",
            "Epoch 158/300\n",
            "625/625 [==============================] - 1s 2ms/step - loss: 3.5707e-04 - acc: 0.9999 - val_loss: 3.8306 - val_acc: 0.6448\n",
            "Epoch 159/300\n",
            "625/625 [==============================] - 1s 2ms/step - loss: 4.1013e-04 - acc: 0.9999 - val_loss: 3.8513 - val_acc: 0.6456\n",
            "Epoch 160/300\n",
            "625/625 [==============================] - 1s 2ms/step - loss: 3.1093e-04 - acc: 0.9999 - val_loss: 3.8719 - val_acc: 0.6450\n",
            "Epoch 161/300\n",
            "625/625 [==============================] - 1s 2ms/step - loss: 3.3527e-04 - acc: 0.9999 - val_loss: 3.8920 - val_acc: 0.6460\n",
            "Epoch 162/300\n",
            "625/625 [==============================] - 1s 2ms/step - loss: 2.8446e-04 - acc: 0.9999 - val_loss: 3.9091 - val_acc: 0.6462\n",
            "Epoch 163/300\n",
            "625/625 [==============================] - 1s 2ms/step - loss: 4.2706e-04 - acc: 0.9999 - val_loss: 3.9330 - val_acc: 0.6462\n",
            "Epoch 164/300\n",
            "625/625 [==============================] - 1s 2ms/step - loss: 3.7002e-04 - acc: 0.9999 - val_loss: 3.9532 - val_acc: 0.6470\n",
            "Epoch 165/300\n",
            "625/625 [==============================] - 1s 2ms/step - loss: 3.3112e-04 - acc: 0.9999 - val_loss: 3.9704 - val_acc: 0.6466\n",
            "Epoch 166/300\n",
            "625/625 [==============================] - 1s 2ms/step - loss: 3.2774e-04 - acc: 0.9999 - val_loss: 3.9903 - val_acc: 0.6472\n",
            "Epoch 167/300\n",
            "625/625 [==============================] - 1s 2ms/step - loss: 3.4430e-04 - acc: 0.9999 - val_loss: 4.0103 - val_acc: 0.6472\n",
            "Epoch 168/300\n",
            "625/625 [==============================] - 1s 2ms/step - loss: 3.3307e-04 - acc: 0.9999 - val_loss: 4.0285 - val_acc: 0.6476\n",
            "Epoch 169/300\n",
            "625/625 [==============================] - 1s 2ms/step - loss: 3.5815e-04 - acc: 0.9999 - val_loss: 4.0493 - val_acc: 0.6466\n",
            "Epoch 170/300\n",
            "625/625 [==============================] - 1s 2ms/step - loss: 3.4938e-04 - acc: 0.9999 - val_loss: 4.0677 - val_acc: 0.6468\n",
            "Epoch 171/300\n",
            "625/625 [==============================] - 1s 2ms/step - loss: 2.9617e-04 - acc: 0.9999 - val_loss: 4.0875 - val_acc: 0.6472\n",
            "Epoch 172/300\n",
            "625/625 [==============================] - 1s 2ms/step - loss: 3.7353e-04 - acc: 0.9999 - val_loss: 4.1091 - val_acc: 0.6470\n",
            "Epoch 173/300\n",
            "625/625 [==============================] - 1s 2ms/step - loss: 2.8026e-04 - acc: 0.9999 - val_loss: 4.1223 - val_acc: 0.6476\n",
            "Epoch 174/300\n",
            "625/625 [==============================] - 1s 2ms/step - loss: 2.1127e-04 - acc: 0.9999 - val_loss: 4.1405 - val_acc: 0.6472\n",
            "Epoch 175/300\n",
            "625/625 [==============================] - 1s 2ms/step - loss: 3.0641e-04 - acc: 0.9999 - val_loss: 4.1574 - val_acc: 0.6476\n",
            "Epoch 176/300\n",
            "625/625 [==============================] - 1s 2ms/step - loss: 2.1829e-04 - acc: 0.9999 - val_loss: 4.1737 - val_acc: 0.6484\n",
            "Epoch 177/300\n",
            "625/625 [==============================] - 1s 2ms/step - loss: 2.1936e-04 - acc: 0.9999 - val_loss: 4.1987 - val_acc: 0.6480\n",
            "Epoch 178/300\n",
            "625/625 [==============================] - 1s 2ms/step - loss: 2.3984e-04 - acc: 0.9999 - val_loss: 4.2159 - val_acc: 0.6484\n",
            "Epoch 179/300\n",
            "625/625 [==============================] - 1s 2ms/step - loss: 2.3779e-04 - acc: 0.9999 - val_loss: 4.2348 - val_acc: 0.6486\n",
            "Epoch 180/300\n",
            "625/625 [==============================] - 1s 2ms/step - loss: 2.4805e-04 - acc: 0.9999 - val_loss: 4.2480 - val_acc: 0.6494\n",
            "Epoch 181/300\n",
            "625/625 [==============================] - 1s 2ms/step - loss: 2.2794e-04 - acc: 0.9999 - val_loss: 4.2709 - val_acc: 0.6502\n",
            "Epoch 182/300\n",
            "625/625 [==============================] - 1s 2ms/step - loss: 1.8012e-04 - acc: 0.9999 - val_loss: 4.2862 - val_acc: 0.6500\n",
            "Epoch 183/300\n",
            "625/625 [==============================] - 1s 2ms/step - loss: 2.7437e-04 - acc: 0.9999 - val_loss: 4.2999 - val_acc: 0.6508\n",
            "Epoch 184/300\n",
            "625/625 [==============================] - 1s 2ms/step - loss: 2.6930e-04 - acc: 0.9999 - val_loss: 4.3137 - val_acc: 0.6504\n",
            "Epoch 185/300\n",
            "625/625 [==============================] - 1s 2ms/step - loss: 1.8239e-04 - acc: 0.9999 - val_loss: 4.3324 - val_acc: 0.6502\n",
            "Epoch 186/300\n",
            "625/625 [==============================] - 1s 2ms/step - loss: 2.4663e-04 - acc: 0.9999 - val_loss: 4.3514 - val_acc: 0.6500\n",
            "Epoch 187/300\n",
            "625/625 [==============================] - 1s 2ms/step - loss: 2.2481e-04 - acc: 0.9999 - val_loss: 4.3754 - val_acc: 0.6502\n",
            "Epoch 188/300\n",
            "625/625 [==============================] - 1s 2ms/step - loss: 2.2810e-04 - acc: 0.9999 - val_loss: 4.3888 - val_acc: 0.6510\n",
            "Epoch 189/300\n",
            "625/625 [==============================] - 1s 2ms/step - loss: 1.5680e-04 - acc: 0.9999 - val_loss: 4.3991 - val_acc: 0.6522\n",
            "Epoch 190/300\n",
            "625/625 [==============================] - 1s 2ms/step - loss: 1.6226e-04 - acc: 0.9999 - val_loss: 4.4119 - val_acc: 0.6522\n",
            "Epoch 191/300\n",
            "625/625 [==============================] - 1s 2ms/step - loss: 1.7043e-04 - acc: 0.9999 - val_loss: 4.4319 - val_acc: 0.6524\n",
            "Epoch 192/300\n",
            "625/625 [==============================] - 1s 2ms/step - loss: 1.2317e-04 - acc: 0.9999 - val_loss: 4.4401 - val_acc: 0.6528\n",
            "Epoch 193/300\n",
            "625/625 [==============================] - 1s 2ms/step - loss: 1.7467e-04 - acc: 0.9999 - val_loss: 4.4602 - val_acc: 0.6534\n",
            "Epoch 194/300\n",
            "625/625 [==============================] - 1s 2ms/step - loss: 1.7290e-04 - acc: 0.9999 - val_loss: 4.4724 - val_acc: 0.6542\n",
            "Epoch 195/300\n",
            "625/625 [==============================] - 1s 2ms/step - loss: 1.3894e-04 - acc: 0.9999 - val_loss: 4.4874 - val_acc: 0.6538\n",
            "Epoch 196/300\n",
            "625/625 [==============================] - 1s 2ms/step - loss: 1.8754e-04 - acc: 0.9999 - val_loss: 4.5068 - val_acc: 0.6538\n",
            "Epoch 197/300\n",
            "625/625 [==============================] - 1s 2ms/step - loss: 1.9008e-04 - acc: 0.9999 - val_loss: 4.5166 - val_acc: 0.6544\n",
            "Epoch 198/300\n",
            "625/625 [==============================] - 1s 2ms/step - loss: 1.3941e-04 - acc: 0.9999 - val_loss: 4.5315 - val_acc: 0.6546\n",
            "Epoch 199/300\n",
            "625/625 [==============================] - 1s 2ms/step - loss: 2.0143e-04 - acc: 0.9999 - val_loss: 4.5464 - val_acc: 0.6538\n",
            "Epoch 200/300\n",
            "625/625 [==============================] - 1s 2ms/step - loss: 2.0281e-04 - acc: 0.9999 - val_loss: 4.5554 - val_acc: 0.6536\n",
            "Epoch 201/300\n",
            "625/625 [==============================] - 1s 2ms/step - loss: 1.5134e-04 - acc: 0.9999 - val_loss: 4.5667 - val_acc: 0.6532\n",
            "Epoch 202/300\n",
            "625/625 [==============================] - 1s 2ms/step - loss: 2.0791e-04 - acc: 0.9999 - val_loss: 4.5769 - val_acc: 0.6544\n",
            "Epoch 203/300\n",
            "625/625 [==============================] - 1s 2ms/step - loss: 2.0345e-04 - acc: 0.9999 - val_loss: 4.5845 - val_acc: 0.6550\n",
            "Epoch 204/300\n",
            "625/625 [==============================] - 1s 2ms/step - loss: 2.1047e-04 - acc: 0.9999 - val_loss: 4.5949 - val_acc: 0.6546\n",
            "Epoch 205/300\n",
            "625/625 [==============================] - 1s 2ms/step - loss: 1.5139e-04 - acc: 0.9999 - val_loss: 4.6053 - val_acc: 0.6536\n",
            "Epoch 206/300\n",
            "625/625 [==============================] - 1s 2ms/step - loss: 1.4589e-04 - acc: 0.9999 - val_loss: 4.6220 - val_acc: 0.6544\n",
            "Epoch 207/300\n",
            "625/625 [==============================] - 1s 2ms/step - loss: 1.4383e-04 - acc: 0.9999 - val_loss: 4.6268 - val_acc: 0.6544\n",
            "Epoch 208/300\n",
            "625/625 [==============================] - 1s 2ms/step - loss: 2.0378e-04 - acc: 0.9999 - val_loss: 4.6399 - val_acc: 0.6556\n",
            "Epoch 209/300\n",
            "625/625 [==============================] - 1s 2ms/step - loss: 1.4026e-04 - acc: 0.9999 - val_loss: 4.6510 - val_acc: 0.6558\n",
            "Epoch 210/300\n",
            "625/625 [==============================] - 1s 2ms/step - loss: 1.2956e-04 - acc: 0.9999 - val_loss: 4.6634 - val_acc: 0.6548\n",
            "Epoch 211/300\n",
            "625/625 [==============================] - 1s 2ms/step - loss: 1.2053e-04 - acc: 0.9999 - val_loss: 4.6709 - val_acc: 0.6550\n",
            "Epoch 212/300\n",
            "625/625 [==============================] - 1s 2ms/step - loss: 1.2371e-04 - acc: 0.9999 - val_loss: 4.6829 - val_acc: 0.6558\n",
            "Epoch 213/300\n",
            "625/625 [==============================] - 1s 2ms/step - loss: 1.2063e-04 - acc: 0.9999 - val_loss: 4.6934 - val_acc: 0.6556\n",
            "Epoch 214/300\n",
            "625/625 [==============================] - 1s 2ms/step - loss: 1.7790e-04 - acc: 0.9999 - val_loss: 4.7017 - val_acc: 0.6556\n",
            "Epoch 215/300\n",
            "625/625 [==============================] - 1s 2ms/step - loss: 1.7600e-04 - acc: 0.9999 - val_loss: 4.7108 - val_acc: 0.6552\n",
            "Epoch 216/300\n",
            "625/625 [==============================] - 1s 2ms/step - loss: 1.5958e-04 - acc: 0.9999 - val_loss: 4.7199 - val_acc: 0.6558\n",
            "Epoch 217/300\n",
            "625/625 [==============================] - 1s 2ms/step - loss: 1.1425e-04 - acc: 0.9999 - val_loss: 4.7270 - val_acc: 0.6558\n",
            "Epoch 218/300\n",
            "625/625 [==============================] - 1s 2ms/step - loss: 1.7958e-04 - acc: 0.9999 - val_loss: 4.7375 - val_acc: 0.6550\n",
            "Epoch 219/300\n",
            "625/625 [==============================] - 1s 2ms/step - loss: 1.7939e-04 - acc: 0.9999 - val_loss: 4.7427 - val_acc: 0.6562\n",
            "Epoch 220/300\n",
            "625/625 [==============================] - 1s 2ms/step - loss: 1.2606e-04 - acc: 0.9999 - val_loss: 4.7495 - val_acc: 0.6556\n",
            "Epoch 221/300\n",
            "625/625 [==============================] - 1s 2ms/step - loss: 1.6984e-04 - acc: 0.9999 - val_loss: 4.7552 - val_acc: 0.6554\n",
            "Epoch 222/300\n",
            "625/625 [==============================] - 1s 2ms/step - loss: 1.2551e-04 - acc: 0.9999 - val_loss: 4.7632 - val_acc: 0.6562\n",
            "Epoch 223/300\n",
            "625/625 [==============================] - 1s 2ms/step - loss: 1.2577e-04 - acc: 0.9999 - val_loss: 4.7684 - val_acc: 0.6558\n",
            "Epoch 224/300\n",
            "625/625 [==============================] - 1s 2ms/step - loss: 1.6923e-04 - acc: 0.9999 - val_loss: 4.7749 - val_acc: 0.6554\n",
            "Epoch 225/300\n",
            "625/625 [==============================] - 1s 2ms/step - loss: 1.6514e-04 - acc: 0.9999 - val_loss: 4.7817 - val_acc: 0.6552\n",
            "Epoch 226/300\n",
            "625/625 [==============================] - 1s 2ms/step - loss: 1.6642e-04 - acc: 0.9999 - val_loss: 4.7868 - val_acc: 0.6562\n",
            "Epoch 227/300\n",
            "625/625 [==============================] - 1s 2ms/step - loss: 1.0737e-04 - acc: 0.9999 - val_loss: 4.7941 - val_acc: 0.6558\n",
            "Epoch 228/300\n",
            "625/625 [==============================] - 1s 2ms/step - loss: 1.1389e-04 - acc: 0.9999 - val_loss: 4.7994 - val_acc: 0.6560\n",
            "Epoch 229/300\n",
            "625/625 [==============================] - 1s 2ms/step - loss: 1.3523e-04 - acc: 0.9999 - val_loss: 4.8071 - val_acc: 0.6562\n",
            "Epoch 230/300\n",
            "625/625 [==============================] - 1s 2ms/step - loss: 1.1090e-04 - acc: 0.9999 - val_loss: 4.8115 - val_acc: 0.6558\n",
            "Epoch 231/300\n",
            "625/625 [==============================] - 1s 2ms/step - loss: 1.1413e-04 - acc: 0.9999 - val_loss: 4.8151 - val_acc: 0.6564\n",
            "Epoch 232/300\n",
            "625/625 [==============================] - 1s 2ms/step - loss: 1.0717e-04 - acc: 0.9999 - val_loss: 4.8207 - val_acc: 0.6570\n",
            "Epoch 233/300\n",
            "625/625 [==============================] - 1s 2ms/step - loss: 1.1480e-04 - acc: 0.9999 - val_loss: 4.8238 - val_acc: 0.6564\n",
            "Epoch 234/300\n",
            "625/625 [==============================] - 1s 2ms/step - loss: 1.1433e-04 - acc: 0.9999 - val_loss: 4.8270 - val_acc: 0.6562\n",
            "Epoch 235/300\n",
            "625/625 [==============================] - 1s 2ms/step - loss: 1.1537e-04 - acc: 0.9999 - val_loss: 4.8336 - val_acc: 0.6568\n",
            "Epoch 236/300\n",
            "625/625 [==============================] - 1s 2ms/step - loss: 1.1519e-04 - acc: 0.9999 - val_loss: 4.8383 - val_acc: 0.6560\n",
            "Epoch 237/300\n",
            "625/625 [==============================] - 1s 2ms/step - loss: 1.5079e-04 - acc: 0.9999 - val_loss: 4.8435 - val_acc: 0.6568\n",
            "Epoch 238/300\n",
            "625/625 [==============================] - 1s 2ms/step - loss: 1.1599e-04 - acc: 0.9999 - val_loss: 4.8498 - val_acc: 0.6570\n",
            "Epoch 239/300\n",
            "625/625 [==============================] - 1s 2ms/step - loss: 1.1609e-04 - acc: 0.9999 - val_loss: 4.8521 - val_acc: 0.6568\n",
            "Epoch 240/300\n",
            "625/625 [==============================] - 1s 2ms/step - loss: 1.4949e-04 - acc: 0.9999 - val_loss: 4.8579 - val_acc: 0.6568\n",
            "Epoch 241/300\n",
            "625/625 [==============================] - 1s 2ms/step - loss: 1.1301e-04 - acc: 0.9999 - val_loss: 4.8606 - val_acc: 0.6564\n",
            "Epoch 242/300\n",
            "625/625 [==============================] - 1s 2ms/step - loss: 1.1655e-04 - acc: 0.9999 - val_loss: 4.8653 - val_acc: 0.6570\n",
            "Epoch 243/300\n",
            "625/625 [==============================] - 1s 2ms/step - loss: 1.5380e-04 - acc: 0.9999 - val_loss: 4.8712 - val_acc: 0.6572\n",
            "Epoch 244/300\n",
            "625/625 [==============================] - 1s 2ms/step - loss: 1.1669e-04 - acc: 0.9999 - val_loss: 4.8750 - val_acc: 0.6572\n",
            "Epoch 245/300\n",
            "625/625 [==============================] - 1s 2ms/step - loss: 1.1611e-04 - acc: 0.9999 - val_loss: 4.8784 - val_acc: 0.6570\n",
            "Epoch 246/300\n",
            "625/625 [==============================] - 1s 2ms/step - loss: 1.5143e-04 - acc: 0.9999 - val_loss: 4.8845 - val_acc: 0.6574\n",
            "Epoch 247/300\n",
            "625/625 [==============================] - 1s 2ms/step - loss: 1.1620e-04 - acc: 0.9999 - val_loss: 4.8876 - val_acc: 0.6570\n",
            "Epoch 248/300\n",
            "625/625 [==============================] - 1s 2ms/step - loss: 1.1626e-04 - acc: 0.9999 - val_loss: 4.8924 - val_acc: 0.6572\n",
            "Epoch 249/300\n",
            "625/625 [==============================] - 1s 2ms/step - loss: 1.5218e-04 - acc: 0.9999 - val_loss: 4.8950 - val_acc: 0.6576\n",
            "Epoch 250/300\n",
            "625/625 [==============================] - 1s 2ms/step - loss: 1.1649e-04 - acc: 0.9999 - val_loss: 4.8995 - val_acc: 0.6574\n",
            "Epoch 251/300\n",
            "625/625 [==============================] - 1s 2ms/step - loss: 1.1714e-04 - acc: 0.9999 - val_loss: 4.9033 - val_acc: 0.6574\n",
            "Epoch 252/300\n",
            "625/625 [==============================] - 1s 2ms/step - loss: 1.5441e-04 - acc: 0.9999 - val_loss: 4.9078 - val_acc: 0.6574\n",
            "Epoch 253/300\n",
            "625/625 [==============================] - 1s 2ms/step - loss: 1.1781e-04 - acc: 0.9999 - val_loss: 4.9115 - val_acc: 0.6572\n",
            "Epoch 254/300\n",
            "625/625 [==============================] - 1s 2ms/step - loss: 1.3832e-04 - acc: 0.9999 - val_loss: 4.9144 - val_acc: 0.6572\n",
            "Epoch 255/300\n",
            "625/625 [==============================] - 1s 2ms/step - loss: 1.4010e-04 - acc: 0.9999 - val_loss: 4.9198 - val_acc: 0.6572\n",
            "Epoch 256/300\n",
            "625/625 [==============================] - 1s 2ms/step - loss: 1.1510e-04 - acc: 0.9999 - val_loss: 4.9223 - val_acc: 0.6574\n",
            "Epoch 257/300\n",
            "625/625 [==============================] - 1s 2ms/step - loss: 1.1480e-04 - acc: 0.9999 - val_loss: 4.9256 - val_acc: 0.6574\n",
            "Epoch 258/300\n",
            "625/625 [==============================] - 1s 2ms/step - loss: 1.1448e-04 - acc: 0.9999 - val_loss: 4.9278 - val_acc: 0.6574\n",
            "Epoch 259/300\n",
            "625/625 [==============================] - 1s 2ms/step - loss: 1.4487e-04 - acc: 0.9999 - val_loss: 4.9305 - val_acc: 0.6576\n",
            "Epoch 260/300\n",
            "625/625 [==============================] - 1s 2ms/step - loss: 1.4783e-04 - acc: 0.9999 - val_loss: 4.9344 - val_acc: 0.6574\n",
            "Epoch 261/300\n",
            "625/625 [==============================] - 1s 2ms/step - loss: 1.4751e-04 - acc: 0.9999 - val_loss: 4.9374 - val_acc: 0.6576\n",
            "Epoch 262/300\n",
            "625/625 [==============================] - 1s 2ms/step - loss: 1.1533e-04 - acc: 0.9999 - val_loss: 4.9400 - val_acc: 0.6574\n",
            "Epoch 263/300\n",
            "625/625 [==============================] - 1s 2ms/step - loss: 1.1467e-04 - acc: 0.9999 - val_loss: 4.9443 - val_acc: 0.6578\n",
            "Epoch 264/300\n",
            "625/625 [==============================] - 1s 2ms/step - loss: 1.1712e-04 - acc: 0.9999 - val_loss: 4.9471 - val_acc: 0.6578\n",
            "Epoch 265/300\n",
            "625/625 [==============================] - 1s 2ms/step - loss: 1.1556e-04 - acc: 0.9999 - val_loss: 4.9492 - val_acc: 0.6574\n",
            "Epoch 266/300\n",
            "625/625 [==============================] - 1s 2ms/step - loss: 1.1598e-04 - acc: 0.9999 - val_loss: 4.9514 - val_acc: 0.6576\n",
            "Epoch 267/300\n",
            "625/625 [==============================] - 1s 2ms/step - loss: 1.5272e-04 - acc: 0.9999 - val_loss: 4.9558 - val_acc: 0.6578\n",
            "Epoch 268/300\n",
            "625/625 [==============================] - 2s 3ms/step - loss: 1.5246e-04 - acc: 0.9999 - val_loss: 4.9586 - val_acc: 0.6578\n",
            "Epoch 269/300\n",
            "625/625 [==============================] - 2s 3ms/step - loss: 1.2871e-04 - acc: 0.9999 - val_loss: 4.9611 - val_acc: 0.6574\n",
            "Epoch 270/300\n",
            "625/625 [==============================] - 1s 2ms/step - loss: 1.3705e-04 - acc: 0.9999 - val_loss: 4.9632 - val_acc: 0.6576\n",
            "Epoch 271/300\n",
            "625/625 [==============================] - 1s 2ms/step - loss: 1.3876e-04 - acc: 0.9999 - val_loss: 4.9662 - val_acc: 0.6574\n",
            "Epoch 272/300\n",
            "625/625 [==============================] - 1s 2ms/step - loss: 1.3793e-04 - acc: 0.9999 - val_loss: 4.9692 - val_acc: 0.6572\n",
            "Epoch 273/300\n",
            "625/625 [==============================] - 1s 2ms/step - loss: 1.1469e-04 - acc: 0.9999 - val_loss: 4.9714 - val_acc: 0.6572\n",
            "Epoch 274/300\n",
            "625/625 [==============================] - 1s 2ms/step - loss: 1.1515e-04 - acc: 0.9999 - val_loss: 4.9739 - val_acc: 0.6572\n",
            "Epoch 275/300\n",
            "625/625 [==============================] - 1s 2ms/step - loss: 1.1518e-04 - acc: 0.9999 - val_loss: 4.9768 - val_acc: 0.6572\n",
            "Epoch 276/300\n",
            "625/625 [==============================] - 1s 2ms/step - loss: 1.3997e-04 - acc: 0.9999 - val_loss: 4.9787 - val_acc: 0.6574\n",
            "Epoch 277/300\n",
            "625/625 [==============================] - 1s 2ms/step - loss: 1.1524e-04 - acc: 0.9999 - val_loss: 4.9816 - val_acc: 0.6574\n",
            "Epoch 278/300\n",
            "625/625 [==============================] - 1s 2ms/step - loss: 1.3861e-04 - acc: 0.9999 - val_loss: 4.9830 - val_acc: 0.6570\n",
            "Epoch 279/300\n",
            "625/625 [==============================] - 1s 2ms/step - loss: 1.1525e-04 - acc: 0.9999 - val_loss: 4.9862 - val_acc: 0.6570\n",
            "Epoch 280/300\n",
            "625/625 [==============================] - 1s 2ms/step - loss: 1.3649e-04 - acc: 0.9999 - val_loss: 4.9886 - val_acc: 0.6578\n",
            "Epoch 281/300\n",
            "625/625 [==============================] - 1s 2ms/step - loss: 1.3953e-04 - acc: 0.9999 - val_loss: 4.9908 - val_acc: 0.6578\n",
            "Epoch 282/300\n",
            "625/625 [==============================] - 1s 2ms/step - loss: 1.3711e-04 - acc: 0.9999 - val_loss: 4.9932 - val_acc: 0.6578\n",
            "Epoch 283/300\n",
            "625/625 [==============================] - 1s 2ms/step - loss: 1.1467e-04 - acc: 0.9999 - val_loss: 4.9950 - val_acc: 0.6578\n",
            "Epoch 284/300\n",
            "625/625 [==============================] - 2s 3ms/step - loss: 1.3766e-04 - acc: 0.9999 - val_loss: 4.9974 - val_acc: 0.6578\n",
            "Epoch 285/300\n",
            "625/625 [==============================] - 2s 3ms/step - loss: 1.3890e-04 - acc: 0.9999 - val_loss: 5.0002 - val_acc: 0.6582\n",
            "Epoch 286/300\n",
            "625/625 [==============================] - 2s 3ms/step - loss: 1.1043e-04 - acc: 0.9999 - val_loss: 5.0019 - val_acc: 0.6576\n",
            "Epoch 287/300\n",
            "625/625 [==============================] - 2s 3ms/step - loss: 1.1554e-04 - acc: 0.9999 - val_loss: 5.0040 - val_acc: 0.6580\n",
            "Epoch 288/300\n",
            "625/625 [==============================] - 2s 3ms/step - loss: 1.3986e-04 - acc: 0.9999 - val_loss: 5.0063 - val_acc: 0.6578\n",
            "Epoch 289/300\n",
            "625/625 [==============================] - 2s 3ms/step - loss: 1.4064e-04 - acc: 0.9999 - val_loss: 5.0089 - val_acc: 0.6578\n",
            "Epoch 290/300\n",
            "625/625 [==============================] - 1s 2ms/step - loss: 1.4278e-04 - acc: 0.9999 - val_loss: 5.0115 - val_acc: 0.6578\n",
            "Epoch 291/300\n",
            "625/625 [==============================] - 1s 2ms/step - loss: 1.1560e-04 - acc: 0.9999 - val_loss: 5.0143 - val_acc: 0.6582\n",
            "Epoch 292/300\n",
            "625/625 [==============================] - 1s 2ms/step - loss: 1.1553e-04 - acc: 0.9999 - val_loss: 5.0155 - val_acc: 0.6584\n",
            "Epoch 293/300\n",
            "625/625 [==============================] - 1s 2ms/step - loss: 1.3959e-04 - acc: 0.9999 - val_loss: 5.0187 - val_acc: 0.6576\n",
            "Epoch 294/300\n",
            "625/625 [==============================] - 1s 2ms/step - loss: 1.1555e-04 - acc: 0.9999 - val_loss: 5.0202 - val_acc: 0.6580\n",
            "Epoch 295/300\n",
            "625/625 [==============================] - 1s 2ms/step - loss: 1.1560e-04 - acc: 0.9999 - val_loss: 5.0225 - val_acc: 0.6578\n",
            "Epoch 296/300\n",
            "625/625 [==============================] - 1s 2ms/step - loss: 1.1581e-04 - acc: 0.9999 - val_loss: 5.0249 - val_acc: 0.6582\n",
            "Epoch 297/300\n",
            "625/625 [==============================] - 1s 2ms/step - loss: 1.1576e-04 - acc: 0.9999 - val_loss: 5.0265 - val_acc: 0.6578\n",
            "Epoch 298/300\n",
            "625/625 [==============================] - 1s 2ms/step - loss: 1.1573e-04 - acc: 0.9999 - val_loss: 5.0283 - val_acc: 0.6578\n",
            "Epoch 299/300\n",
            "625/625 [==============================] - 1s 2ms/step - loss: 1.1578e-04 - acc: 0.9999 - val_loss: 5.0317 - val_acc: 0.6580\n",
            "Epoch 300/300\n",
            "625/625 [==============================] - 1s 2ms/step - loss: 1.4340e-04 - acc: 0.9999 - val_loss: 5.0329 - val_acc: 0.6572\n"
          ]
        }
      ]
    },
    {
      "cell_type": "code",
      "source": [
        "from google.colab import drive\n",
        "drive.mount('/content/drive')"
      ],
      "metadata": {
        "colab": {
          "base_uri": "https://localhost:8080/"
        },
        "id": "ou4AsxcmofjC",
        "outputId": "cca6068b-1ce0-43b2-cf21-ed9d513671e9"
      },
      "execution_count": 62,
      "outputs": [
        {
          "output_type": "stream",
          "name": "stdout",
          "text": [
            "Mounted at /content/drive\n"
          ]
        }
      ]
    },
    {
      "cell_type": "code",
      "source": [
        "# 원본 IMDB 텍스트 내려받기\n",
        "import os\n",
        "\n",
        "imdb_dir = '/content/drive/MyDrive/딥러닝 프레임워크실무/06. 딥러닝/NLP/aclImdb'\n",
        "train_dir = os.path.join(imdb_dir, 'train')\n",
        "\n",
        "labels = []\n",
        "texts = []\n",
        "\n",
        "for label_type in ['neg', 'pos']:\n",
        "    dir_name = os.path.join(train_dir, label_type)\n",
        "    for fname in os.listdir(dir_name):\n",
        "        if fname[-4:] == '.txt':\n",
        "            f = open(os.path.join(dir_name, fname), encoding='utf8')\n",
        "            texts.append(f.read())\n",
        "            f.close()\n",
        "            if label_type == 'neg':\n",
        "                labels.append(0)\n",
        "            else:\n",
        "                labels.append(1)"
      ],
      "metadata": {
        "id": "II8d85dbjWP3"
      },
      "execution_count": 66,
      "outputs": []
    },
    {
      "cell_type": "code",
      "source": [
        "# 데이터 토큰화\n",
        "from keras.preprocessing.text import Tokenizer\n",
        "from keras.preprocessing.sequence import pad_sequences\n",
        "import numpy as np\n",
        "\n",
        "maxlen = 100  # 100개 단어 이후는 버립니다\n",
        "training_samples = 200  # 훈련 샘플은 200개입니다\n",
        "validation_samples = 10000  # 검증 샘플은 10,000개입니다\n",
        "max_words = 10000  # 데이터셋에서 가장 빈도 높은 10,000개의 단어만 사용합니다\n",
        "\n",
        "tokenizer = Tokenizer(num_words=max_words)\n",
        "tokenizer.fit_on_texts(texts)\n",
        "sequences = tokenizer.texts_to_sequences(texts)\n",
        "\n",
        "word_index = tokenizer.word_index\n",
        "print('%s개의 고유한 토큰을 찾았습니다.' % len(word_index))\n",
        "\n",
        "data = pad_sequences(sequences, maxlen=maxlen)\n",
        "\n",
        "labels = np.asarray(labels)\n",
        "print('데이터 텐서의 크기:', data.shape)\n",
        "print('레이블 텐서의 크기:', labels.shape)\n",
        "\n",
        "# 데이터를 훈련 세트와 검증 세트로 분할합니다.\n",
        "# 샘플이 순서대로 있기 때문에 (부정 샘플이 모두 나온 후에 긍정 샘플이 옵니다) \n",
        "# 먼저 데이터를 섞습니다.\n",
        "indices = np.arange(data.shape[0])\n",
        "np.random.shuffle(indices)\n",
        "data = data[indices]\n",
        "labels = labels[indices]\n",
        "\n",
        "x_train = data[:training_samples]\n",
        "y_train = labels[:training_samples]\n",
        "x_val = data[training_samples: training_samples + validation_samples]\n",
        "y_val = labels[training_samples: training_samples + validation_samples]"
      ],
      "metadata": {
        "colab": {
          "base_uri": "https://localhost:8080/"
        },
        "id": "IQWU8lKmot-C",
        "outputId": "e141c70c-c7a9-499e-92f9-906bc53a83aa"
      },
      "execution_count": 67,
      "outputs": [
        {
          "output_type": "stream",
          "name": "stdout",
          "text": [
            "0개의 고유한 토큰을 찾았습니다.\n",
            "데이터 텐서의 크기: (0, 100)\n",
            "레이블 텐서의 크기: (0,)\n"
          ]
        }
      ]
    },
    {
      "cell_type": "code",
      "source": [
        "glove_dir = './datasets/'\n",
        "\n",
        "embeddings_index = {}\n",
        "f = open(os.path.join(glove_dir, 'glove.6B.100d.txt'), encoding=\"utf8\")\n",
        "for line in f:\n",
        "    values = line.split()\n",
        "    word = values[0]\n",
        "    coefs = np.asarray(values[1:], dtype='float32')\n",
        "    embeddings_index[word] = coefs\n",
        "f.close()\n",
        "\n",
        "print('%s개의 단어 벡터를 찾았습니다.' % len(embeddings_index))"
      ],
      "metadata": {
        "id": "uZmJF_Cbozdf"
      },
      "execution_count": null,
      "outputs": []
    },
    {
      "cell_type": "code",
      "source": [
        "embedding_dim = 100\n",
        "\n",
        "embedding_matrix = np.zeros((max_words, embedding_dim))\n",
        "for word, i in word_index.items():\n",
        "    embedding_vector = embeddings_index.get(word)\n",
        "    if i < max_words:\n",
        "        if embedding_vector is not None:\n",
        "            # 임베딩 인덱스에 없는 단어는 모두 0이 됩니다.\n",
        "            embedding_matrix[i] = embedding_vector"
      ],
      "metadata": {
        "id": "q99gwqO0qGbD"
      },
      "execution_count": null,
      "outputs": []
    },
    {
      "cell_type": "code",
      "source": [
        "from keras.models import Sequential\n",
        "from keras.layers import Embedding, Flatten, Dense\n",
        "\n",
        "model = Sequential()\n",
        "model.add(Embedding(max_words, embedding_dim, input_length=maxlen))\n",
        "model.add(Flatten())\n",
        "model.add(Dense(32, activation='relu'))\n",
        "model.add(Dense(1, activation='sigmoid'))\n",
        "model.summary()"
      ],
      "metadata": {
        "id": "ZUc2hdKRqGdj"
      },
      "execution_count": null,
      "outputs": []
    },
    {
      "cell_type": "code",
      "source": [
        "model.layers[0].set_weights([embedding_matrix])\n",
        "model.layers[0].trainable = False"
      ],
      "metadata": {
        "id": "lH5sNBPKqGgS"
      },
      "execution_count": null,
      "outputs": []
    },
    {
      "cell_type": "code",
      "source": [
        "model.compile(optimizer='rmsprop',\n",
        "              loss='binary_crossentropy',\n",
        "              metrics=['acc'])\n",
        "history = model.fit(x_train, y_train,\n",
        "                    epochs=10,\n",
        "                    batch_size=32,\n",
        "                    validation_data=(x_val, y_val))\n",
        "model.save_weights('pre_trained_glove_model.h5')"
      ],
      "metadata": {
        "id": "8EDKGHoxqGjF"
      },
      "execution_count": null,
      "outputs": []
    },
    {
      "cell_type": "code",
      "source": [
        "import matplotlib.pyplot as plt\n",
        "\n",
        "acc = history.history['acc']\n",
        "val_acc = history.history['val_acc']\n",
        "loss = history.history['loss']\n",
        "val_loss = history.history['val_loss']\n",
        "\n",
        "epochs = range(1, len(acc) + 1)\n",
        "\n",
        "plt.plot(epochs, acc, 'bo', label='Training acc')\n",
        "plt.plot(epochs, val_acc, 'b', label='Validation acc')\n",
        "plt.title('Training and validation accuracy')\n",
        "plt.legend()\n",
        "\n",
        "plt.figure()\n",
        "\n",
        "plt.plot(epochs, loss, 'bo', label='Training loss')\n",
        "plt.plot(epochs, val_loss, 'b', label='Validation loss')\n",
        "plt.title('Training and validation loss')\n",
        "plt.legend()\n",
        "\n",
        "plt.show()"
      ],
      "metadata": {
        "id": "1y0cj6wEqGlz"
      },
      "execution_count": null,
      "outputs": []
    },
    {
      "cell_type": "code",
      "source": [
        "from keras.models import Sequential\n",
        "from keras.layers import Embedding, Flatten, Dense\n",
        "\n",
        "model = Sequential()\n",
        "model.add(Embedding(max_words, embedding_dim, input_length=maxlen))\n",
        "model.add(Flatten())\n",
        "model.add(Dense(32, activation='relu'))\n",
        "model.add(Dense(1, activation='sigmoid'))\n",
        "model.summary()\n",
        "\n",
        "model.compile(optimizer='rmsprop',\n",
        "              loss='binary_crossentropy',\n",
        "              metrics=['acc'])\n",
        "history = model.fit(x_train, y_train,\n",
        "                    epochs=10,\n",
        "                    batch_size=32,\n",
        "                    validation_data=(x_val, y_val))"
      ],
      "metadata": {
        "id": "-uavXLrJqGo1"
      },
      "execution_count": null,
      "outputs": []
    },
    {
      "cell_type": "code",
      "source": [
        "acc = history.history['acc']\n",
        "val_acc = history.history['val_acc']\n",
        "loss = history.history['loss']\n",
        "val_loss = history.history['val_loss']\n",
        "\n",
        "epochs = range(1, len(acc) + 1)\n",
        "\n",
        "plt.plot(epochs, acc, 'bo', label='Training acc')\n",
        "plt.plot(epochs, val_acc, 'b', label='Validation acc')\n",
        "plt.title('Training and validation accuracy')\n",
        "plt.legend()\n",
        "\n",
        "plt.figure()\n",
        "\n",
        "plt.plot(epochs, loss, 'bo', label='Training loss')\n",
        "plt.plot(epochs, val_loss, 'b', label='Validation loss')\n",
        "plt.title('Training and validation loss')\n",
        "plt.legend()\n",
        "\n",
        "plt.show()"
      ],
      "metadata": {
        "id": "myxSSSZpqPZ7"
      },
      "execution_count": null,
      "outputs": []
    },
    {
      "cell_type": "code",
      "source": [
        "training_samples = 2000\n",
        "x_train = data[:training_samples]\n",
        "y_train = labels[:training_samples]\n",
        "x_val = data[training_samples: training_samples + validation_samples]\n",
        "y_val = labels[training_samples: training_samples + validation_samples]"
      ],
      "metadata": {
        "id": "rrO_dPr3qPcq"
      },
      "execution_count": null,
      "outputs": []
    },
    {
      "cell_type": "code",
      "source": [
        "history = model.fit(x_train, y_train,\n",
        "                    epochs=10,\n",
        "                    batch_size=32,\n",
        "                    validation_data=(x_val, y_val))"
      ],
      "metadata": {
        "id": "A36jaOvBqR6a"
      },
      "execution_count": null,
      "outputs": []
    },
    {
      "cell_type": "code",
      "source": [
        "acc = history.history['acc']\n",
        "val_acc = history.history['val_acc']\n",
        "loss = history.history['loss']\n",
        "val_loss = history.history['val_loss']\n",
        "\n",
        "epochs = range(1, len(acc) + 1)\n",
        "\n",
        "plt.plot(epochs, acc, 'bo', label='Training acc')\n",
        "plt.plot(epochs, val_acc, 'b', label='Validation acc')\n",
        "plt.title('Training and validation accuracy')\n",
        "plt.legend()\n",
        "\n",
        "plt.figure()\n",
        "\n",
        "plt.plot(epochs, loss, 'bo', label='Training loss')\n",
        "plt.plot(epochs, val_loss, 'b', label='Validation loss')\n",
        "plt.title('Training and validation loss')\n",
        "plt.legend()\n",
        "\n",
        "plt.show()"
      ],
      "metadata": {
        "id": "B3LUxzvyqR8r"
      },
      "execution_count": null,
      "outputs": []
    },
    {
      "cell_type": "code",
      "source": [
        "test_dir = os.path.join(imdb_dir, 'test')\n",
        "\n",
        "labels = []\n",
        "texts = []\n",
        "\n",
        "for label_type in ['neg', 'pos']:\n",
        "    dir_name = os.path.join(test_dir, label_type)\n",
        "    for fname in sorted(os.listdir(dir_name)):\n",
        "        if fname[-4:] == '.txt':\n",
        "            f = open(os.path.join(dir_name, fname), encoding=\"utf8\")\n",
        "            texts.append(f.read())\n",
        "            f.close()\n",
        "            if label_type == 'neg':\n",
        "                labels.append(0)\n",
        "            else:\n",
        "                labels.append(1)\n",
        "\n",
        "sequences = tokenizer.texts_to_sequences(texts)\n",
        "x_test = pad_sequences(sequences, maxlen=maxlen)\n",
        "y_test = np.asarray(labels)"
      ],
      "metadata": {
        "id": "dB7ntsAwqR_T"
      },
      "execution_count": null,
      "outputs": []
    },
    {
      "cell_type": "code",
      "source": [
        "model.load_weights('pre_trained_glove_model.h5')\n",
        "model.evaluate(x_test, y_test)"
      ],
      "metadata": {
        "id": "lGAB9m_qqVJT"
      },
      "execution_count": null,
      "outputs": []
    }
  ]
}